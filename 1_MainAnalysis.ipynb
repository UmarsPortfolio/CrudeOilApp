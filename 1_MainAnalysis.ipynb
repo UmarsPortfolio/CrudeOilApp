{
 "cells": [
  {
   "cell_type": "markdown",
   "metadata": {},
   "source": [
    "# GitUp"
   ]
  },
  {
   "cell_type": "code",
   "execution_count": null,
   "metadata": {
    "ExecuteTime": {
     "end_time": "2020-09-27T22:33:00.348860Z",
     "start_time": "2020-09-27T22:32:54.441424Z"
    }
   },
   "outputs": [],
   "source": [
    "!git add .\n",
    "!git commit -m \"App\"\n",
    "!git push"
   ]
  },
  {
   "cell_type": "code",
   "execution_count": null,
   "metadata": {},
   "outputs": [],
   "source": [
    "! conda install -c anaconda requests"
   ]
  },
  {
   "cell_type": "code",
   "execution_count": null,
   "metadata": {
    "ExecuteTime": {
     "end_time": "2020-09-27T22:33:01.852262Z",
     "start_time": "2020-09-27T22:33:00.368033Z"
    }
   },
   "outputs": [],
   "source": [
    "# Libraries\n",
    "from datashop import *\n",
    "from scripts import *\n",
    "import requests\n",
    "import sqlite3\n",
    "import pprint as pp\n",
    "import pdb\n",
    "from statsmodels.tsa.seasonal import seasonal_decompose\n",
    "dep = Depot()\n",
    "import plotly.offline as pyo\n",
    "import plotly.graph_objs as go\n",
    "\n",
    "from statsmodels.graphics.tsaplots import plot_acf,plot_pacf\n",
    "from statsmodels.tsa.holtwinters import SimpleExpSmoothing\n",
    "from statsmodels.tsa.stattools import adfuller,kpss,coint,bds,q_stat,grangercausalitytests,levinson_durbin\n"
   ]
  },
  {
   "cell_type": "code",
   "execution_count": null,
   "metadata": {},
   "outputs": [],
   "source": [
    "from pmdarima.arima import auto_arima\n"
   ]
  },
  {
   "cell_type": "markdown",
   "metadata": {},
   "source": []
  },
  {
   "cell_type": "markdown",
   "metadata": {},
   "source": [
    "# Daily Price"
   ]
  },
  {
   "cell_type": "code",
   "execution_count": null,
   "metadata": {
    "ExecuteTime": {
     "end_time": "2020-09-27T22:34:04.154071Z",
     "start_time": "2020-09-27T22:34:03.381097Z"
    },
    "tags": []
   },
   "outputs": [],
   "source": [
    "desc = ''\n",
    "daily_price = EIA_Series('Daily Price','PET.RWTC.D')\n",
    "dep.ingest(daily_price)\n",
    "\n",
    "x = daily_price.scaled.asfreq(freq='B').fillna(method='ffill')\n",
    "x = x['2015-01-01':'2019-12-01']\n",
    "result = seasonal_decompose(x, model='additive',period=365)  \n",
    "result.plot();"
   ]
  },
  {
   "cell_type": "code",
   "execution_count": null,
   "metadata": {},
   "outputs": [],
   "source": []
  },
  {
   "cell_type": "code",
   "execution_count": null,
   "metadata": {},
   "outputs": [],
   "source": [
    "from statsmodels.tsa.stattools import adfuller\n",
    "dftest = adfuller(x,autolag='AIC')\n",
    "print(dftest)"
   ]
  },
  {
   "cell_type": "markdown",
   "metadata": {},
   "source": [
    "## Auto Arima"
   ]
  },
  {
   "cell_type": "code",
   "execution_count": null,
   "metadata": {},
   "outputs": [],
   "source": [
    "auto_arima(x,start_p=1,start_q=1,max_p = 10,max_q=10,seasonal=True,trace=True,m=365)"
   ]
  },
  {
   "cell_type": "code",
   "execution_count": null,
   "metadata": {},
   "outputs": [],
   "source": [
    "span = 365\n",
    "alpha = 2/(span+1) # Standard span formula\n",
    "\n",
    "\n",
    "\n",
    "model =SimpleExpSmoothing(x)\n",
    "\n",
    "fitted_model = model.fit(\n",
    "    smoothing_level=alpha,\n",
    "    optimized=False)\n",
    "fitted_model = model.fit()\n",
    "\n",
    "daily_price.frame['SimpleExp'] = fitted_model.fittedvalues.shift(-1) \n",
    "\n",
    "df_slice = daily_price.frame[['SimpleExp','scaled_Daily Price']]\n",
    "\n",
    "df_slice['2016-01-01':'2016-06-01'].plot(figsize=(10,20))\n",
    "\n",
    "\n"
   ]
  },
  {
   "cell_type": "markdown",
   "metadata": {},
   "source": [
    "# ARIMA"
   ]
  },
  {
   "cell_type": "code",
   "execution_count": null,
   "metadata": {},
   "outputs": [],
   "source": []
  },
  {
   "cell_type": "markdown",
   "metadata": {},
   "source": [
    "# Daily Production"
   ]
  },
  {
   "cell_type": "code",
   "execution_count": null,
   "metadata": {
    "ExecuteTime": {
     "end_time": "2020-09-18T01:49:27.918699Z",
     "start_time": "2020-09-18T01:49:27.154261Z"
    }
   },
   "outputs": [],
   "source": [
    "desc = ''\n",
    "daily_production = EIA_Series('Weekly Stocks','PET.WTTSTUS1.W')\n",
    "dep.ingest(daily_production)\n",
    "\n",
    "x2 = daily_production.scaled.asfreq(freq='B').fillna(method='ffill')\n",
    "x2 = x2['2015-01-01':'2019-12-01']\n",
    "result = seasonal_decompose(x2, model='additive',period=365)  \n",
    "result.plot();"
   ]
  },
  {
   "cell_type": "code",
   "execution_count": null,
   "metadata": {},
   "outputs": [],
   "source": [
    "granger_frame = pd.concat([x,x2],axis=1)\n",
    "granger_frame.columns = ['price','stocks']\n",
    "granger_frame.head()\n",
    "g_test = grangercausalitytests(granger_frame,maxlag=90);"
   ]
  },
  {
   "cell_type": "code",
   "execution_count": null,
   "metadata": {},
   "outputs": [],
   "source": [
    "print(g_test[1])"
   ]
  },
  {
   "cell_type": "code",
   "execution_count": null,
   "metadata": {},
   "outputs": [],
   "source": [
    "import chart_studio.plotly as py\n",
    "import plotly.figure_factory as ff\n",
    "import plotly.graph_objects as go\n",
    "import pandas as pd\n",
    "import plotly\n",
    "\n",
    "y = x.index\n",
    "\n",
    "trace1 = go.Scatter(\n",
    "        x=y,\n",
    "        y=x,\n",
    "        mode='lines',\n",
    "        name='Spot Price'\n",
    ")\n",
    "\n",
    "trace2 = go.Scatter(\n",
    "    x=x2.index,\n",
    "    y=x2,\n",
    "    mode='lines',\n",
    "    name = 'Weekly Inventory')\n",
    "\n",
    "data = [trace1,trace2]\n",
    "\n",
    "layout = go.Layout(\n",
    "    title = 'Daily Stocks',\n",
    "    xaxis = {\n",
    "        'title':'Time',\n",
    "    },\n",
    "    yaxis = dict(\n",
    "        title='Scaled price'\n",
    "        ),\n",
    "    hovermode='closest'\n",
    ")\n",
    "\n",
    "fig = go.Figure(data=data, layout = layout)\n",
    "\n",
    "plotly.offline.iplot(fig,filename='daily_price')"
   ]
  },
  {
   "cell_type": "markdown",
   "metadata": {},
   "source": [
    "# Monthly Crude Imports"
   ]
  },
  {
   "cell_type": "code",
   "execution_count": null,
   "metadata": {
    "ExecuteTime": {
     "end_time": "2020-09-16T01:20:39.331311Z",
     "start_time": "2020-09-16T01:20:38.805450Z"
    },
    "scrolled": false
   },
   "outputs": [],
   "source": [
    "desc = 'US imports of crude oil, monthly'\n",
    "\n",
    "monthly_imports = EIA_Series('Monthly Imports','PET.MCRIMUS1.M',desc,date_format='%Y%m' )\n",
    "dep.ingest(monthly_imports)\n",
    "\n",
    "x = monthly_imports.scaled\n",
    "x = x['2000-01-01':]\n",
    "\n",
    "result = seasonal_decompose(x, model='additive',period=12)  \n",
    "result.plot();\n"
   ]
  },
  {
   "cell_type": "code",
   "execution_count": null,
   "metadata": {},
   "outputs": [],
   "source": [
    "ds = Dataset(dep.originals)"
   ]
  },
  {
   "cell_type": "code",
   "execution_count": null,
   "metadata": {},
   "outputs": [],
   "source": [
    "ds['Monthly Imports'].show_report()"
   ]
  },
  {
   "cell_type": "markdown",
   "metadata": {},
   "source": [
    "## Dow Jones"
   ]
  },
  {
   "cell_type": "code",
   "execution_count": null,
   "metadata": {},
   "outputs": [],
   "source": []
  },
  {
   "cell_type": "code",
   "execution_count": null,
   "metadata": {},
   "outputs": [],
   "source": []
  },
  {
   "cell_type": "code",
   "execution_count": null,
   "metadata": {
    "ExecuteTime": {
     "end_time": "2020-09-16T06:09:22.291584Z",
     "start_time": "2020-09-16T06:09:22.256135Z"
    }
   },
   "outputs": [],
   "source": [
    "df_dow = pd.read_csv('data/dji.csv')\n",
    "\n",
    "df_dow['Date']=pd.to_datetime(df_dow['Date'])\n",
    "        \n",
    "df_dow.set_index(df_dow['Date'],drop=True,inplace=True)\n",
    "\n",
    "df_dow.columns"
   ]
  },
  {
   "cell_type": "code",
   "execution_count": null,
   "metadata": {},
   "outputs": [],
   "source": [
    "desc = 'US imports of crude oil, monthly'\n",
    "\n",
    "x = df_dow['Close']\n",
    "x = x['2000-01-01':]\n",
    "\n",
    "result = seasonal_decompose(x, model='additive',period=365)  \n",
    "result.plot();"
   ]
  },
  {
   "cell_type": "code",
   "execution_count": null,
   "metadata": {
    "ExecuteTime": {
     "end_time": "2020-09-16T06:11:31.610075Z",
     "start_time": "2020-09-16T06:11:31.361191Z"
    },
    "scrolled": true
   },
   "outputs": [],
   "source": [
    "df_dow['Close'].plot()"
   ]
  },
  {
   "cell_type": "code",
   "execution_count": null,
   "metadata": {
    "ExecuteTime": {
     "end_time": "2020-09-16T06:27:40.975297Z",
     "start_time": "2020-09-16T06:27:40.954947Z"
    }
   },
   "outputs": [],
   "source": [
    "df_dow['delta_dow']  = df_dow['Close'].diff()\n",
    "\n",
    "X = df_dow[['delta_dow']]\n",
    "\n",
    "y = daily_price.series_frame[['deltaDaily Price']]\n",
    "\n",
    "merged = y.merge(X,how='inner',left_index=True,right_index=True)"
   ]
  },
  {
   "cell_type": "code",
   "execution_count": null,
   "metadata": {
    "ExecuteTime": {
     "end_time": "2020-09-16T06:28:33.627938Z",
     "start_time": "2020-09-16T06:28:33.610984Z"
    }
   },
   "outputs": [],
   "source": [
    "merged.head()"
   ]
  },
  {
   "cell_type": "code",
   "execution_count": null,
   "metadata": {
    "ExecuteTime": {
     "end_time": "2020-09-16T06:39:01.864953Z",
     "start_time": "2020-09-16T06:39:01.373216Z"
    }
   },
   "outputs": [],
   "source": [
    "x=merged['deltaDaily Price']\n",
    "y=merged['delta_dow']\n",
    "plt.scatter(x=x,y=y)"
   ]
  },
  {
   "cell_type": "code",
   "execution_count": null,
   "metadata": {
    "ExecuteTime": {
     "end_time": "2020-09-16T06:39:43.673573Z",
     "start_time": "2020-09-16T06:39:41.653076Z"
    }
   },
   "outputs": [],
   "source": [
    "import numpy as np\n",
    "from sklearn.linear_model import LinearRegression\n",
    "\n",
    "model= LinearRegression()"
   ]
  },
  {
   "cell_type": "code",
   "execution_count": null,
   "metadata": {
    "ExecuteTime": {
     "end_time": "2020-09-16T06:40:24.976487Z",
     "start_time": "2020-09-16T06:40:24.955547Z"
    }
   },
   "outputs": [],
   "source": [
    "model.fit(x.reshape(-1,1),y)"
   ]
  },
  {
   "cell_type": "markdown",
   "metadata": {
    "ExecuteTime": {
     "end_time": "2020-09-16T00:33:09.772330Z",
     "start_time": "2020-09-16T00:33:04.524118Z"
    }
   },
   "source": [
    "# To-Do"
   ]
  },
  {
   "cell_type": "markdown",
   "metadata": {},
   "source": [
    "1. Moving averages?\n",
    "2. Correlation between price and:\n",
    "3. Features to add/explore:\n",
    "    a. Active wells?\n",
    "    b. Refinery inputs?\n",
    "    c. consumption?\n",
    "    d. month?\n",
    "    e. \n",
    "    \n"
   ]
  },
  {
   "cell_type": "markdown",
   "metadata": {},
   "source": [
    "# SCRAPS"
   ]
  },
  {
   "cell_type": "code",
   "execution_count": null,
   "metadata": {},
   "outputs": [],
   "source": [
    "\\\n",
    "df_eia=functools.reduce(lambda x,y: x.join(y,how='outer'),frame_list)\n",
    "df_eia.fillna(axis=0,method='ffill',inplace=True)\n",
    "\n",
    "conn = sqlite3.connect('oilstocks.db')\n",
    "c = conn.cursor()\n",
    "\n",
    "for col in df_eia:\n",
    "    df_eia[col]=preprocessing.scale(df_eia[col])\n",
    "\n",
    "df_eia.to_sql(\"scaledstocks\",conn,if_exists='replace')\n",
    "conn.commit()\n",
    "\n",
    "df_eia.to_sql(\"crudestocks\",conn,if_exists='replace')"
   ]
  }
 ],
 "metadata": {
  "kernelspec": {
   "display_name": "Python 3",
   "language": "python",
   "name": "python3"
  },
  "toc": {
   "base_numbering": 1,
   "nav_menu": {},
   "number_sections": true,
   "sideBar": true,
   "skip_h1_title": false,
   "title_cell": "Table of Contents",
   "title_sidebar": "Contents",
   "toc_cell": false,
   "toc_position": {
    "height": "calc(100% - 180px)",
    "left": "10px",
    "top": "150px",
    "width": "512px"
   },
   "toc_section_display": true,
   "toc_window_display": false
  },
  "varInspector": {
   "cols": {
    "lenName": 16,
    "lenType": 16,
    "lenVar": 40
   },
   "kernels_config": {
    "python": {
     "delete_cmd_postfix": "",
     "delete_cmd_prefix": "del ",
     "library": "var_list.py",
     "varRefreshCmd": "print(var_dic_list())"
    },
    "r": {
     "delete_cmd_postfix": ") ",
     "delete_cmd_prefix": "rm(",
     "library": "var_list.r",
     "varRefreshCmd": "cat(var_dic_list()) "
    }
   },
   "types_to_exclude": [
    "module",
    "function",
    "builtin_function_or_method",
    "instance",
    "_Feature"
   ],
   "window_display": false
  }
 },
 "nbformat": 4,
 "nbformat_minor": 4
}