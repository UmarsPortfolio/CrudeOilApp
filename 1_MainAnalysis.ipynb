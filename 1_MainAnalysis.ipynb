{
 "cells": [
  {
   "cell_type": "markdown",
   "metadata": {},
   "source": [
    "# GitUp"
   ]
  },
  {
   "cell_type": "code",
   "execution_count": null,
   "metadata": {
    "ExecuteTime": {
     "end_time": "2020-09-27T22:33:00.348860Z",
     "start_time": "2020-09-27T22:32:54.441424Z"
    }
   },
   "outputs": [],
   "source": [
    "!git add .\n",
    "!git commit -m \"Graphs done pretty much\"\n",
    "!git push"
   ]
  },
  {
   "cell_type": "code",
   "execution_count": 2,
   "metadata": {
    "ExecuteTime": {
     "end_time": "2020-09-27T22:33:01.852262Z",
     "start_time": "2020-09-27T22:33:00.368033Z"
    }
   },
   "outputs": [],
   "source": [
    "# Libraries\n",
    "from datashop import *\n",
    "from scripts import *\n",
    "import requests\n",
    "import sqlite3\n",
    "import pprint as pp\n",
    "import pdb\n",
    "from statsmodels.tsa.seasonal import seasonal_decompose\n",
    "dep = Depot()\n",
    "import plotly.offline as pyo\n",
    "import plotly.graph_objs as go\n",
    "from pmdarima.arima import auto_arima\n",
    "\n",
    "\n",
    "from statsmodels.graphics.tsaplots import plot_acf,plot_pacf\n",
    "from statsmodels.tsa.holtwinters import SimpleExpSmoothing\n",
    "from statsmodels.tsa.stattools import adfuller,kpss,coint,bds,q_stat,grangercausalitytests,levinson_durbin\n"
   ]
  },
  {
   "cell_type": "code",
   "execution_count": null,
   "metadata": {},
   "outputs": [],
   "source": []
  },
  {
   "cell_type": "code",
   "execution_count": 3,
   "metadata": {},
   "outputs": [],
   "source": [
    "daily_price = EIA_Series('Daily Price','PET.RWTC.D')\n",
    "dep.ingest(daily_price)\n",
    "\n",
    "desc = ''\n",
    "daily_production = EIA_Series('Weekly Stocks','PET.WTTSTUS1.W')\n",
    "dep.ingest(daily_production)\n",
    "\n",
    "desc = 'US imports of crude oil, monthly'\n",
    "\n",
    "monthly_imports = EIA_Series('Monthly Imports','PET.MCRIMUS1.M',desc,date_format='%Y%m' )\n",
    "dep.ingest(monthly_imports)\n",
    "\n",
    "weekly_sales = EIA_Series('Product Sold','PET.WRPUPUS2.W')\n",
    "dep.ingest(weekly_sales)\n",
    "\n",
    "conn = sqlite3.connect('data/energydash.db')\n",
    "c = conn.cursor()\n",
    "\n",
    "df = dep.originals['2000-01-01':]\n",
    "df.columns = [x.replace(' ','_') for x in df.columns]\n",
    "df.to_sql(\"original\",conn,if_exists='replace')"
   ]
  },
  {
   "cell_type": "code",
   "execution_count": 4,
   "metadata": {},
   "outputs": [
    {
     "output_type": "display_data",
     "data": {
      "text/plain": "                         type  % empty  unique values  \\\nmain_headline          object     0.02          11479   \nabstract               object     0.56          12176   \ndate_col       datetime64[ns]     0.00           5109   \ndate                   object     0.00           8074   \nurl                    object     0.00          12479   \n\n                                                      1nth_value  \\\nmain_headline                           THE MARKETS: COMMODITIES   \nabstract                                         To the Editor:.   \ndate_col                                     2010-05-29 00:00:00   \ndate                                    2008-06-29T04:00:00+0000   \nurl            https://www.nytimes.com/2005/06/08/politics/bu...   \n\n               1nth_value_%  \\\nmain_headline          1.69   \nabstract               0.76   \ndate_col               0.17   \ndate                   0.15   \nurl                    0.02   \n\n                                                      2nth_value  \\\nmain_headline                                        Corrections   \nabstract                                          To the Editor:   \ndate_col                                     2008-06-29 00:00:00   \ndate                                    2006-04-27T05:00:00+0000   \nurl            https://www.nytimes.com/2010/05/13/us/13spill....   \n\n               2nth_value_%  \\\nmain_headline          0.70   \nabstract               0.12   \ndate_col               0.17   \ndate                   0.13   \nurl                    0.02   \n\n                                                      3nth_value  \\\nmain_headline                            World Business Briefing   \nabstract                                 World Business Briefing   \ndate_col                                     2006-04-27 00:00:00   \ndate                                    2001-05-18T05:00:00+0000   \nurl            https://www.nytimes.com/2002/03/26/business/sh...   \n\n               3nth_value_%  \\\nmain_headline          0.25   \nabstract               0.11   \ndate_col               0.14   \ndate                   0.13   \nurl                    0.02   \n\n                                                      4nth_value  ...  \\\nmain_headline                        The Latest on the Oil Spill  ...   \nabstract                                      By Bloomberg News.  ...   \ndate_col                                     2010-06-19 00:00:00  ...   \ndate                                    2006-05-07T05:00:00+0000  ...   \nurl            https://www.nytimes.com/2010/03/20/business/en...  ...   \n\n                                                      6nth_value 6nth_value_%  \\\nmain_headline                                    BUSINESS DIGEST         0.06   \nabstract                                                  EUROPE         0.05   \ndate_col                                     2006-05-07 00:00:00         0.14   \ndate                                    2000-09-22T05:00:00+0000         0.10   \nurl            https://www.nytimes.com/2000/05/30/nyregion/ga...         0.01   \n\n                                                      7nth_value 7nth_value_%  \\\nmain_headline                 Driving Along, Less Gas in the Car         0.06   \nabstract       In an administration dominated by oilmen and d...         0.04   \ndate_col                                     2010-06-15 00:00:00         0.14   \ndate                                    2006-04-30T05:00:00+0000         0.10   \nurl            https://www.nytimes.com/2008/07/20/us/20patrol...         0.01   \n\n                                                      8nth_value 8nth_value_%  \\\nmain_headline                      Gas Prices: Do Something Real         0.06   \nabstract       Port for Long Island Sound Captain Peter Boynt...         0.03   \ndate_col                                     2001-05-18 00:00:00         0.13   \ndate                                    2006-02-07T05:00:00+0000         0.10   \nurl            https://www.nytimes.com/2009/10/15/business/en...         0.01   \n\n                                                      9nth_value 9nth_value_%  \\\nmain_headline                                           MEMO PAD         0.06   \nabstract                                                       >         0.03   \ndate_col                                     2010-06-17 00:00:00         0.13   \ndate                                    2000-10-17T05:00:00+0000         0.09   \nurl            https://www.nytimes.com/2016/05/09/business/sa...         0.01   \n\n                                                     10nth_value 10nth_value_%  \nmain_headline                    Trying to Wean America From Oil          0.06  \nabstract       The latest on stock market and business news d...          0.03  \ndate_col                                     2010-05-01 00:00:00          0.12  \ndate                                    2006-05-01T05:00:00+0000          0.09  \nurl            https://www.nytimes.com/2006/10/20/world/asia/...          0.01  \n\n[5 rows x 23 columns]",
      "text/html": "<div>\n<style scoped>\n    .dataframe tbody tr th:only-of-type {\n        vertical-align: middle;\n    }\n\n    .dataframe tbody tr th {\n        vertical-align: top;\n    }\n\n    .dataframe thead th {\n        text-align: right;\n    }\n</style>\n<table border=\"1\" class=\"dataframe\">\n  <thead>\n    <tr style=\"text-align: right;\">\n      <th></th>\n      <th>type</th>\n      <th>% empty</th>\n      <th>unique values</th>\n      <th>1nth_value</th>\n      <th>1nth_value_%</th>\n      <th>2nth_value</th>\n      <th>2nth_value_%</th>\n      <th>3nth_value</th>\n      <th>3nth_value_%</th>\n      <th>4nth_value</th>\n      <th>...</th>\n      <th>6nth_value</th>\n      <th>6nth_value_%</th>\n      <th>7nth_value</th>\n      <th>7nth_value_%</th>\n      <th>8nth_value</th>\n      <th>8nth_value_%</th>\n      <th>9nth_value</th>\n      <th>9nth_value_%</th>\n      <th>10nth_value</th>\n      <th>10nth_value_%</th>\n    </tr>\n  </thead>\n  <tbody>\n    <tr>\n      <th>main_headline</th>\n      <td>object</td>\n      <td>0.02</td>\n      <td>11479</td>\n      <td>THE MARKETS: COMMODITIES</td>\n      <td>1.69</td>\n      <td>Corrections</td>\n      <td>0.70</td>\n      <td>World Business Briefing</td>\n      <td>0.25</td>\n      <td>The Latest on the Oil Spill</td>\n      <td>...</td>\n      <td>BUSINESS DIGEST</td>\n      <td>0.06</td>\n      <td>Driving Along, Less Gas in the Car</td>\n      <td>0.06</td>\n      <td>Gas Prices: Do Something Real</td>\n      <td>0.06</td>\n      <td>MEMO PAD</td>\n      <td>0.06</td>\n      <td>Trying to Wean America From Oil</td>\n      <td>0.06</td>\n    </tr>\n    <tr>\n      <th>abstract</th>\n      <td>object</td>\n      <td>0.56</td>\n      <td>12176</td>\n      <td>To the Editor:.</td>\n      <td>0.76</td>\n      <td>To the Editor:</td>\n      <td>0.12</td>\n      <td>World Business Briefing</td>\n      <td>0.11</td>\n      <td>By Bloomberg News.</td>\n      <td>...</td>\n      <td>EUROPE</td>\n      <td>0.05</td>\n      <td>In an administration dominated by oilmen and d...</td>\n      <td>0.04</td>\n      <td>Port for Long Island Sound Captain Peter Boynt...</td>\n      <td>0.03</td>\n      <td>&gt;</td>\n      <td>0.03</td>\n      <td>The latest on stock market and business news d...</td>\n      <td>0.03</td>\n    </tr>\n    <tr>\n      <th>date_col</th>\n      <td>datetime64[ns]</td>\n      <td>0.00</td>\n      <td>5109</td>\n      <td>2010-05-29 00:00:00</td>\n      <td>0.17</td>\n      <td>2008-06-29 00:00:00</td>\n      <td>0.17</td>\n      <td>2006-04-27 00:00:00</td>\n      <td>0.14</td>\n      <td>2010-06-19 00:00:00</td>\n      <td>...</td>\n      <td>2006-05-07 00:00:00</td>\n      <td>0.14</td>\n      <td>2010-06-15 00:00:00</td>\n      <td>0.14</td>\n      <td>2001-05-18 00:00:00</td>\n      <td>0.13</td>\n      <td>2010-06-17 00:00:00</td>\n      <td>0.13</td>\n      <td>2010-05-01 00:00:00</td>\n      <td>0.12</td>\n    </tr>\n    <tr>\n      <th>date</th>\n      <td>object</td>\n      <td>0.00</td>\n      <td>8074</td>\n      <td>2008-06-29T04:00:00+0000</td>\n      <td>0.15</td>\n      <td>2006-04-27T05:00:00+0000</td>\n      <td>0.13</td>\n      <td>2001-05-18T05:00:00+0000</td>\n      <td>0.13</td>\n      <td>2006-05-07T05:00:00+0000</td>\n      <td>...</td>\n      <td>2000-09-22T05:00:00+0000</td>\n      <td>0.10</td>\n      <td>2006-04-30T05:00:00+0000</td>\n      <td>0.10</td>\n      <td>2006-02-07T05:00:00+0000</td>\n      <td>0.10</td>\n      <td>2000-10-17T05:00:00+0000</td>\n      <td>0.09</td>\n      <td>2006-05-01T05:00:00+0000</td>\n      <td>0.09</td>\n    </tr>\n    <tr>\n      <th>url</th>\n      <td>object</td>\n      <td>0.00</td>\n      <td>12479</td>\n      <td>https://www.nytimes.com/2005/06/08/politics/bu...</td>\n      <td>0.02</td>\n      <td>https://www.nytimes.com/2010/05/13/us/13spill....</td>\n      <td>0.02</td>\n      <td>https://www.nytimes.com/2002/03/26/business/sh...</td>\n      <td>0.02</td>\n      <td>https://www.nytimes.com/2010/03/20/business/en...</td>\n      <td>...</td>\n      <td>https://www.nytimes.com/2000/05/30/nyregion/ga...</td>\n      <td>0.01</td>\n      <td>https://www.nytimes.com/2008/07/20/us/20patrol...</td>\n      <td>0.01</td>\n      <td>https://www.nytimes.com/2009/10/15/business/en...</td>\n      <td>0.01</td>\n      <td>https://www.nytimes.com/2016/05/09/business/sa...</td>\n      <td>0.01</td>\n      <td>https://www.nytimes.com/2006/10/20/world/asia/...</td>\n      <td>0.01</td>\n    </tr>\n  </tbody>\n</table>\n<p>5 rows × 23 columns</p>\n</div>"
     },
     "metadata": {}
    }
   ],
   "source": [
    "df_news = pd.read_csv('data/nyt_articles.csv')\n",
    "df_news = df_news[['date','abstract','main_headline','url']]\n",
    "df_news['date_col'] = df_news['date'].str.slice(stop=10)\n",
    "df_news['date_col']=pd.to_datetime( \n",
    "            df_news['date_col'],\n",
    "            format = '%Y-%m-%d'\n",
    "        )\n",
    "display(report(df_news,10))\n",
    "df_news['date_col'] = df_news['date_col'].sort_values()\n",
    "\n",
    "conn = sqlite3.connect('data/energydash.db')\n",
    "c = conn.cursor()\n",
    "\n",
    "df_news.columns = [x.replace(' ','_') for x in df_news.columns]\n",
    "df_news.to_sql(\"news_only\",conn,if_exists='replace')"
   ]
  },
  {
   "cell_type": "code",
   "execution_count": 5,
   "metadata": {},
   "outputs": [
    {
     "output_type": "execute_result",
     "data": {
      "text/plain": [
       "                        date  \\\n",
       "2   2000-12-29T05:00:00+0000   \n",
       "12  2000-12-29T05:00:00+0000   \n",
       "4   2000-12-27T05:00:00+0000   \n",
       "6   2000-12-27T05:00:00+0000   \n",
       "8   2000-12-27T05:00:00+0000   \n",
       "\n",
       "                                             abstract  \\\n",
       "2   Heating oil futures fall after report showing ...   \n",
       "12  Op-Ed article by former Pres Jimmy Carter desc...   \n",
       "4   Heating oil prices for January delivery soar m...   \n",
       "6   Russian government plans to sell 50 million sh...   \n",
       "8   Government reports that Vietnam's economy grew...   \n",
       "\n",
       "                                        main_headline  \\\n",
       "2                            THE MARKETS: COMMODITIES   \n",
       "12     Make This Natural Treasure a National Monument   \n",
       "4                            THE MARKETS: COMMODITIES   \n",
       "6                      AMERICAN SHARE SALE FOR LUKOIL   \n",
       "8   Vietnam's Trade Imbalance And Economy Keep Gro...   \n",
       "\n",
       "                                                  url   date_col  Daily_Price  \\\n",
       "2   https://www.nytimes.com/2000/12/29/business/th... 2000-12-29        26.72   \n",
       "12  https://www.nytimes.com/2000/12/29/opinion/mak... 2000-12-29        26.72   \n",
       "4   https://www.nytimes.com/2000/12/27/business/th... 2000-12-27        26.55   \n",
       "6   https://www.nytimes.com/2000/12/27/business/wo... 2000-12-27        26.55   \n",
       "8   https://www.nytimes.com/2000/12/27/business/vi... 2000-12-27        26.55   \n",
       "\n",
       "    Weekly_Stocks  Monthly_Imports  Product_Sold  \n",
       "2       1455285.0         286114.0       21494.0  \n",
       "12      1455285.0         286114.0       21494.0  \n",
       "4       1466328.0         286114.0       20080.0  \n",
       "6       1466328.0         286114.0       20080.0  \n",
       "8       1466328.0         286114.0       20080.0  "
      ],
      "text/html": "<div>\n<style scoped>\n    .dataframe tbody tr th:only-of-type {\n        vertical-align: middle;\n    }\n\n    .dataframe tbody tr th {\n        vertical-align: top;\n    }\n\n    .dataframe thead th {\n        text-align: right;\n    }\n</style>\n<table border=\"1\" class=\"dataframe\">\n  <thead>\n    <tr style=\"text-align: right;\">\n      <th></th>\n      <th>date</th>\n      <th>abstract</th>\n      <th>main_headline</th>\n      <th>url</th>\n      <th>date_col</th>\n      <th>Daily_Price</th>\n      <th>Weekly_Stocks</th>\n      <th>Monthly_Imports</th>\n      <th>Product_Sold</th>\n    </tr>\n  </thead>\n  <tbody>\n    <tr>\n      <th>2</th>\n      <td>2000-12-29T05:00:00+0000</td>\n      <td>Heating oil futures fall after report showing ...</td>\n      <td>THE MARKETS: COMMODITIES</td>\n      <td>https://www.nytimes.com/2000/12/29/business/th...</td>\n      <td>2000-12-29</td>\n      <td>26.72</td>\n      <td>1455285.0</td>\n      <td>286114.0</td>\n      <td>21494.0</td>\n    </tr>\n    <tr>\n      <th>12</th>\n      <td>2000-12-29T05:00:00+0000</td>\n      <td>Op-Ed article by former Pres Jimmy Carter desc...</td>\n      <td>Make This Natural Treasure a National Monument</td>\n      <td>https://www.nytimes.com/2000/12/29/opinion/mak...</td>\n      <td>2000-12-29</td>\n      <td>26.72</td>\n      <td>1455285.0</td>\n      <td>286114.0</td>\n      <td>21494.0</td>\n    </tr>\n    <tr>\n      <th>4</th>\n      <td>2000-12-27T05:00:00+0000</td>\n      <td>Heating oil prices for January delivery soar m...</td>\n      <td>THE MARKETS: COMMODITIES</td>\n      <td>https://www.nytimes.com/2000/12/27/business/th...</td>\n      <td>2000-12-27</td>\n      <td>26.55</td>\n      <td>1466328.0</td>\n      <td>286114.0</td>\n      <td>20080.0</td>\n    </tr>\n    <tr>\n      <th>6</th>\n      <td>2000-12-27T05:00:00+0000</td>\n      <td>Russian government plans to sell 50 million sh...</td>\n      <td>AMERICAN SHARE SALE FOR LUKOIL</td>\n      <td>https://www.nytimes.com/2000/12/27/business/wo...</td>\n      <td>2000-12-27</td>\n      <td>26.55</td>\n      <td>1466328.0</td>\n      <td>286114.0</td>\n      <td>20080.0</td>\n    </tr>\n    <tr>\n      <th>8</th>\n      <td>2000-12-27T05:00:00+0000</td>\n      <td>Government reports that Vietnam's economy grew...</td>\n      <td>Vietnam's Trade Imbalance And Economy Keep Gro...</td>\n      <td>https://www.nytimes.com/2000/12/27/business/vi...</td>\n      <td>2000-12-27</td>\n      <td>26.55</td>\n      <td>1466328.0</td>\n      <td>286114.0</td>\n      <td>20080.0</td>\n    </tr>\n  </tbody>\n</table>\n</div>"
     },
     "metadata": {},
     "execution_count": 5
    }
   ],
   "source": [
    "new_df = pd.merge(\n",
    "                df_news,\n",
    "                df,\n",
    "                left_on='date_col',\n",
    "                right_index=True\n",
    "                )\n",
    "new_df.head()"
   ]
  },
  {
   "cell_type": "code",
   "execution_count": 6,
   "metadata": {},
   "outputs": [],
   "source": [
    "conn = sqlite3.connect('data/energydash.db')\n",
    "c = conn.cursor()\n",
    "\n",
    "new_df.columns = [x.replace(' ','_') for x in new_df.columns]\n",
    "\n",
    "new_df.to_sql(\"news_merged\",conn,if_exists='replace')"
   ]
  },
  {
   "cell_type": "code",
   "execution_count": null,
   "metadata": {},
   "outputs": [],
   "source": []
  },
  {
   "source": [],
   "cell_type": "markdown",
   "metadata": {}
  },
  {
   "cell_type": "markdown",
   "metadata": {},
   "source": [
    "# Daily Price"
   ]
  },
  {
   "cell_type": "code",
   "execution_count": null,
   "metadata": {
    "ExecuteTime": {
     "end_time": "2020-09-27T22:34:04.154071Z",
     "start_time": "2020-09-27T22:34:03.381097Z"
    },
    "tags": []
   },
   "outputs": [],
   "source": [
    "desc = ''\n",
    "daily_price = EIA_Series('Daily Price','PET.RWTC.D')\n",
    "dep.ingest(daily_price)\n",
    "\n",
    "x = daily_price.scaled\n",
    "#x = x['2015-01-01':'2019-12-01']\n",
    "result = seasonal_decompose(x, model='additive',period=365)  \n",
    "result.plot();"
   ]
  },
  {
   "cell_type": "code",
   "execution_count": null,
   "metadata": {},
   "outputs": [],
   "source": []
  },
  {
   "cell_type": "code",
   "execution_count": null,
   "metadata": {},
   "outputs": [],
   "source": [
    "from statsmodels.tsa.stattools import adfuller\n",
    "dftest = adfuller(x,autolag='AIC')\n",
    "print(dftest)"
   ]
  },
  {
   "cell_type": "markdown",
   "metadata": {},
   "source": [
    "## Auto Arima"
   ]
  },
  {
   "cell_type": "code",
   "execution_count": null,
   "metadata": {},
   "outputs": [],
   "source": [
    "auto_arima(x,start_p=1,start_q=1,max_p = 10,max_q=10,seasonal=True,trace=True,m=365)"
   ]
  },
  {
   "cell_type": "code",
   "execution_count": null,
   "metadata": {},
   "outputs": [],
   "source": [
    "span = 365\n",
    "alpha = 2/(span+1) # Standard span formula\n",
    "\n",
    "\n",
    "\n",
    "model =SimpleExpSmoothing(x)\n",
    "\n",
    "fitted_model = model.fit(\n",
    "    smoothing_level=alpha,\n",
    "    optimized=False)\n",
    "fitted_model = model.fit()\n",
    "\n",
    "daily_price.frame['SimpleExp'] = fitted_model.fittedvalues.shift(-1) \n",
    "\n",
    "df_slice = daily_price.frame[['SimpleExp','scaled_Daily Price']]\n",
    "\n",
    "df_slice['2016-01-01':'2016-06-01'].plot(figsize=(10,20))\n",
    "\n",
    "\n"
   ]
  },
  {
   "cell_type": "markdown",
   "metadata": {},
   "source": [
    "# ARIMA"
   ]
  },
  {
   "cell_type": "code",
   "execution_count": null,
   "metadata": {},
   "outputs": [],
   "source": []
  },
  {
   "cell_type": "markdown",
   "metadata": {},
   "source": [
    "# Daily Production"
   ]
  },
  {
   "cell_type": "code",
   "execution_count": null,
   "metadata": {
    "ExecuteTime": {
     "end_time": "2020-09-18T01:49:27.918699Z",
     "start_time": "2020-09-18T01:49:27.154261Z"
    }
   },
   "outputs": [],
   "source": [
    "desc = ''\n",
    "daily_production = EIA_Series('Weekly Stocks','PET.WTTSTUS1.W')\n",
    "dep.ingest(daily_production)\n",
    "\n",
    "x2 = daily_production.scaled\n",
    "x2 = x2['2015-01-01':'2019-12-01']\n",
    "result = seasonal_decompose(x2, model='additive',period=7)  \n",
    "result.plot();"
   ]
  },
  {
   "cell_type": "code",
   "execution_count": null,
   "metadata": {},
   "outputs": [],
   "source": [
    "granger_frame = pd.concat([x,x2],axis=1)\n",
    "granger_frame.columns = ['price','stocks']\n",
    "granger_frame.head()\n",
    "g_test = grangercausalitytests(granger_frame,maxlag=90);"
   ]
  },
  {
   "cell_type": "code",
   "execution_count": null,
   "metadata": {},
   "outputs": [],
   "source": [
    "print(g_test[1])"
   ]
  },
  {
   "cell_type": "code",
   "execution_count": null,
   "metadata": {},
   "outputs": [],
   "source": [
    "import chart_studio.plotly as py\n",
    "import plotly.figure_factory as ff\n",
    "import plotly.graph_objects as go\n",
    "import pandas as pd\n",
    "import plotly\n",
    "\n",
    "y = x.index\n",
    "\n",
    "trace1 = go.Scatter(\n",
    "        x=y,\n",
    "        y=x,\n",
    "        mode='lines',\n",
    "        name='Spot Price'\n",
    ")\n",
    "\n",
    "trace2 = go.Scatter(\n",
    "    x=x2.index,\n",
    "    y=x2,\n",
    "    mode='lines',\n",
    "    name = 'Weekly Inventory')\n",
    "\n",
    "data = [trace1,trace2]\n",
    "\n",
    "layout = go.Layout(\n",
    "    title = 'Daily Stocks',\n",
    "    xaxis = {\n",
    "        'title':'Time',\n",
    "    },\n",
    "    yaxis = dict(\n",
    "        title='Scaled price'\n",
    "        ),\n",
    "    hovermode='closest'\n",
    ")\n",
    "\n",
    "fig = go.Figure(data=data, layout = layout)\n",
    "\n",
    "plotly.offline.iplot(fig,filename='daily_price')"
   ]
  },
  {
   "cell_type": "markdown",
   "metadata": {},
   "source": [
    "# Monthly Crude Imports"
   ]
  },
  {
   "cell_type": "code",
   "execution_count": null,
   "metadata": {
    "ExecuteTime": {
     "end_time": "2020-09-16T01:20:39.331311Z",
     "start_time": "2020-09-16T01:20:38.805450Z"
    },
    "scrolled": false
   },
   "outputs": [],
   "source": [
    "desc = 'US imports of crude oil, monthly'\n",
    "\n",
    "monthly_imports = EIA_Series('Monthly Imports','PET.MCRIMUS1.M',desc,date_format='%Y%m' )\n",
    "dep.ingest(monthly_imports)\n",
    "\n",
    "x = monthly_imports.scaled\n",
    "x = x['2000-01-01':]\n",
    "\n",
    "result = seasonal_decompose(x, model='additive',period=12)  \n",
    "result.plot();\n"
   ]
  },
  {
   "cell_type": "code",
   "execution_count": null,
   "metadata": {},
   "outputs": [],
   "source": [
    "ds = Dataset(dep.originals)"
   ]
  },
  {
   "cell_type": "code",
   "execution_count": null,
   "metadata": {},
   "outputs": [],
   "source": [
    "ds['Monthly Imports'].show_report()"
   ]
  },
  {
   "cell_type": "markdown",
   "metadata": {},
   "source": [
    "## Dow Jones"
   ]
  },
  {
   "cell_type": "code",
   "execution_count": null,
   "metadata": {},
   "outputs": [],
   "source": []
  },
  {
   "cell_type": "code",
   "execution_count": null,
   "metadata": {},
   "outputs": [],
   "source": []
  },
  {
   "cell_type": "code",
   "execution_count": null,
   "metadata": {
    "ExecuteTime": {
     "end_time": "2020-09-16T06:09:22.291584Z",
     "start_time": "2020-09-16T06:09:22.256135Z"
    }
   },
   "outputs": [],
   "source": [
    "df_dow = pd.read_csv('data/dji.csv')\n",
    "\n",
    "df_dow['Date']=pd.to_datetime(df_dow['Date'])\n",
    "        \n",
    "df_dow.set_index(df_dow['Date'],drop=True,inplace=True)\n",
    "\n",
    "df_dow.columns"
   ]
  },
  {
   "cell_type": "code",
   "execution_count": null,
   "metadata": {},
   "outputs": [],
   "source": [
    "desc = 'US imports of crude oil, monthly'\n",
    "\n",
    "x = df_dow['Close']\n",
    "x = x['2000-01-01':]\n",
    "\n",
    "result = seasonal_decompose(x, model='additive',period=365)  \n",
    "result.plot();"
   ]
  },
  {
   "cell_type": "code",
   "execution_count": null,
   "metadata": {
    "ExecuteTime": {
     "end_time": "2020-09-16T06:11:31.610075Z",
     "start_time": "2020-09-16T06:11:31.361191Z"
    },
    "scrolled": true
   },
   "outputs": [],
   "source": [
    "df_dow['Close'].plot()"
   ]
  },
  {
   "cell_type": "code",
   "execution_count": null,
   "metadata": {
    "ExecuteTime": {
     "end_time": "2020-09-16T06:27:40.975297Z",
     "start_time": "2020-09-16T06:27:40.954947Z"
    }
   },
   "outputs": [],
   "source": [
    "df_dow['delta_dow']  = df_dow['Close'].diff()\n",
    "\n",
    "X = df_dow[['delta_dow']]\n",
    "\n",
    "y = daily_price.series_frame[['deltaDaily Price']]\n",
    "\n",
    "merged = y.merge(X,how='inner',left_index=True,right_index=True)"
   ]
  },
  {
   "cell_type": "code",
   "execution_count": null,
   "metadata": {
    "ExecuteTime": {
     "end_time": "2020-09-16T06:28:33.627938Z",
     "start_time": "2020-09-16T06:28:33.610984Z"
    }
   },
   "outputs": [],
   "source": [
    "merged.head()"
   ]
  },
  {
   "cell_type": "code",
   "execution_count": null,
   "metadata": {
    "ExecuteTime": {
     "end_time": "2020-09-16T06:39:01.864953Z",
     "start_time": "2020-09-16T06:39:01.373216Z"
    }
   },
   "outputs": [],
   "source": [
    "x=merged['deltaDaily Price']\n",
    "y=merged['delta_dow']\n",
    "plt.scatter(x=x,y=y)"
   ]
  },
  {
   "cell_type": "code",
   "execution_count": null,
   "metadata": {
    "ExecuteTime": {
     "end_time": "2020-09-16T06:39:43.673573Z",
     "start_time": "2020-09-16T06:39:41.653076Z"
    }
   },
   "outputs": [],
   "source": [
    "import numpy as np\n",
    "from sklearn.linear_model import LinearRegression\n",
    "\n",
    "model= LinearRegression()"
   ]
  },
  {
   "cell_type": "code",
   "execution_count": null,
   "metadata": {
    "ExecuteTime": {
     "end_time": "2020-09-16T06:40:24.976487Z",
     "start_time": "2020-09-16T06:40:24.955547Z"
    }
   },
   "outputs": [],
   "source": [
    "model.fit(x.reshape(-1,1),y)"
   ]
  },
  {
   "cell_type": "code",
   "execution_count": null,
   "metadata": {},
   "outputs": [],
   "source": [
    "dep.scaled.head(10)"
   ]
  },
  {
   "cell_type": "markdown",
   "metadata": {
    "ExecuteTime": {
     "end_time": "2020-09-16T00:33:09.772330Z",
     "start_time": "2020-09-16T00:33:04.524118Z"
    }
   },
   "source": [
    "# To-Do"
   ]
  },
  {
   "cell_type": "markdown",
   "metadata": {},
   "source": [
    "1. Moving averages?\n",
    "2. Correlation between price and:\n",
    "3. Features to add/explore:\n",
    "    a. Active wells?\n",
    "    b. Refinery inputs?\n",
    "    c. consumption?\n",
    "    d. month?\n",
    "    e. \n",
    "    \n"
   ]
  },
  {
   "cell_type": "markdown",
   "metadata": {},
   "source": [
    "# SCRAPS"
   ]
  },
  {
   "cell_type": "code",
   "execution_count": null,
   "metadata": {},
   "outputs": [],
   "source": [
    "\\\n",
    "df_eia=functools.reduce(lambda x,y: x.join(y,how='outer'),frame_list)\n",
    "df_eia.fillna(axis=0,method='ffill',inplace=True)\n",
    "\n",
    "conn = sqlite3.connect('oilstocks.db')\n",
    "c = conn.cursor()\n",
    "\n",
    "for col in df_eia:\n",
    "    df_eia[col]=preprocessing.scale(df_eia[col])\n",
    "\n",
    "df_eia.to_sql(\"scaledstocks\",conn,if_exists='replace')\n",
    "conn.commit()\n",
    "\n",
    "df_eia.to_sql(\"crudestocks\",conn,if_exists='replace')"
   ]
  }
 ],
 "metadata": {
  "kernelspec": {
   "display_name": "Python 3",
   "language": "python",
   "name": "python3"
  },
  "toc": {
   "base_numbering": 1,
   "nav_menu": {},
   "number_sections": true,
   "sideBar": true,
   "skip_h1_title": false,
   "title_cell": "Table of Contents",
   "title_sidebar": "Contents",
   "toc_cell": false,
   "toc_position": {
    "height": "calc(100% - 180px)",
    "left": "10px",
    "top": "150px",
    "width": "512px"
   },
   "toc_section_display": true,
   "toc_window_display": false
  },
  "varInspector": {
   "cols": {
    "lenName": 16,
    "lenType": 16,
    "lenVar": 40
   },
   "kernels_config": {
    "python": {
     "delete_cmd_postfix": "",
     "delete_cmd_prefix": "del ",
     "library": "var_list.py",
     "varRefreshCmd": "print(var_dic_list())"
    },
    "r": {
     "delete_cmd_postfix": ") ",
     "delete_cmd_prefix": "rm(",
     "library": "var_list.r",
     "varRefreshCmd": "cat(var_dic_list()) "
    }
   },
   "types_to_exclude": [
    "module",
    "function",
    "builtin_function_or_method",
    "instance",
    "_Feature"
   ],
   "window_display": false
  }
 },
 "nbformat": 4,
 "nbformat_minor": 4
}