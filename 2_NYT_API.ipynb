{
 "metadata": {
  "language_info": {
   "codemirror_mode": {
    "name": "ipython",
    "version": 3
   },
   "file_extension": ".py",
   "mimetype": "text/x-python",
   "name": "python",
   "nbconvert_exporter": "python",
   "pygments_lexer": "ipython3",
   "version": "3.8.3-final"
  },
  "orig_nbformat": 2,
  "kernelspec": {
   "name": "Python 3.8.3 64-bit ('base': conda)",
   "display_name": "Python 3.8.3 64-bit ('base': conda)",
   "metadata": {
    "interpreter": {
     "hash": "fa0a4c6c6b406e245e79bf10aa834a8e4e7b39430b2ca006cc41fb2142b9ef2c"
    }
   }
  }
 },
 "nbformat": 4,
 "nbformat_minor": 2,
 "cells": [
  {
   "cell_type": "code",
   "execution_count": 1,
   "metadata": {},
   "outputs": [],
   "source": [
    "from datashop import *\n",
    "import plotly"
   ]
  },
  {
   "cell_type": "code",
   "execution_count": 2,
   "metadata": {},
   "outputs": [
    {
     "output_type": "execute_result",
     "data": {
      "text/plain": [
       "Index(['Unnamed: 0', 'id', 'date', 'abstract', 'doc_type', 'main_headline',\n",
       "       'print_headline', 'keywords', 'newsdesk', 'url'],\n",
       "      dtype='object')"
      ]
     },
     "metadata": {},
     "execution_count": 2
    }
   ],
   "source": [
    "df1 = pd.read_csv('data/nyt_articles.csv')\n",
    "df1.columns"
   ]
  },
  {
   "cell_type": "code",
   "execution_count": null,
   "metadata": {},
   "outputs": [],
   "source": []
  },
  {
   "cell_type": "code",
   "execution_count": 3,
   "metadata": {},
   "outputs": [
    {
     "output_type": "stream",
     "name": "stdout",
     "text": [
      "Index(['Unnamed: 0', 'id', 'date', 'abstract', 'doc_type', 'main_headline',\n       'print_headline', 'keywords', 'newsdesk'],\n      dtype='object')\n"
     ]
    }
   ],
   "source": [
    "df1 = pd.read_csv('nyt_api/nyt_articles.csv')\n",
    "df1['dicts'] = df['keywords'].apply(lambda x: eval(x))\n",
    "df1['dict_lens'] = df['dicts'].apply(len)\n",
    "def extractRow(row):\n",
    "    list = row['dicts']\n",
    "\n",
    "    for num,item in enumerate(list):\n",
    "        row[str(num) + '_type'] = item['name']\n",
    "        row[str(num) + '_keyword'] = item['value']\n",
    "\n",
    "    return row\n",
    "#df1 = df1.apply(extractRow,axis=1)\n",
    "#df1.to_csv('nyt_api/nyt_with_keywords.csv')\n",
    "print(df1.columns)\n",
    "df = pd.read_csv('nyt_api/nyt_with_keywords.csv')"
   ]
  },
  {
   "cell_type": "code",
   "execution_count": null,
   "metadata": {},
   "outputs": [],
   "source": []
  },
  {
   "cell_type": "code",
   "execution_count": 4,
   "metadata": {},
   "outputs": [],
   "source": [
    "df['date_col'] = df['date'].str.slice(stop=10)\n",
    "df['date_col']=pd.to_datetime(\n",
    "            df['date_col'],\n",
    "            format = '%Y-%m-%d'\n",
    "        )\n",
    "df.set_index(\n",
    "            df['date_col'],drop=True,inplace=True)\n"
   ]
  },
  {
   "cell_type": "code",
   "execution_count": 5,
   "metadata": {},
   "outputs": [
    {
     "output_type": "display_data",
     "data": {
      "text/plain": "                                date  \\\ndate_col                               \n2000-01-01  2000-01-01T05:00:00+0000   \n2000-01-04  2000-01-04T05:00:00+0000   \n2000-01-08  2000-01-08T05:00:00+0000   \n2000-01-08  2000-01-08T05:00:00+0000   \n2000-01-09  2000-01-09T05:00:00+0000   \n\n                                                main_headline  \ndate_col                                                       \n2000-01-01  SCHLUMBERGER COMPLETES SPINOFF OF OFFSHORE OIL...  \n2000-01-04  From the Pipeline To the Courtroom; Gap on BP ...  \n2000-01-08                  The Greening of Corporate America  \n2000-01-08                           THE MARKETS: COMMODITIES  \n2000-01-09            Defanging the Great Inflationary Forces  ",
      "text/html": "<div>\n<style scoped>\n    .dataframe tbody tr th:only-of-type {\n        vertical-align: middle;\n    }\n\n    .dataframe tbody tr th {\n        vertical-align: top;\n    }\n\n    .dataframe thead th {\n        text-align: right;\n    }\n</style>\n<table border=\"1\" class=\"dataframe\">\n  <thead>\n    <tr style=\"text-align: right;\">\n      <th></th>\n      <th>date</th>\n      <th>main_headline</th>\n    </tr>\n    <tr>\n      <th>date_col</th>\n      <th></th>\n      <th></th>\n    </tr>\n  </thead>\n  <tbody>\n    <tr>\n      <th>2000-01-01</th>\n      <td>2000-01-01T05:00:00+0000</td>\n      <td>SCHLUMBERGER COMPLETES SPINOFF OF OFFSHORE OIL...</td>\n    </tr>\n    <tr>\n      <th>2000-01-04</th>\n      <td>2000-01-04T05:00:00+0000</td>\n      <td>From the Pipeline To the Courtroom; Gap on BP ...</td>\n    </tr>\n    <tr>\n      <th>2000-01-08</th>\n      <td>2000-01-08T05:00:00+0000</td>\n      <td>The Greening of Corporate America</td>\n    </tr>\n    <tr>\n      <th>2000-01-08</th>\n      <td>2000-01-08T05:00:00+0000</td>\n      <td>THE MARKETS: COMMODITIES</td>\n    </tr>\n    <tr>\n      <th>2000-01-09</th>\n      <td>2000-01-09T05:00:00+0000</td>\n      <td>Defanging the Great Inflationary Forces</td>\n    </tr>\n  </tbody>\n</table>\n</div>"
     },
     "metadata": {}
    }
   ],
   "source": [
    "df.sort_index(inplace=True)\n",
    "df.drop('date_col',axis=1,inplace=True)\n",
    "display(df[['date','main_headline']].head())"
   ]
  },
  {
   "cell_type": "code",
   "execution_count": null,
   "metadata": {},
   "outputs": [],
   "source": [
    "import sqlite3\n",
    "\n",
    "conn = sqlite3.connect('data/energydash.db')\n",
    "\n",
    "df.to_sql(\"news\",conn, if_exists='replace')"
   ]
  },
  {
   "cell_type": "code",
   "execution_count": 6,
   "metadata": {},
   "outputs": [
    {
     "output_type": "execute_result",
     "data": {
      "text/plain": [
       "date_col\n",
       "2000-01-01    2000-01-01T05:00:00+0000\n",
       "2000-01-04    2000-01-04T05:00:00+0000\n",
       "2000-01-08    2000-01-08T05:00:00+0000\n",
       "2000-01-08    2000-01-08T05:00:00+0000\n",
       "2000-01-09    2000-01-09T05:00:00+0000\n",
       "Name: date, dtype: object"
      ]
     },
     "metadata": {},
     "execution_count": 6
    }
   ],
   "source": [
    "df['date'].head()"
   ]
  },
  {
   "cell_type": "code",
   "execution_count": 10,
   "metadata": {},
   "outputs": [
    {
     "output_type": "execute_result",
     "data": {
      "text/plain": [
       "Oil (Petroleum) and Gasoline    1132\n",
       "BP Plc                           667\n",
       "Iraq                             599\n",
       "Russia                           510\n",
       "Venezuela                        177\n",
       "                                ... \n",
       "Tucson (Ariz)                      1\n",
       "Caracas (Venezuela)                1\n",
       "Dobbs Ferry (NY)                   1\n",
       "Wilderness Areas                   1\n",
       "ECONOMIDES, MICHAEL J              1\n",
       "Name: 0_keyword, Length: 1867, dtype: int64"
      ]
     },
     "metadata": {},
     "execution_count": 10
    }
   ],
   "source": [
    "display(df['0_keyword'].value_counts()"
   ]
  },
  {
   "cell_type": "code",
   "execution_count": null,
   "metadata": {},
   "outputs": [],
   "source": [
    "rank0_counts = df['0_keyword'].value_counts()\n",
    "\n",
    "rank0 = rank0_counts.index[0]\n",
    "\n",
    "df_rank0 = df[df['0_keyword'] == rank0]\n",
    "\n",
    "df_rank0_rank1 = df_rank0['1_keyword'].value_counts()\n",
    "\n",
    "df_rank0_rank1.head(30).plot(kind='barh',figsize=(10,15))"
   ]
  },
  {
   "source": [
    "df['dicts'] = df['']"
   ],
   "cell_type": "markdown",
   "metadata": {}
  }
 ]
}