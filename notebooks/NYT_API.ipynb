{
 "metadata": {
  "language_info": {
   "codemirror_mode": {
    "name": "ipython",
    "version": 3
   },
   "file_extension": ".py",
   "mimetype": "text/x-python",
   "name": "python",
   "nbconvert_exporter": "python",
   "pygments_lexer": "ipython3",
   "version": "3.8.3-final"
  },
  "orig_nbformat": 2,
  "kernelspec": {
   "name": "Python 3.8.3 64-bit ('base': conda)",
   "display_name": "Python 3.8.3 64-bit ('base': conda)",
   "metadata": {
    "interpreter": {
     "hash": "fa0a4c6c6b406e245e79bf10aa834a8e4e7b39430b2ca006cc41fb2142b9ef2c"
    }
   }
  }
 },
 "nbformat": 4,
 "nbformat_minor": 2,
 "cells": [
  {
   "cell_type": "code",
   "execution_count": 1,
   "metadata": {},
   "outputs": [],
   "source": [
    "from datashop import*\n",
    "from pprint import pprint as pp\n",
    "import requests\n",
    "import math\n",
    "import time\n",
    "import json\n",
    "\n",
    "key = 'm6HsQpjurALl27VpNGB1o4nAcr50o5wt'\n",
    "\n",
    "response = 'https://api.nytimes.com/svc/search/v2/articlesearch.json?api-key={}'.format(key)\n"
   ]
  },
  {
   "cell_type": "code",
   "execution_count": 4,
   "metadata": {},
   "outputs": [],
   "source": [
    "def get_docs(start_date,end_date):\n",
    "\n",
    "    params ={\n",
    "        'begin_date':start_date,\n",
    "        'end_date':end_date,\n",
    "        'q':'Oil (Petroleum) and Gasoline',\n",
    "    }\n",
    "    request = requests.get(response,params)\n",
    "    series_dict = json.loads(request.text)\n",
    "\n",
    "    meta = series_dict['response']['meta']\n",
    "\n",
    "    pages = math.ceil(meta['hits']/10)\n",
    "\n",
    "    collection = []\n",
    "\n",
    "    for page in range(0,pages):\n",
    "\n",
    "        params['page']= page\n",
    "\n",
    "        request = requests.get(response,params)\n",
    "        series_dict = json.loads(request.text)\n",
    "\n",
    "        docs = series_dict['response']['docs']\n",
    "\n",
    "        for doc in docs:\n",
    "            collection.append(doc)\n",
    "\n",
    "        time.sleep(7)\n",
    "\n",
    "    with open('nyt_jsons/' + str(start_date) + '_articles.json', 'w') as f:\n",
    "        json.dump(collection, f)    "
   ]
  },
  {
   "cell_type": "code",
   "execution_count": 7,
   "metadata": {},
   "outputs": [
    {
     "output_type": "stream",
     "name": "stdout",
     "text": [
      "2006 Has been saved\n",
      "2007 Has been saved\n",
      "2008 Has been saved\n",
      "2009 Has been saved\n",
      "2010 Has been saved\n",
      "2011 Has been saved\n",
      "2012 Has been saved\n",
      "2013 Has been saved\n",
      "2014 Has been saved\n",
      "2015 Has been saved\n",
      "2016 Has been saved\n",
      "2017 Has been saved\n",
      "2018 Has been saved\n",
      "2019 Has been saved\n",
      "2020 Has been saved\n"
     ]
    }
   ],
   "source": [
    "years = ['20' + str(x).zfill(2) for x in range(6,21)]\n",
    "\n",
    "for year in years:\n",
    "    start = year + '0101'\n",
    "    end = year + '1231'\n",
    "    collection = get_docs(start,end)\n",
    "    print(year + \" Has been saved\")"
   ]
  },
  {
   "cell_type": "code",
   "execution_count": 38,
   "metadata": {},
   "outputs": [],
   "source": [
    "def parse_docs(docs):\n",
    "    doc_list = []\n",
    "\n",
    "    for doc in docs:\n",
    "        doc_dict = {\n",
    "            'id':doc['_id'],\n",
    "            'date':doc['pub_date'],\n",
    "            'abstract':doc['abstract'],\n",
    "            'doc_type':doc['document_type'],\n",
    "            'main_headline':doc['headline']['main'],\n",
    "            'print_headline':doc['headline']['print_headline'],\n",
    "            'keywords':doc['keywords'],\n",
    "            'newsdesk':doc['news_desk'],\n",
    "            \n",
    "            \n",
    "\n",
    "        }\n",
    "\n",
    "        doc_list.append(doc_dict)\n",
    "\n",
    "    frame = pd.DataFrame(doc_list)\n",
    "    return frame    "
   ]
  },
  {
   "cell_type": "code",
   "execution_count": 40,
   "metadata": {},
   "outputs": [],
   "source": [
    "import os\n",
    "\n",
    "art_list = []\n",
    "\n",
    "for file in os.listdir('nyt_jsons'):\n",
    "    with open('nyt_jsons/' + file) as json_file:\n",
    "        data = json.load(json_file)\n",
    "        art_list =art_list + data\n",
    "\n",
    "final_frame = parse_docs(art_list)\n",
    "final_frame.to_csv('data/nyt_articles.csv')"
   ]
  },
  {
   "cell_type": "code",
   "execution_count": 29,
   "metadata": {},
   "outputs": [],
   "source": []
  },
  {
   "cell_type": "code",
   "execution_count": 30,
   "metadata": {},
   "outputs": [
    {
     "output_type": "display_data",
     "data": {
      "text/plain": "                                                      id  \\\n0      nyt://article/0914c010-16d4-54bf-9098-4045adc3...   \n1      nyt://article/1fe65aa7-59d3-500d-8071-b32e5eb5...   \n2      nyt://article/e084f9f3-03e1-5608-a6ec-923d6bd3...   \n3      nyt://article/07ee3d9c-57c2-5e1c-b1cc-b4b1cbbe...   \n4      nyt://article/f577789f-abf5-5275-be64-cd1fe8fd...   \n...                                                  ...   \n12478  nyt://interactive/768a0a5d-1c61-52d2-b379-4f92...   \n12479  nyt://interactive/821f839b-caf1-58e2-b200-26be...   \n12480  nyt://article/1904f2c1-1839-5d86-b106-1a807f02...   \n12481  nyt://article/23b94cb1-266f-5288-bbe4-55a27a7a...   \n12482  nyt://article/f59a77d4-7e64-5543-ac19-19fb9aeb...   \n\n                           date  \\\n0      2000-12-30T05:00:00+0000   \n1      2000-12-23T05:00:00+0000   \n2      2000-12-29T05:00:00+0000   \n3      2000-12-31T05:00:00+0000   \n4      2000-12-27T05:00:00+0000   \n...                         ...   \n12478  2020-04-20T01:36:12+0000   \n12479  2020-04-20T01:37:46+0000   \n12480  2020-04-23T04:01:33+0000   \n12481  2020-04-04T04:02:19+0000   \n12482  2020-02-23T17:00:07+0000   \n\n                                                abstract    doc_type  \\\n0      Berkley Petroleum Corp will consider takeover ...     article   \n1      Delta Petroleum Corp cancels agreement to buy ...     article   \n2      Heating oil futures fall after report showing ...     article   \n3      Petrobras, Brazil's state-controlled oil compa...     article   \n4      Heating oil prices for January delivery soar m...     article   \n...                                                  ...         ...   \n12478  Another installment of our climate crash cours...  multimedia   \n12479  Hiroko Tabuchi, an investigative reporter for ...  multimedia   \n12480  Britain shrouds science advice in secrecy. Pak...     article   \n12481  President Trump warns of what could be “the to...     article   \n12482  Readers say the divestment cause is a worthy o...     article   \n\n                                           main_headline  \\\n0      BERKLEY PETROLEUM APPROVES SHAREHOLDER RIGHTS ...   \n1                                Delta Petroleum in Deal   \n2                               THE MARKETS: COMMODITIES   \n3          Exploratory Oil Drilling From S to X and Back   \n4                               THE MARKETS: COMMODITIES   \n...                                                  ...   \n12478                     Do environmental rules matter?   \n12479                  Who is influencing key decisions?   \n12480        In Ecuador, Coronavirus Deaths Go Uncounted   \n12481  Trump Warns of ‘a Lot of Death’ While Also Rev...   \n12482          Should Colleges Divest From Fossil Fuels?   \n\n                                          print_headline  \\\n0      COMPANY NEWS; BERKLEY PETROLEUM APPROVES SHARE...   \n1                                Delta Petroleum in Deal   \n2                               THE MARKETS: COMMODITIES   \n3      BUSINESS: DIARY; Exploratory Oil Drilling From...   \n4                               THE MARKETS: COMMODITIES   \n...                                                  ...   \n12478                                               None   \n12479                                               None   \n12480                                               None   \n12481                                    Around The U.S.   \n12482                                               None   \n\n                                                keywords  \n0      [{'name': 'organizations', 'value': 'Hunt Oil ...  \n1      [{'name': 'glocations', 'value': 'New Mexico',...  \n2      [{'name': 'subject', 'value': 'Oil (Petroleum)...  \n3      [{'name': 'glocations', 'value': 'Brazil', 'ra...  \n4      [{'name': 'subject', 'value': 'Weather', 'rank...  \n...                                                  ...  \n12478                                                 []  \n12479                                                 []  \n12480  [{'name': 'subject', 'value': 'Coronavirus (20...  \n12481  [{'name': 'subject', 'value': 'Coronavirus (20...  \n12482  [{'name': 'subject', 'value': 'Colleges and Un...  \n\n[12483 rows x 7 columns]",
      "text/html": "<div>\n<style scoped>\n    .dataframe tbody tr th:only-of-type {\n        vertical-align: middle;\n    }\n\n    .dataframe tbody tr th {\n        vertical-align: top;\n    }\n\n    .dataframe thead th {\n        text-align: right;\n    }\n</style>\n<table border=\"1\" class=\"dataframe\">\n  <thead>\n    <tr style=\"text-align: right;\">\n      <th></th>\n      <th>id</th>\n      <th>date</th>\n      <th>abstract</th>\n      <th>doc_type</th>\n      <th>main_headline</th>\n      <th>print_headline</th>\n      <th>keywords</th>\n    </tr>\n  </thead>\n  <tbody>\n    <tr>\n      <th>0</th>\n      <td>nyt://article/0914c010-16d4-54bf-9098-4045adc3...</td>\n      <td>2000-12-30T05:00:00+0000</td>\n      <td>Berkley Petroleum Corp will consider takeover ...</td>\n      <td>article</td>\n      <td>BERKLEY PETROLEUM APPROVES SHAREHOLDER RIGHTS ...</td>\n      <td>COMPANY NEWS; BERKLEY PETROLEUM APPROVES SHARE...</td>\n      <td>[{'name': 'organizations', 'value': 'Hunt Oil ...</td>\n    </tr>\n    <tr>\n      <th>1</th>\n      <td>nyt://article/1fe65aa7-59d3-500d-8071-b32e5eb5...</td>\n      <td>2000-12-23T05:00:00+0000</td>\n      <td>Delta Petroleum Corp cancels agreement to buy ...</td>\n      <td>article</td>\n      <td>Delta Petroleum in Deal</td>\n      <td>Delta Petroleum in Deal</td>\n      <td>[{'name': 'glocations', 'value': 'New Mexico',...</td>\n    </tr>\n    <tr>\n      <th>2</th>\n      <td>nyt://article/e084f9f3-03e1-5608-a6ec-923d6bd3...</td>\n      <td>2000-12-29T05:00:00+0000</td>\n      <td>Heating oil futures fall after report showing ...</td>\n      <td>article</td>\n      <td>THE MARKETS: COMMODITIES</td>\n      <td>THE MARKETS: COMMODITIES</td>\n      <td>[{'name': 'subject', 'value': 'Oil (Petroleum)...</td>\n    </tr>\n    <tr>\n      <th>3</th>\n      <td>nyt://article/07ee3d9c-57c2-5e1c-b1cc-b4b1cbbe...</td>\n      <td>2000-12-31T05:00:00+0000</td>\n      <td>Petrobras, Brazil's state-controlled oil compa...</td>\n      <td>article</td>\n      <td>Exploratory Oil Drilling From S to X and Back</td>\n      <td>BUSINESS: DIARY; Exploratory Oil Drilling From...</td>\n      <td>[{'name': 'glocations', 'value': 'Brazil', 'ra...</td>\n    </tr>\n    <tr>\n      <th>4</th>\n      <td>nyt://article/f577789f-abf5-5275-be64-cd1fe8fd...</td>\n      <td>2000-12-27T05:00:00+0000</td>\n      <td>Heating oil prices for January delivery soar m...</td>\n      <td>article</td>\n      <td>THE MARKETS: COMMODITIES</td>\n      <td>THE MARKETS: COMMODITIES</td>\n      <td>[{'name': 'subject', 'value': 'Weather', 'rank...</td>\n    </tr>\n    <tr>\n      <th>...</th>\n      <td>...</td>\n      <td>...</td>\n      <td>...</td>\n      <td>...</td>\n      <td>...</td>\n      <td>...</td>\n      <td>...</td>\n    </tr>\n    <tr>\n      <th>12478</th>\n      <td>nyt://interactive/768a0a5d-1c61-52d2-b379-4f92...</td>\n      <td>2020-04-20T01:36:12+0000</td>\n      <td>Another installment of our climate crash cours...</td>\n      <td>multimedia</td>\n      <td>Do environmental rules matter?</td>\n      <td>None</td>\n      <td>[]</td>\n    </tr>\n    <tr>\n      <th>12479</th>\n      <td>nyt://interactive/821f839b-caf1-58e2-b200-26be...</td>\n      <td>2020-04-20T01:37:46+0000</td>\n      <td>Hiroko Tabuchi, an investigative reporter for ...</td>\n      <td>multimedia</td>\n      <td>Who is influencing key decisions?</td>\n      <td>None</td>\n      <td>[]</td>\n    </tr>\n    <tr>\n      <th>12480</th>\n      <td>nyt://article/1904f2c1-1839-5d86-b106-1a807f02...</td>\n      <td>2020-04-23T04:01:33+0000</td>\n      <td>Britain shrouds science advice in secrecy. Pak...</td>\n      <td>article</td>\n      <td>In Ecuador, Coronavirus Deaths Go Uncounted</td>\n      <td>None</td>\n      <td>[{'name': 'subject', 'value': 'Coronavirus (20...</td>\n    </tr>\n    <tr>\n      <th>12481</th>\n      <td>nyt://article/23b94cb1-266f-5288-bbe4-55a27a7a...</td>\n      <td>2020-04-04T04:02:19+0000</td>\n      <td>President Trump warns of what could be “the to...</td>\n      <td>article</td>\n      <td>Trump Warns of ‘a Lot of Death’ While Also Rev...</td>\n      <td>Around The U.S.</td>\n      <td>[{'name': 'subject', 'value': 'Coronavirus (20...</td>\n    </tr>\n    <tr>\n      <th>12482</th>\n      <td>nyt://article/f59a77d4-7e64-5543-ac19-19fb9aeb...</td>\n      <td>2020-02-23T17:00:07+0000</td>\n      <td>Readers say the divestment cause is a worthy o...</td>\n      <td>article</td>\n      <td>Should Colleges Divest From Fossil Fuels?</td>\n      <td>None</td>\n      <td>[{'name': 'subject', 'value': 'Colleges and Un...</td>\n    </tr>\n  </tbody>\n</table>\n<p>12483 rows × 7 columns</p>\n</div>"
     },
     "metadata": {}
    }
   ],
   "source": [
    "display(final_frame)"
   ]
  },
  {
   "cell_type": "code",
   "execution_count": 31,
   "metadata": {},
   "outputs": [],
   "source": [
    "final_frame.to_csv('data/nyt_articles.csv')"
   ]
  },
  {
   "source": [],
   "cell_type": "markdown",
   "metadata": {}
  }
 ]
}