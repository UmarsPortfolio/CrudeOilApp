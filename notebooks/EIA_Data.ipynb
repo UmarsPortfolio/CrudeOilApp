{
 "cells": [
  {
   "cell_type": "markdown",
   "metadata": {},
   "source": [
    "# GitUp"
   ]
  },
  {
   "cell_type": "code",
   "execution_count": null,
   "metadata": {
    "ExecuteTime": {
     "end_time": "2020-09-27T22:33:00.348860Z",
     "start_time": "2020-09-27T22:32:54.441424Z"
    }
   },
   "outputs": [],
   "source": [
    "!git add .\n",
    "!git commit -m \"EIA to ds2\"\n",
    "!git push"
   ]
  },
  {
   "cell_type": "code",
   "execution_count": 1,
   "metadata": {
    "ExecuteTime": {
     "end_time": "2020-09-27T22:33:01.852262Z",
     "start_time": "2020-09-27T22:33:00.368033Z"
    }
   },
   "outputs": [],
   "source": [
    "# Libraries\n",
    "from datashop import *\n",
    "from eia_classes import *\n",
    "import requests\n",
    "import sqlite3\n",
    "import pprint as pp\n",
    "import pdb\n",
    "dep = Depot()"
   ]
  },
  {
   "cell_type": "code",
   "execution_count": 96,
   "metadata": {
    "tags": []
   },
   "outputs": [],
   "source": [
    "key = 'm6HsQpjurALl27VpNGB1o4nAcr50o5wt'\n",
    "\n",
    "example = 'https://api.nytimes.com/svc/search/v2/articlesearch.json?q={}&api-key={}'.format('oil',key)\n",
    "\n",
    "params ={\n",
    "    'begin_date':'20000101',\n",
    "    'end_date':'20200101',\n",
    "    'q':'Saudi Arabia',\n",
    "    'f1':['byline','headline'],\n",
    "    'page':2,\n",
    "    'news_desk':'Energy',\n",
    "    'facet':True,\n",
    "    'facet_fields':'document_type'\n",
    "\n",
    "\n",
    "}\n",
    "request = requests.get(example,params)\n",
    "series_dict = json.loads(request.text)"
   ]
  },
  {
   "cell_type": "code",
   "execution_count": 97,
   "metadata": {},
   "outputs": [],
   "source": [
    "headlines = []"
   ]
  },
  {
   "cell_type": "code",
   "execution_count": null,
   "metadata": {},
   "outputs": [],
   "source": [
    "'abstract','document_type','headline'['main'],'headline'['print_headline'],'keywords'"
   ]
  },
  {
   "cell_type": "code",
   "execution_count": null,
   "metadata": {
    "ExecuteTime": {
     "end_time": "2020-09-27T22:34:04.154071Z",
     "start_time": "2020-09-27T22:34:03.381097Z"
    },
    "tags": []
   },
   "outputs": [],
   "source": [
    "desc = ''\n",
    "daily_price = EIA_Series('Daily Price','PET.RWTC.D')\n",
    "spot_feat = Dataset(daily_price.series_frame)\n",
    "dep.ingest(daily_price)"
   ]
  },
  {
   "cell_type": "code",
   "execution_count": null,
   "metadata": {
    "ExecuteTime": {
     "end_time": "2020-09-18T01:49:27.918699Z",
     "start_time": "2020-09-18T01:49:27.154261Z"
    }
   },
   "outputs": [],
   "source": [
    "desc = ''\n",
    "daily_production = EIA_Series('Weekly Stocks','PET.WTTSTUS1.W')\n",
    "dep.ingest(daily_production)"
   ]
  },
  {
   "cell_type": "code",
   "execution_count": null,
   "metadata": {},
   "outputs": [],
   "source": [
    "dep.originals"
   ]
  },
  {
   "cell_type": "code",
   "execution_count": null,
   "metadata": {
    "ExecuteTime": {
     "end_time": "2020-09-16T01:20:39.331311Z",
     "start_time": "2020-09-16T01:20:38.805450Z"
    },
    "scrolled": false
   },
   "outputs": [],
   "source": [
    "desc = 'US imports of crude oil, monthly'\n",
    "\n",
    "monthly_imports = EIA_Series('Monthly Imports','PET.MCRIMUS1.M',desc,date_format='%Y%m' )\n",
    "import_feat = Dataset(monthly_imports.series_frame)\n",
    "import_feat['Monthly Imports'].show_report()\n",
    "dep.ingest(monthly_imports)"
   ]
  },
  {
   "cell_type": "code",
   "execution_count": null,
   "metadata": {},
   "outputs": [],
   "source": [
    "ds = Dataset(dep.originals)"
   ]
  },
  {
   "cell_type": "code",
   "execution_count": null,
   "metadata": {},
   "outputs": [],
   "source": [
    "ds['Monthly Imports'].show_report()"
   ]
  },
  {
   "cell_type": "markdown",
   "metadata": {},
   "source": [
    "## Dow Jones"
   ]
  },
  {
   "cell_type": "code",
   "execution_count": null,
   "metadata": {},
   "outputs": [],
   "source": []
  },
  {
   "cell_type": "code",
   "execution_count": null,
   "metadata": {},
   "outputs": [],
   "source": []
  },
  {
   "cell_type": "code",
   "execution_count": null,
   "metadata": {
    "ExecuteTime": {
     "end_time": "2020-09-16T06:09:22.291584Z",
     "start_time": "2020-09-16T06:09:22.256135Z"
    }
   },
   "outputs": [],
   "source": [
    "df_dow = pd.read_csv('data/dji.csv')\n",
    "\n",
    "df_dow['Date']=pd.to_datetime(df_dow['Date'])\n",
    "        \n",
    "df_dow.set_index(df_dow['Date'],drop=True,inplace=True)"
   ]
  },
  {
   "cell_type": "code",
   "execution_count": null,
   "metadata": {
    "ExecuteTime": {
     "end_time": "2020-09-16T06:11:31.610075Z",
     "start_time": "2020-09-16T06:11:31.361191Z"
    },
    "scrolled": true
   },
   "outputs": [],
   "source": [
    "df_dow['Close'].plot()"
   ]
  },
  {
   "cell_type": "code",
   "execution_count": null,
   "metadata": {
    "ExecuteTime": {
     "end_time": "2020-09-16T06:27:40.975297Z",
     "start_time": "2020-09-16T06:27:40.954947Z"
    }
   },
   "outputs": [],
   "source": [
    "df_dow['delta_dow']  = df_dow['Close'].diff()\n",
    "\n",
    "X = df_dow[['delta_dow']]\n",
    "\n",
    "y = daily_price.series_frame[['deltaDaily Price']]\n",
    "\n",
    "merged = y.merge(X,how='inner',left_index=True,right_index=True)"
   ]
  },
  {
   "cell_type": "code",
   "execution_count": null,
   "metadata": {
    "ExecuteTime": {
     "end_time": "2020-09-16T06:28:33.627938Z",
     "start_time": "2020-09-16T06:28:33.610984Z"
    }
   },
   "outputs": [],
   "source": [
    "merged.head()"
   ]
  },
  {
   "cell_type": "code",
   "execution_count": null,
   "metadata": {
    "ExecuteTime": {
     "end_time": "2020-09-16T06:39:01.864953Z",
     "start_time": "2020-09-16T06:39:01.373216Z"
    }
   },
   "outputs": [],
   "source": [
    "x=merged['deltaDaily Price']\n",
    "y=merged['delta_dow']\n",
    "plt.scatter(x=x,y=y)"
   ]
  },
  {
   "cell_type": "code",
   "execution_count": null,
   "metadata": {
    "ExecuteTime": {
     "end_time": "2020-09-16T06:39:43.673573Z",
     "start_time": "2020-09-16T06:39:41.653076Z"
    }
   },
   "outputs": [],
   "source": [
    "import numpy as np\n",
    "from sklearn.linear_model import LinearRegression\n",
    "\n",
    "model= LinearRegression()"
   ]
  },
  {
   "cell_type": "code",
   "execution_count": null,
   "metadata": {
    "ExecuteTime": {
     "end_time": "2020-09-16T06:40:24.976487Z",
     "start_time": "2020-09-16T06:40:24.955547Z"
    }
   },
   "outputs": [],
   "source": [
    "model.fit(x.reshape(-1,1),y)"
   ]
  },
  {
   "cell_type": "markdown",
   "metadata": {
    "ExecuteTime": {
     "end_time": "2020-09-16T00:33:09.772330Z",
     "start_time": "2020-09-16T00:33:04.524118Z"
    }
   },
   "source": [
    "# To-Do"
   ]
  },
  {
   "cell_type": "markdown",
   "metadata": {},
   "source": [
    "1. Moving averages?\n",
    "2. Correlation between price and:\n",
    "3. Features to add/explore:\n",
    "    a. Active wells?\n",
    "    b. Refinery inputs?\n",
    "    c. consumption?\n",
    "    d. month?\n",
    "    e. \n",
    "    \n"
   ]
  },
  {
   "cell_type": "markdown",
   "metadata": {},
   "source": [
    "# SCRAPS"
   ]
  },
  {
   "cell_type": "code",
   "execution_count": null,
   "metadata": {},
   "outputs": [],
   "source": [
    "\\\n",
    "df_eia=functools.reduce(lambda x,y: x.join(y,how='outer'),frame_list)\n",
    "df_eia.fillna(axis=0,method='ffill',inplace=True)\n",
    "\n",
    "conn = sqlite3.connect('oilstocks.db')\n",
    "c = conn.cursor()\n",
    "\n",
    "for col in df_eia:\n",
    "    df_eia[col]=preprocessing.scale(df_eia[col])\n",
    "\n",
    "df_eia.to_sql(\"scaledstocks\",conn,if_exists='replace')\n",
    "conn.commit()\n",
    "\n",
    "df_eia.to_sql(\"crudestocks\",conn,if_exists='replace')"
   ]
  }
 ],
 "metadata": {
  "kernelspec": {
   "display_name": "Python 3",
   "language": "python",
   "name": "python3"
  },
  "language_info": {
   "codemirror_mode": {
    "name": "ipython",
    "version": 3
   },
   "file_extension": ".py",
   "mimetype": "text/x-python",
   "name": "python",
   "nbconvert_exporter": "python",
   "pygments_lexer": "ipython3",
   "version": "3.8.3-final"
  },
  "toc": {
   "base_numbering": 1,
   "nav_menu": {},
   "number_sections": true,
   "sideBar": true,
   "skip_h1_title": false,
   "title_cell": "Table of Contents",
   "title_sidebar": "Contents",
   "toc_cell": false,
   "toc_position": {},
   "toc_section_display": true,
   "toc_window_display": false
  },
  "varInspector": {
   "cols": {
    "lenName": 16,
    "lenType": 16,
    "lenVar": 40
   },
   "kernels_config": {
    "python": {
     "delete_cmd_postfix": "",
     "delete_cmd_prefix": "del ",
     "library": "var_list.py",
     "varRefreshCmd": "print(var_dic_list())"
    },
    "r": {
     "delete_cmd_postfix": ") ",
     "delete_cmd_prefix": "rm(",
     "library": "var_list.r",
     "varRefreshCmd": "cat(var_dic_list()) "
    }
   },
   "types_to_exclude": [
    "module",
    "function",
    "builtin_function_or_method",
    "instance",
    "_Feature"
   ],
   "window_display": false
  }
 },
 "nbformat": 4,
 "nbformat_minor": 4
}