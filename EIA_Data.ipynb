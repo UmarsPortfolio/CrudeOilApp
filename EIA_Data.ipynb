{
 "cells": [
  {
   "cell_type": "markdown",
   "metadata": {},
   "source": [
    "# GitUp"
   ]
  },
  {
   "cell_type": "code",
   "execution_count": null,
   "metadata": {
    "ExecuteTime": {
     "end_time": "2020-09-16T07:10:45.751702Z",
     "start_time": "2020-09-16T07:10:39.388258Z"
    }
   },
   "outputs": [],
   "source": [
    "\n",
    "!git add .\n",
    "!git commit -m \"Desktop\"\n",
    "!git push"
   ]
  },
  {
   "cell_type": "markdown",
   "metadata": {},
   "source": [
    "# Imports"
   ]
  },
  {
   "cell_type": "code",
   "execution_count": 1,
   "metadata": {
    "ExecuteTime": {
     "end_time": "2020-09-18T01:49:19.925105Z",
     "start_time": "2020-09-18T01:49:18.071675Z"
    }
   },
   "outputs": [],
   "source": [
    "# Libraries\n",
    "import pandas as pd\n",
    "import pandas as pd\n",
    "import requests\n",
    "import json\n",
    "import functools\n",
    "import sqlite3\n",
    "import pprint as pp\n",
    "import matplotlib.pyplot as plt"
   ]
  },
  {
   "cell_type": "markdown",
   "metadata": {},
   "source": [
    "# Classes"
   ]
  },
  {
   "cell_type": "code",
   "execution_count": 2,
   "metadata": {
    "ExecuteTime": {
     "end_time": "2020-09-18T01:49:20.783469Z",
     "start_time": "2020-09-18T01:49:20.761536Z"
    },
    "code_folding": []
   },
   "outputs": [],
   "source": [
    "class EIA_Series:\n",
    "    \n",
    "    eia_api_url= 'http://api.eia.gov/series/?api_key=651b30b69f4f47a13a2912d673f7da93&series_id='\n",
    "    \n",
    "    \n",
    "    def __init__(\n",
    "        self,\n",
    "        name,\n",
    "        id,\n",
    "        desc = None\n",
    "    ):\n",
    "        self.name = name\n",
    "        self.id = id\n",
    "        self.desc = desc\n",
    "        \n",
    "        self.request = requests.get(self.eia_api_url+self.id)\n",
    "        self.series_dict = json.loads(self.request.text)\n",
    "        \n",
    "    def show_response(self):\n",
    "        \n",
    "        pp.pprint(self.series_dict)\n",
    "          \n",
    "        \n",
    "    def make_df(self,format='%Y%m%d',data_col='data',date_col='Date'):\n",
    "        \n",
    "        self.data_col = data_col\n",
    "        self.date_col = date_col\n",
    "        \n",
    "        self.series_list=self.series_dict['series'][0][data_col]\n",
    "        self.series_frame = pd.DataFrame(self.series_list)\n",
    "        self.series_frame.columns=[self.date_col,self.name]     \n",
    "        \n",
    "        self.series_frame[self.date_col]=pd.to_datetime(\n",
    "            self.series_frame[self.date_col],\n",
    "            format=(format)\n",
    "        )\n",
    "        \n",
    "        self.series_frame.set_index(\n",
    "            self.date_col,drop=True,inplace=True)\n",
    "            \n",
    "        self.series_frame.sort_index(ascending=True,inplace=True)\n",
    "        self.series_frame['delta'+self.name] = self.series_frame[self.name].diff()\n",
    "        self.series_frame['rolling'+self.name] = self.series_frame[self.name].rolling(window=50).mean()\n",
    "\n",
    "    def chart(self):\n",
    "        self.fig,self.ax = plt.subplots(figsize=(10,6))\n",
    "        self.ax.plot(self.series_frame)\n",
    "    def report(self):\n",
    "        print(\n",
    "        \"Earliest Point: {} \\n\".format(self.data.iloc[0].name),\n",
    "        \"Latest Point: {} \\n\".format(self.data.iloc[-1].name),\n",
    "        \"\"\n",
    "        )\n"
   ]
  },
  {
   "cell_type": "code",
   "execution_count": 3,
   "metadata": {
    "ExecuteTime": {
     "end_time": "2020-09-18T01:49:23.152917Z",
     "start_time": "2020-09-18T01:49:23.134966Z"
    },
    "code_folding": []
   },
   "outputs": [
    {
     "ename": "IndentationError",
     "evalue": "expected an indented block (<ipython-input-3-773fbeb7d4e0>, line 7)",
     "output_type": "error",
     "traceback": [
      "\u001b[1;36m  File \u001b[1;32m\"<ipython-input-3-773fbeb7d4e0>\"\u001b[1;36m, line \u001b[1;32m7\u001b[0m\n\u001b[1;33m    for the top n_highest_counts values'''\u001b[0m\n\u001b[1;37m                                          \n^\u001b[0m\n\u001b[1;31mIndentationError\u001b[0m\u001b[1;31m:\u001b[0m expected an indented block\n"
     ]
    }
   ],
   "source": [
    "class Workpiece:\n",
    "    def __init__(data):\n",
    "        self.orig_data = data\n",
    "        \n",
    "    def report (self,n_highest_counts = 10):\n",
    "    ''' Returns a dataframe reporting on the value counts of input frame,\n",
    "    for the top n_highest_counts values'''\n",
    "    \n",
    "        master={}\n",
    "\n",
    "        for column in dataframe.columns:\n",
    "\n",
    "            master[column]={}\n",
    "            col_dict = master[column]\n",
    "            col_dict['type'] = str(dataframe[column].dtypes)\n",
    "            col_dict['% empty'] = round(((len(dataframe)-dataframe[column].count())/len(dataframe))*100,2)\n",
    "            col_dict['unique values'] = dataframe[column].nunique()\n",
    "            \n",
    "            series1 = dataframe[column].value_counts().head(n_highest_counts)\n",
    "            series1 = round((series1/len(dataframe)) * 100, 2)  \n",
    "            \n",
    "            x = 1\n",
    "\n",
    "            for index,item in series1.items():\n",
    "                value_prop = str(x) + 'nth_value_%'\n",
    "                value_name = str(x) + 'nth_value'\n",
    "                col_dict[value_name] = index\n",
    "                col_dict[value_prop] = item\n",
    "                x += 1\n",
    "\n",
    "        df_report=pd.DataFrame.from_dict(master,orient='index')\n",
    "        df_report.sort_values(['1nth_value_%'],ascending=False,inplace=True)\n",
    "\n",
    "        return df_report\n",
    "        \n",
    "    \n",
    "        \n",
    "        "
   ]
  },
  {
   "cell_type": "code",
   "execution_count": null,
   "metadata": {},
   "outputs": [],
   "source": [
    "class Workpiece:\n",
    "    def __init__(data):\n",
    "        self.orig_data = data\n",
    "        \n",
    "    def report (self,n_highest_counts = 10):\n",
    "    ''' Returns a dataframe reporting on the value counts of input frame,\n",
    "    for the top n_highest_counts values'''\n",
    "    \n",
    "        master={}\n",
    "\n",
    "        for column in dataframe.columns:\n",
    "\n",
    "            master[column]={}\n",
    "            col_dict = master[column]\n",
    "            col_dict['type'] = str(dataframe[column].dtypes)\n",
    "            col_dict['% empty'] = round(((len(dataframe)-dataframe[column].count())/len(dataframe))*100,2)\n",
    "            col_dict['unique values'] = dataframe[column].nunique()\n",
    "            \n",
    "            series1 = dataframe[column].value_counts().head(n_highest_counts)\n",
    "            series1 = round((series1/len(dataframe)) * 100, 2)  \n",
    "            \n",
    "            x = 1\n",
    "\n",
    "            for index,item in series1.items():\n",
    "                value_prop = str(x) + 'nth_value_%'\n",
    "                value_name = str(x) + 'nth_value'\n",
    "                col_dict[value_name] = index\n",
    "                col_dict[value_prop] = item\n",
    "                x += 1\n",
    "\n",
    "        df_report=pd.DataFrame.from_dict(master,orient='index')\n",
    "        df_report.sort_values(['1nth_value_%'],ascending=False,inplace=True)\n",
    "\n",
    "        return df_report\n",
    "        "
   ]
  },
  {
   "cell_type": "code",
   "execution_count": null,
   "metadata": {},
   "outputs": [],
   "source": [
    "class Feature:\n",
    "    def __init__(data):\n",
    "        self.orig_data = data\n",
    "        \n",
    "    def report (self,n_highest_counts = 10):\n",
    "    ''' Returns a dataframe reporting on the value counts of input frame,\n",
    "    for the top n_highest_counts values'''\n",
    "    \n",
    "        master={}\n",
    "\n",
    "        for column in dataframe.columns:\n",
    "\n",
    "            master[column]={}\n",
    "            col_dict = master[column]\n",
    "            col_dict['type'] = str(dataframe[column].dtypes)\n",
    "            col_dict['% empty'] = round(((len(dataframe)-dataframe[column].count())/len(dataframe))*100,2)\n",
    "            col_dict['unique values'] = dataframe[column].nunique()\n",
    "            \n",
    "            series1 = dataframe[column].value_counts().head(n_highest_counts)\n",
    "            series1 = round((series1/len(dataframe)) * 100, 2)  \n",
    "            \n",
    "            x = 1\n",
    "\n",
    "            for index,item in series1.items():\n",
    "                value_prop = str(x) + 'nth_value_%'\n",
    "                value_name = str(x) + 'nth_value'\n",
    "                col_dict[value_name] = index\n",
    "                col_dict[value_prop] = item\n",
    "                x += 1\n",
    "\n",
    "        df_report=pd.DataFrame.from_dict(master,orient='index')\n",
    "        df_report.sort_values(['1nth_value_%'],ascending=False,inplace=True)\n",
    "\n",
    "        return df_report\n",
    "        "
   ]
  },
  {
   "cell_type": "markdown",
   "metadata": {},
   "source": [
    "# Explore Series"
   ]
  },
  {
   "cell_type": "markdown",
   "metadata": {},
   "source": [
    "## Daily Spot Price"
   ]
  },
  {
   "cell_type": "code",
   "execution_count": 5,
   "metadata": {
    "ExecuteTime": {
     "end_time": "2020-09-18T01:49:39.714360Z",
     "start_time": "2020-09-18T01:49:38.631165Z"
    }
   },
   "outputs": [
    {
     "data": {
      "image/png": "[encoded data removed]",
      "text/plain": [
       "<Figure size 720x432 with 1 Axes>"
      ]
     },
     "metadata": {
      "needs_background": "light"
     },
     "output_type": "display_data"
    }
   ],
   "source": [
    "desc = ''\n",
    "\n",
    "daily_price = EIA_Series('Daily Price','PET.RWTC.D')\n",
    "daily_price.make_df()\n",
    "daily_price.chart()"
   ]
  },
  {
   "cell_type": "code",
   "execution_count": null,
   "metadata": {},
   "outputs": [],
   "source": [
    "daily"
   ]
  },
  {
   "cell_type": "code",
   "execution_count": 7,
   "metadata": {
    "ExecuteTime": {
     "end_time": "2020-09-18T01:50:49.762763Z",
     "start_time": "2020-09-18T01:50:49.745843Z"
    }
   },
   "outputs": [
    {
     "data": {
      "text/plain": [
       "count    8755.000000\n",
       "mean       44.025800\n",
       "std        28.965105\n",
       "min       -36.980000\n",
       "25%        19.770000\n",
       "50%        31.510000\n",
       "75%        62.915000\n",
       "max       145.310000\n",
       "Name: Daily Price, dtype: float64"
      ]
     },
     "execution_count": 7,
     "metadata": {},
     "output_type": "execute_result"
    }
   ],
   "source": [
    "daily_price.series_frame['Daily Price'].describe()"
   ]
  },
  {
   "cell_type": "markdown",
   "metadata": {},
   "source": [
    "## Daily Field Production in the US"
   ]
  },
  {
   "cell_type": "code",
   "execution_count": 4,
   "metadata": {
    "ExecuteTime": {
     "end_time": "2020-09-18T01:49:27.918699Z",
     "start_time": "2020-09-18T01:49:27.154261Z"
    }
   },
   "outputs": [
    {
     "data": {
      "image/png": "[encoded data removed]",
      "text/plain": [
       "<Figure size 720x432 with 1 Axes>"
      ]
     },
     "metadata": {
      "needs_background": "light"
     },
     "output_type": "display_data"
    }
   ],
   "source": [
    "desc = ''\n",
    "\n",
    "daily_production = EIA_Series('Weekly Stocks','PET.WTTSTUS1.W')\n",
    "daily_production.make_df()\n",
    "daily_production.chart()"
   ]
  },
  {
   "cell_type": "code",
   "execution_count": null,
   "metadata": {
    "ExecuteTime": {
     "end_time": "2020-09-16T01:20:39.331311Z",
     "start_time": "2020-09-16T01:20:38.805450Z"
    },
    "scrolled": false
   },
   "outputs": [],
   "source": [
    "desc = 'US imports of crude oil, monthly'\n",
    "\n",
    "monthly_imports = EIA_Series('Monthly Imports','PET.MCRIMUS1.M',desc )\n",
    "monthly_imports.make_df('%Y%m')\n",
    "monthly_imports.chart()"
   ]
  },
  {
   "cell_type": "markdown",
   "metadata": {},
   "source": [
    "## Dow Jones"
   ]
  },
  {
   "cell_type": "code",
   "execution_count": null,
   "metadata": {
    "ExecuteTime": {
     "end_time": "2020-09-16T06:09:22.291584Z",
     "start_time": "2020-09-16T06:09:22.256135Z"
    }
   },
   "outputs": [],
   "source": [
    "df_dow = pd.read_csv('data/dji.csv')\n",
    "\n",
    "df_dow['Date']=pd.to_datetime(df_dow['Date'])\n",
    "        \n",
    "df_dow.set_index(df_dow['Date'],drop=True,inplace=True)"
   ]
  },
  {
   "cell_type": "code",
   "execution_count": null,
   "metadata": {
    "ExecuteTime": {
     "end_time": "2020-09-16T06:11:31.610075Z",
     "start_time": "2020-09-16T06:11:31.361191Z"
    },
    "scrolled": true
   },
   "outputs": [],
   "source": [
    "df_dow['Close'].plot()"
   ]
  },
  {
   "cell_type": "code",
   "execution_count": null,
   "metadata": {
    "ExecuteTime": {
     "end_time": "2020-09-16T06:27:40.975297Z",
     "start_time": "2020-09-16T06:27:40.954947Z"
    }
   },
   "outputs": [],
   "source": [
    "df_dow['delta_dow']  = df_dow['Close'].diff()\n",
    "\n",
    "X = df_dow[['delta_dow']]\n",
    "\n",
    "y = daily_price.series_frame[['deltaDaily Price']]\n",
    "\n",
    "merged = y.merge(X,how='inner',left_index=True,right_index=True)"
   ]
  },
  {
   "cell_type": "code",
   "execution_count": null,
   "metadata": {
    "ExecuteTime": {
     "end_time": "2020-09-16T06:28:33.627938Z",
     "start_time": "2020-09-16T06:28:33.610984Z"
    }
   },
   "outputs": [],
   "source": [
    "merged.head()"
   ]
  },
  {
   "cell_type": "code",
   "execution_count": null,
   "metadata": {
    "ExecuteTime": {
     "end_time": "2020-09-16T06:39:01.864953Z",
     "start_time": "2020-09-16T06:39:01.373216Z"
    }
   },
   "outputs": [],
   "source": [
    "x=merged['deltaDaily Price']\n",
    "y=merged['delta_dow']\n",
    "plt.scatter(x=x,y=y)"
   ]
  },
  {
   "cell_type": "code",
   "execution_count": null,
   "metadata": {
    "ExecuteTime": {
     "end_time": "2020-09-16T06:39:43.673573Z",
     "start_time": "2020-09-16T06:39:41.653076Z"
    }
   },
   "outputs": [],
   "source": [
    "import numpy as np\n",
    "from sklearn.linear_model import LinearRegression\n",
    "\n",
    "model= LinearRegression()"
   ]
  },
  {
   "cell_type": "code",
   "execution_count": null,
   "metadata": {
    "ExecuteTime": {
     "end_time": "2020-09-16T06:40:24.976487Z",
     "start_time": "2020-09-16T06:40:24.955547Z"
    }
   },
   "outputs": [],
   "source": [
    "model.fit(x.reshape(-1,1),y)"
   ]
  },
  {
   "cell_type": "markdown",
   "metadata": {
    "ExecuteTime": {
     "end_time": "2020-09-16T00:33:09.772330Z",
     "start_time": "2020-09-16T00:33:04.524118Z"
    }
   },
   "source": [
    "# To-Do"
   ]
  },
  {
   "cell_type": "markdown",
   "metadata": {},
   "source": [
    "1. Moving averages?\n",
    "2. Correlation between price and:\n",
    "3. Features to add/explore:\n",
    "    a. Active wells?\n",
    "    b. Refinery inputs?\n",
    "    c. consumption?\n",
    "    d. month?\n",
    "    e. \n",
    "    \n"
   ]
  },
  {
   "cell_type": "markdown",
   "metadata": {},
   "source": [
    "# SCRAPS"
   ]
  },
  {
   "cell_type": "code",
   "execution_count": null,
   "metadata": {},
   "outputs": [],
   "source": [
    "\\\n",
    "df_eia=functools.reduce(lambda x,y: x.join(y,how='outer'),frame_list)\n",
    "df_eia.fillna(axis=0,method='ffill',inplace=True)\n",
    "\n",
    "conn = sqlite3.connect('oilstocks.db')\n",
    "c = conn.cursor()\n",
    "\n",
    "for col in df_eia:\n",
    "    df_eia[col]=preprocessing.scale(df_eia[col])\n",
    "\n",
    "df_eia.to_sql(\"scaledstocks\",conn,if_exists='replace')\n",
    "conn.commit()\n",
    "\n",
    "df_eia.to_sql(\"crudestocks\",conn,if_exists='replace')"
   ]
  }
 ],
 "metadata": {
  "kernelspec": {
   "display_name": "Python 3",
   "language": "python",
   "name": "python3"
  },
  "language_info": {
   "codemirror_mode": {
    "name": "ipython",
    "version": 3
   },
   "file_extension": ".py",
   "mimetype": "text/x-python",
   "name": "python",
   "nbconvert_exporter": "python",
   "pygments_lexer": "ipython3",
   "version": "3.7.4"
  },
  "toc": {
   "base_numbering": 1,
   "nav_menu": {},
   "number_sections": true,
   "sideBar": true,
   "skip_h1_title": false,
   "title_cell": "Table of Contents",
   "title_sidebar": "Contents",
   "toc_cell": false,
   "toc_position": {},
   "toc_section_display": true,
   "toc_window_display": false
  },
  "varInspector": {
   "cols": {
    "lenName": 16,
    "lenType": 16,
    "lenVar": 40
   },
   "kernels_config": {
    "python": {
     "delete_cmd_postfix": "",
     "delete_cmd_prefix": "del ",
     "library": "var_list.py",
     "varRefreshCmd": "print(var_dic_list())"
    },
    "r": {
     "delete_cmd_postfix": ") ",
     "delete_cmd_prefix": "rm(",
     "library": "var_list.r",
     "varRefreshCmd": "cat(var_dic_list()) "
    }
   },
   "types_to_exclude": [
    "module",
    "function",
    "builtin_function_or_method",
    "instance",
    "_Feature"
   ],
   "window_display": false
  }
 },
 "nbformat": 4,
 "nbformat_minor": 4
}
