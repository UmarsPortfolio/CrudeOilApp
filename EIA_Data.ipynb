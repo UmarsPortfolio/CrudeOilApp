{
 "cells": [
  {
   "cell_type": "markdown",
   "metadata": {},
   "source": [
    "# GitUp"
   ]
  },
  {
   "cell_type": "code",
   "execution_count": null,
   "metadata": {},
   "outputs": [],
   "source": [
    "!git pull\n",
    "!git add .\n",
    "!git commit -m \"Desktop\"\n",
    "!git push"
   ]
  },
  {
   "cell_type": "markdown",
   "metadata": {},
   "source": [
    "# Imports"
   ]
  },
  {
   "cell_type": "code",
   "execution_count": null,
   "metadata": {
    "ExecuteTime": {
     "end_time": "2020-09-16T00:34:23.498971Z",
     "start_time": "2020-09-16T00:34:23.493987Z"
    }
   },
   "outputs": [],
   "source": [
    "# Libraries\n",
    "import pandas as pd\n",
    "import pandas as pd\n",
    "import requests\n",
    "import json\n",
    "import functools\n",
    "import sqlite3\n",
    "import pprint as pp"
   ]
  },
  {
   "cell_type": "markdown",
   "metadata": {},
   "source": [
    "# Classes"
   ]
  },
  {
   "cell_type": "code",
   "execution_count": null,
   "metadata": {
    "ExecuteTime": {
     "end_time": "2020-09-16T00:27:43.373675Z",
     "start_time": "2020-09-16T00:27:43.357721Z"
    },
    "code_folding": []
   },
   "outputs": [],
   "source": [
    "class EIA_Series:\n",
    "    \n",
    "    eia_api_url= 'http://api.eia.gov/series/?api_key=651b30b69f4f47a13a2912d673f7da93&series_id='\n",
    "    \n",
    "    \n",
    "    def __init__(\n",
    "        self,\n",
    "        name,\n",
    "        id,\n",
    "        desc = None\n",
    "    ):\n",
    "        self.name = name\n",
    "        self.id = id\n",
    "        self.desc = desc\n",
    "        \n",
    "        self.request = requests.get(eia_api_url+self.id)\n",
    "        self.series_dict = json.loads(self.request.text)\n",
    "        \n",
    "    def show_response(self):\n",
    "        \n",
    "        pp.pprint(self.series_dict)\n",
    "          \n",
    "        \n",
    "    def make_df(self,format='%Y%m%d',data_col='data',date_col='Date'):\n",
    "        \n",
    "        self.data_col = data_col\n",
    "        self.date_col = date_col\n",
    "        \n",
    "        self.series_list=self.series_dict['series'][0][data_col]\n",
    "        self.series_frame = pd.DataFrame(self.series_list)\n",
    "        self.series_frame.columns=[self.date_col,self.name]\n",
    "        \n",
    "        \n",
    "        \n",
    "        self.series_frame[self.date_col]=pd.to_datetime(\n",
    "            self.series_frame[self.date_col],\n",
    "            format=(format)\n",
    "        )\n",
    "        \n",
    "        self.series_frame.set_index(\n",
    "            self.date_col,drop=True,inplace=True)\n",
    "            \n",
    "        self.series_frame.sort_index(ascending=True,inplace=True)\n",
    "    \n",
    "    def chart(self):\n",
    "        self.series_frame.plot()\n",
    "        \n",
    "    def report(self):\n",
    "        print(\n",
    "        \"Earliest Point: {} \\n\".format(self.data.iloc[0].name),\n",
    "        \"Latest Point: {} \\n\".format(self.data.iloc[-1].name),\n",
    "        \"\"\n",
    "        )\n"
   ]
  },
  {
   "cell_type": "markdown",
   "metadata": {},
   "source": [
    "# Explore Series"
   ]
  },
  {
   "cell_type": "code",
   "execution_count": null,
   "metadata": {
    "ExecuteTime": {
     "end_time": "2020-09-16T00:27:45.194860Z",
     "start_time": "2020-09-16T00:27:44.540722Z"
    }
   },
   "outputs": [],
   "source": [
    "desc = ''\n",
    "\n",
    "weekly_stocks = EIA_Series('Weekly Stocks','PET.WTTSTUS1.W')\n",
    "weekly_stocks.make_df()\n",
    "weekly_stocks.chart()"
   ]
  },
  {
   "cell_type": "code",
   "execution_count": null,
   "metadata": {
    "ExecuteTime": {
     "end_time": "2020-09-16T00:28:15.632773Z",
     "start_time": "2020-09-16T00:28:15.107046Z"
    },
    "scrolled": false
   },
   "outputs": [],
   "source": [
    "desc = 'US imports of crude oil, monthly'\n",
    "\n",
    "monthly_imports = EIA_Series('Monthly Imports','PET.MCRIMUS1.M',desc )\n",
    "monthly_imports.make_df('%Y%m')\n",
    "monthly_imports.chart()"
   ]
  },
  {
   "cell_type": "code",
   "execution_count": null,
   "metadata": {
    "ExecuteTime": {
     "end_time": "2020-09-16T00:27:47.491579Z",
     "start_time": "2020-09-16T00:27:47.484600Z"
    }
   },
   "outputs": [],
   "source": [
    "monthly_imports.series_list[-1]"
   ]
  },
  {
   "cell_type": "code",
   "execution_count": null,
   "metadata": {
    "ExecuteTime": {
     "end_time": "2020-09-16T00:33:09.772330Z",
     "start_time": "2020-09-16T00:33:04.524118Z"
    }
   },
   "outputs": [],
   "source": []
  },
  {
   "cell_type": "code",
   "execution_count": null,
   "metadata": {},
   "outputs": [],
   "source": [
    "\\\n",
    "df_eia=functools.reduce(lambda x,y: x.join(y,how='outer'),frame_list)\n",
    "df_eia.fillna(axis=0,method='ffill',inplace=True)\n",
    "\n",
    "conn = sqlite3.connect('oilstocks.db')\n",
    "c = conn.cursor()\n",
    "\n",
    "for col in df_eia:\n",
    "    df_eia[col]=preprocessing.scale(df_eia[col])\n",
    "\n",
    "df_eia.to_sql(\"scaledstocks\",conn,if_exists='replace')\n",
    "conn.commit()\n",
    "\n",
    "df_eia.to_sql(\"crudestocks\",conn,if_exists='replace')"
   ]
  }
 ],
 "metadata": {
  "kernelspec": {
   "display_name": "Python 3",
   "language": "python",
   "name": "python3"
  },
  "language_info": {
   "codemirror_mode": {
    "name": "ipython",
    "version": 3
   },
   "file_extension": ".py",
   "mimetype": "text/x-python",
   "name": "python",
   "nbconvert_exporter": "python",
   "pygments_lexer": "ipython3",
   "version": "3.7.4"
  },
  "toc": {
   "base_numbering": 1,
   "nav_menu": {},
   "number_sections": true,
   "sideBar": true,
   "skip_h1_title": false,
   "title_cell": "Table of Contents",
   "title_sidebar": "Contents",
   "toc_cell": false,
   "toc_position": {},
   "toc_section_display": true,
   "toc_window_display": false
  },
  "varInspector": {
   "cols": {
    "lenName": 16,
    "lenType": 16,
    "lenVar": 40
   },
   "kernels_config": {
    "python": {
     "delete_cmd_postfix": "",
     "delete_cmd_prefix": "del ",
     "library": "var_list.py",
     "varRefreshCmd": "print(var_dic_list())"
    },
    "r": {
     "delete_cmd_postfix": ") ",
     "delete_cmd_prefix": "rm(",
     "library": "var_list.r",
     "varRefreshCmd": "cat(var_dic_list()) "
    }
   },
   "types_to_exclude": [
    "module",
    "function",
    "builtin_function_or_method",
    "instance",
    "_Feature"
   ],
   "window_display": false
  }
 },
 "nbformat": 4,
 "nbformat_minor": 4
}
