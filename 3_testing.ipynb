{
 "metadata": {
  "language_info": {
   "codemirror_mode": {
    "name": "ipython",
    "version": 3
   },
   "file_extension": ".py",
   "mimetype": "text/x-python",
   "name": "python",
   "nbconvert_exporter": "python",
   "pygments_lexer": "ipython3",
   "version": "3.8.3-final"
  },
  "orig_nbformat": 2,
  "kernelspec": {
   "name": "Python 3.8.3 64-bit (conda)",
   "display_name": "Python 3.8.3 64-bit (conda)",
   "metadata": {
    "interpreter": {
     "hash": "5d42bb3e1c1afa804c296b0713415242ceb93874b5c1d7016309b07083afc30a"
    }
   }
  }
 },
 "nbformat": 4,
 "nbformat_minor": 2,
 "cells": [
  {
   "cell_type": "code",
   "execution_count": 1,
   "metadata": {},
   "outputs": [
    {
     "output_type": "stream",
     "name": "stderr",
     "text": [
      "warning: LF will be replaced by CRLF in 1_MainAnalysis.ipynb.\n",
      "The file will have its original line endings in your working directory\n",
      "warning: LF will be replaced by CRLF in 3_testing.ipynb.\n",
      "The file will have its original line endings in your working directory\n",
      "[master f0b4ec9] News Report is working (but not live updating)\n",
      " 8 files changed, 432 insertions(+), 225 deletions(-)\n",
      " rewrite 3_testing.ipynb (67%)\n",
      " create mode 100644 scripts/bulk_download.py\n",
      "To https://github.com/thekhan314/CrudeOilApp.git\n",
      "   e6e8f15..f0b4ec9  master -> master\n"
     ]
    }
   ],
   "source": [
    "!git add .\n",
    "!git commit -m \"EIA Data updating script looks good to go\"\n",
    "!git push"
   ]
  },
  {
   "cell_type": "code",
   "execution_count": 1,
   "metadata": {},
   "outputs": [],
   "source": [
    "from data.data_functions import *\n",
    "import math\n",
    "import datetime as dt\n",
    "import sqlite3\n",
    "import pandas as pd\n",
    "\n",
    "from datashop import *\n",
    "\n",
    "path = 'c:/prompt_root/CrudeOilApp'\n",
    "relpath = '/data/nyt_api/nyt_jsons/'\n",
    "\n",
    "conn = sqlite3.connect('data/energydash.db')\n",
    "\n",
    "#test_bulk = jsons_to_frame(path,relpath,conn)\n",
    "#test_bulk.to_csv('data/nyt_api/nyt_articles.csv')"
   ]
  },
  {
   "cell_type": "code",
   "execution_count": 2,
   "metadata": {},
   "outputs": [
    {
     "output_type": "stream",
     "name": "stdout",
     "text": [
      "20200501\n"
     ]
    }
   ],
   "source": [
    "import datetime as dt\n",
    "\n",
    "query = \" SELECT MAX(Date) from MonthlyRigCount\"\n",
    "last_date = conn.execute(query).fetchall()[0][0]\n",
    "last_date = dt.datetime.strptime(last_date[:10], '%Y-%m-%d').strftime('%Y%m%d')\n",
    "print(last_date)"
   ]
  },
  {
   "source": [
    "# EIA Data"
   ],
   "cell_type": "markdown",
   "metadata": {}
  },
  {
   "cell_type": "code",
   "execution_count": 3,
   "metadata": {},
   "outputs": [
    {
     "output_type": "stream",
     "name": "stdout",
     "text": [
      "                  Date  WeeklyStocks\n",
      "0  2020-09-04 00:00:00     2072722.0\n",
      "1  2020-09-03 00:00:00     2076448.0\n",
      "2  2020-09-02 00:00:00     2076448.0\n",
      "3  2020-09-01 00:00:00     2076448.0\n",
      "4  2020-08-31 00:00:00     2076448.0\n",
      "                  Date  DailyPrice\n",
      "0  2020-09-10 00:00:00       37.25\n",
      "1  2020-09-09 00:00:00       38.05\n",
      "2  2020-09-08 00:00:00       36.87\n",
      "3  2020-09-07 00:00:00       39.69\n",
      "4  2020-09-04 00:00:00       39.69\n",
      "                  Date  ProductSupplied\n",
      "0  2020-09-04 00:00:00          18678.0\n",
      "1  2020-09-03 00:00:00          16979.0\n",
      "2  2020-09-02 00:00:00          16979.0\n",
      "3  2020-09-01 00:00:00          16979.0\n",
      "4  2020-08-31 00:00:00          16979.0\n",
      "                  Date  MonthlyRigCount\n",
      "0  2020-05-01 00:00:00            267.0\n",
      "1  2020-04-30 00:00:00            471.0\n",
      "2  2020-04-29 00:00:00            471.0\n",
      "3  2020-04-28 00:00:00            471.0\n",
      "4  2020-04-27 00:00:00            471.0\n"
     ]
    }
   ],
   "source": [
    "\n",
    "\n",
    "# EIA_Bulk\n",
    "\n",
    "\n",
    "eia_dict = {\n",
    "    'PET.WTTSTUS1.W':['WeeklyStocks','235081','%Y%m%d'],\n",
    "    'PET.RWTC.D':['DailyPrice','241335','%Y%m%d'],\n",
    "    'PET.WRPUPUS2.W':['ProductSupplied','401676','%Y%m%d'],\n",
    "    'PET.E_ERTRRO_XR0_NUS_C.M':['MonthlyRigCount','296749','%Y%m']\n",
    "}\n",
    "\n",
    "for key,val in eia_dict.items():\n",
    "\n",
    "    e_ser = EIA_Series(key,name = val[0],date_format = val[2], end = '20200910')\n",
    "\n",
    "    bulk_ser = e_ser.series\n",
    "\n",
    "    bulk_ser.to_sql(val[0],conn,if_exists='replace')  \n",
    "\n",
    "    query = \" SELECT * FROM {} ORDER BY Date DESC LIMIT 5\".format(val[0])\n",
    "    df = pd.read_sql(query,conn)\n",
    "    print(df)"
   ]
  },
  {
   "cell_type": "code",
   "execution_count": 12,
   "metadata": {},
   "outputs": [
    {
     "output_type": "stream",
     "name": "stdout",
     "text": [
      "{'WeeklyStocks': ('2020-10-30 00:00:00', 2015817.0), 'DailyPrice': ('2020-11-03 00:00:00', 37.44), 'ProductSupplied': ('2020-10-30 00:00:00', 18362.0), 'MonthlyRigCount': ('2020-05-01 00:00:00', 267.0)}\n"
     ]
    }
   ],
   "source": [
    "eia_dict = {\n",
    "    'PET.WTTSTUS1.W':['WeeklyStocks','235081','%Y%m%d'],\n",
    "    'PET.RWTC.D':['DailyPrice','241335','%Y%m%d'],\n",
    "    'PET.WRPUPUS2.W':['ProductSupplied','401676','%Y%m%d'],\n",
    "    'PET.E_ERTRRO_XR0_NUS_C.M':['MonthlyRigCount','296749','%Y%m']\n",
    "}\n",
    "\n",
    "with open ('data/cache.json','r') as cache_file:\n",
    "    cache_dict = json.load(cache_file)\n",
    "\n",
    "#_________ Base URL. Requires category ID to return series in that category\"\n",
    "\n",
    "eia_api_url= 'http://api.eia.gov/updates/?api_key=651b30b69f4f47a13a2912d673f7da93&category_id='\n",
    "\n",
    "\n",
    "\n",
    "# ________ Get last update time for each series. \n",
    "\n",
    "current_eia = {}\n",
    "\n",
    "for key,val in eia_dict.items():\n",
    "\n",
    "    url = eia_api_url + val[1] + '&rows=10000'\n",
    "    request = requests.get(url)\n",
    "    dict = json.loads(request.text)\n",
    "\n",
    "    # Load last updated time from DB\n",
    "    \n",
    "    query = \" SELECT MAX(Date) from {}\".format(val[0])\n",
    "    last_date = conn.execute(query).fetchall()[0][0]\n",
    "    last_date_eia = dt.datetime.strptime(last_date[:10], '%Y-%m-%d').strftime(val[2])\n",
    "\n",
    "    last_update = 'not found'\n",
    "    #Get last updated time from API\n",
    "    for update in dict['updates']:\n",
    "        if update['series_id'] == key:\n",
    "            last_update = update['updated']\n",
    "            last_update = dt.datetime.strptime(last_update[:10], '%Y-%m-%d').strftime(val[2])\n",
    "\n",
    "    #compare both, get updates if needed and add to table\n",
    "\n",
    "    if last_update > last_date:\n",
    "        new_series = EIA_Series(\n",
    "            key, \n",
    "            name=val[0],\n",
    "            start = last_date_eia,\n",
    "            date_format = val[2]).series\n",
    "\n",
    "        new_series = new_series[new_series.index > pd.Timestamp(last_date)]\n",
    "        new_series.to_sql(val[0],conn,if_exists='append')   \n",
    "\n",
    "    # get the current last value for later use\n",
    "\n",
    "    query = \" SELECT * FROM  {} WHERE Date = (SELECT MAX(Date) FROM {})\".format(val[0],val[0])\n",
    "    last_date = conn.execute(query).fetchall()[0]\n",
    "\n",
    "    current_eia[val[0]] = last_date\n",
    "\n",
    "print(current_eia)\n"
   ]
  },
  {
   "cell_type": "code",
   "execution_count": 13,
   "metadata": {},
   "outputs": [
    {
     "output_type": "stream",
     "name": "stdout",
     "text": [
      "2020-10-30 00:00:00\n"
     ]
    }
   ],
   "source": [
    "print(pd.Timestamp(last_date))"
   ]
  },
  {
   "cell_type": "code",
   "execution_count": null,
   "metadata": {},
   "outputs": [],
   "source": [
    "if last_update > last_date:\n",
    "        new_series = EIA_Series(key,start=last_date)\n",
    "        new_series.series.to_sql(val[0],conn,if_exists='append')"
   ]
  },
  {
   "source": [
    "# News Data "
   ],
   "cell_type": "markdown",
   "metadata": {}
  },
  {
   "cell_type": "code",
   "execution_count": null,
   "metadata": {},
   "outputs": [],
   "source": [
    "c = conn.cursor()\n",
    "last_date = c.execute('SELECT max(retrieved) from news').fetchone()[0]\n",
    "print(last_date)"
   ]
  },
  {
   "cell_type": "code",
   "execution_count": null,
   "metadata": {},
   "outputs": [],
   "source": [
    "with open ('data/cache.json','r') as cache_file:\n",
    "    cache_dict = json.load(cache_file)\n",
    "\n",
    "start_date = cache_dict['news_update']\n",
    "end_date = str(dt.datetime.now())\n",
    "\n",
    "quer = 'Oil (Petroleum) and Gasoline'\n",
    "\n",
    "test_call = nytResp(start_date,end_date,quer)\n",
    "\n",
    "if test_call.hits > 0:\n",
    "    conn = sqlite3.connect('data/energydash.db')\n",
    "    test_call.frame.to_sql('news',conn,if_exists='append')\n",
    "\n",
    "with open ('data/cache.json','w') as cache_file:\n",
    "    json.dump(test_call.cache_dict,cache_file)"
   ]
  },
  {
   "cell_type": "code",
   "execution_count": null,
   "metadata": {},
   "outputs": [],
   "source": [
    "# Testing News\n",
    "\n",
    "conn = sqlite3.connect('data/energydash.db')\n",
    "\n",
    "query = 'SELECT date,abstract,url,retrieved FROM news ORDER BY date DESC LIMIT 10'\n",
    "df = pd.read_sql_query(query,conn)"
   ]
  }
 ]
}