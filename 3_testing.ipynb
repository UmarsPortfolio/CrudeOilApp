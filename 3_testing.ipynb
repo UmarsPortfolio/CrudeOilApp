{
 "metadata": {
  "language_info": {
   "codemirror_mode": {
    "name": "ipython",
    "version": 3
   },
   "file_extension": ".py",
   "mimetype": "text/x-python",
   "name": "python",
   "nbconvert_exporter": "python",
   "pygments_lexer": "ipython3",
   "version": "3.8.3-final"
  },
  "orig_nbformat": 2,
  "kernelspec": {
   "name": "python3",
   "display_name": "Python 3.8.3 64-bit (conda)",
   "metadata": {
    "interpreter": {
     "hash": "5d42bb3e1c1afa804c296b0713415242ceb93874b5c1d7016309b07083afc30a"
    }
   }
  }
 },
 "nbformat": 4,
 "nbformat_minor": 2,
 "cells": [
  {
   "cell_type": "code",
   "execution_count": 35,
   "metadata": {},
   "outputs": [
    {
     "output_type": "stream",
     "name": "stdout",
     "text": [
      "Updating 764d5dcb..7ae90da1\n",
      "Fast-forward\n",
      " __pycache__/__init__.cpython-36.pyc               | Bin 3199 -> 6263 bytes\n",
      " __pycache__/application_components.cpython-36.pyc | Bin 4923 -> 4942 bytes\n",
      " __pycache__/common.cpython-36.pyc                 | Bin 239 -> 239 bytes\n",
      " __pycache__/data_functions.cpython-36.pyc         | Bin 6961 -> 6983 bytes\n",
      " __pycache__/wsgi.cpython-36.pyc                   | Bin 181 -> 181 bytes\n",
      " data_update_script.py                             |   2 +-\n",
      " 6 files changed, 1 insertion(+), 1 deletion(-)\n",
      "From https://github.com/thekhan314/CrudeOilApp\n",
      "   764d5dcb..7ae90da1  master     -> origin/master\n"
     ]
    }
   ],
   "source": [
    "!git pull"
   ]
  },
  {
   "cell_type": "code",
   "execution_count": 33,
   "metadata": {},
   "outputs": [
    {
     "output_type": "stream",
     "name": "stderr",
     "text": [
      "warning: LF will be replaced by CRLF in 3_testing.ipynb.\n",
      "The file will have its original line endings in your working directory\n",
      "[master 764d5dcb] updated update script to not put redundant entries in db anymore\n",
      " 2 files changed, 8 insertions(+), 7 deletions(-)\n",
      "To https://github.com/thekhan314/CrudeOilApp.git\n",
      "   7b15503c..764d5dcb  master -> master\n"
     ]
    }
   ],
   "source": [
    "!git add .\n",
    "!git commit -m \"updated update script to not put redundant entries in db anymore\"\n",
    "!git push\n"
   ]
  },
  {
   "cell_type": "code",
   "execution_count": 2,
   "metadata": {},
   "outputs": [],
   "source": [
    "from data_functions import *\n",
    "import math\n",
    "import datetime as dt\n",
    "import sqlite3\n",
    "import pandas as pd\n",
    "\n",
    "from datashop import *\n",
    "\n",
    "path = 'c:/prompt_root/CrudeOilApp'\n",
    "relpath = '/data/nyt_api/nyt_jsons/'\n",
    "\n",
    "conn = sqlite3.connect('data/energydash.db')\n",
    "\n",
    "eia_dict = {\n",
    "    'PET.WTTSTUS1.W':['WeeklyStocks','235081','%Y%m%d'],\n",
    "    'PET.RWTC.D':['DailyPrice','241335','%Y%m%d'],\n",
    "    'PET.WRPUPUS2.W':['ProductSupplied','401676','%Y%m%d'],\n",
    "    'PET.E_ERTRRO_XR0_NUS_C.M':['MonthlyRigCount','296749','%Y%m']\n",
    "}\n",
    "\n",
    "#test_bulk = jsons_to_frame(path,relpath,conn)\n",
    "#test_bulk.to_csv('data/nyt_api/nyt_articles.csv')"
   ]
  },
  {
   "cell_type": "code",
   "execution_count": 32,
   "metadata": {},
   "outputs": [
    {
     "output_type": "stream",
     "name": "stdout",
     "text": [
      "2020-11-13\n"
     ]
    }
   ],
   "source": [
    "print('Update ran on {}. No issues'.format(str(dt.datetime.now())))\n"
   ]
  },
  {
   "cell_type": "code",
   "execution_count": 9,
   "metadata": {},
   "outputs": [
    {
     "output_type": "execute_result",
     "data": {
      "text/plain": [
       "                                                  id                 Date  \\\n",
       "2  nyt://article/f22505f8-b09a-5ead-b7b0-6cc621db...  2020-10-23 14:30:44   \n",
       "0  nyt://article/fa382c22-bcf0-5274-bbfc-d9f4eb3d...  2020-10-23 19:02:36   \n",
       "3  nyt://article/7480123e-b134-5314-9457-018a822e...  2020-10-23 21:39:34   \n",
       "5  nyt://article/18ec780b-c5ed-5f91-9986-f1548fa9...  2020-10-26 22:45:08   \n",
       "4  nyt://article/2c2f4778-3f07-5409-95eb-7577516d...  2020-10-29 18:10:13   \n",
       "1  nyt://article/9dfacd69-13ef-52c3-9117-95632d35...  2020-10-30 08:03:10   \n",
       "\n",
       "    date_only                                           abstract doc_type  \\\n",
       "2  2020-10-23  Joseph R. Biden Jr.'s debate statement that he...  article   \n",
       "0  2020-10-23  After the candidate called for a “transition” ...  article   \n",
       "3  2020-10-23  The penalties were aimed at a Russian research...  article   \n",
       "5  2020-10-26  The Trump administration is trying to fortify ...  article   \n",
       "4  2020-10-29  Readers discuss Joe Biden’s debate comment abo...  article   \n",
       "1  2020-10-30  Canada’s oil patch has nearly 100,000 suspende...  article   \n",
       "\n",
       "                                       main_headline  \\\n",
       "2  A Debate Pledge to ‘Transition’ From Oil Puts ...   \n",
       "0  Oil Industry Expresses Concern, Not Alarm, Abo...   \n",
       "3  U.S. Issues Sanctions on Russian Center Involv...   \n",
       "5        U.S. Imposes Sanctions on Iran’s Oil Sector   \n",
       "4                    Transitioning From Fossil Fuels   \n",
       "1            These Zombies Threaten the Whole Planet   \n",
       "\n",
       "                                            keywords    newsdesk  \\\n",
       "2  [{'name': 'subject', 'value': 'Global Warming'...     Climate   \n",
       "0  [{'name': 'subject', 'value': 'Oil (Petroleum)...    Business   \n",
       "3  [{'name': 'subject', 'value': 'Embargoes and S...  Washington   \n",
       "5  [{'name': 'subject', 'value': 'Embargoes and S...  Washington   \n",
       "4  [{'name': 'subject', 'value': 'Alternative and...     Letters   \n",
       "1  [{'name': 'glocations', 'value': 'ALBERTA (CAN...     Climate   \n",
       "\n",
       "                                                 url  \\\n",
       "2  https://www.nytimes.com/2020/10/23/climate/bid...   \n",
       "0  https://www.nytimes.com/2020/10/23/business/en...   \n",
       "3  https://www.nytimes.com/2020/10/23/us/politics...   \n",
       "5  https://www.nytimes.com/2020/10/26/world/middl...   \n",
       "4  https://www.nytimes.com/2020/10/29/opinion/let...   \n",
       "1  https://www.nytimes.com/2020/10/30/climate/oil...   \n",
       "\n",
       "                    retrieved  \n",
       "2  2020-11-13 00:28:11.332141  \n",
       "0  2020-11-13 00:28:11.332141  \n",
       "3  2020-11-13 00:28:11.332141  \n",
       "5  2020-11-13 00:28:11.332141  \n",
       "4  2020-11-13 00:28:11.332141  \n",
       "1  2020-11-13 00:28:11.332141  "
      ],
      "text/html": "<div>\n<style scoped>\n    .dataframe tbody tr th:only-of-type {\n        vertical-align: middle;\n    }\n\n    .dataframe tbody tr th {\n        vertical-align: top;\n    }\n\n    .dataframe thead th {\n        text-align: right;\n    }\n</style>\n<table border=\"1\" class=\"dataframe\">\n  <thead>\n    <tr style=\"text-align: right;\">\n      <th></th>\n      <th>id</th>\n      <th>Date</th>\n      <th>date_only</th>\n      <th>abstract</th>\n      <th>doc_type</th>\n      <th>main_headline</th>\n      <th>keywords</th>\n      <th>newsdesk</th>\n      <th>url</th>\n      <th>retrieved</th>\n    </tr>\n  </thead>\n  <tbody>\n    <tr>\n      <th>2</th>\n      <td>nyt://article/f22505f8-b09a-5ead-b7b0-6cc621db...</td>\n      <td>2020-10-23 14:30:44</td>\n      <td>2020-10-23</td>\n      <td>Joseph R. Biden Jr.'s debate statement that he...</td>\n      <td>article</td>\n      <td>A Debate Pledge to ‘Transition’ From Oil Puts ...</td>\n      <td>[{'name': 'subject', 'value': 'Global Warming'...</td>\n      <td>Climate</td>\n      <td>https://www.nytimes.com/2020/10/23/climate/bid...</td>\n      <td>2020-11-13 00:28:11.332141</td>\n    </tr>\n    <tr>\n      <th>0</th>\n      <td>nyt://article/fa382c22-bcf0-5274-bbfc-d9f4eb3d...</td>\n      <td>2020-10-23 19:02:36</td>\n      <td>2020-10-23</td>\n      <td>After the candidate called for a “transition” ...</td>\n      <td>article</td>\n      <td>Oil Industry Expresses Concern, Not Alarm, Abo...</td>\n      <td>[{'name': 'subject', 'value': 'Oil (Petroleum)...</td>\n      <td>Business</td>\n      <td>https://www.nytimes.com/2020/10/23/business/en...</td>\n      <td>2020-11-13 00:28:11.332141</td>\n    </tr>\n    <tr>\n      <th>3</th>\n      <td>nyt://article/7480123e-b134-5314-9457-018a822e...</td>\n      <td>2020-10-23 21:39:34</td>\n      <td>2020-10-23</td>\n      <td>The penalties were aimed at a Russian research...</td>\n      <td>article</td>\n      <td>U.S. Issues Sanctions on Russian Center Involv...</td>\n      <td>[{'name': 'subject', 'value': 'Embargoes and S...</td>\n      <td>Washington</td>\n      <td>https://www.nytimes.com/2020/10/23/us/politics...</td>\n      <td>2020-11-13 00:28:11.332141</td>\n    </tr>\n    <tr>\n      <th>5</th>\n      <td>nyt://article/18ec780b-c5ed-5f91-9986-f1548fa9...</td>\n      <td>2020-10-26 22:45:08</td>\n      <td>2020-10-26</td>\n      <td>The Trump administration is trying to fortify ...</td>\n      <td>article</td>\n      <td>U.S. Imposes Sanctions on Iran’s Oil Sector</td>\n      <td>[{'name': 'subject', 'value': 'Embargoes and S...</td>\n      <td>Washington</td>\n      <td>https://www.nytimes.com/2020/10/26/world/middl...</td>\n      <td>2020-11-13 00:28:11.332141</td>\n    </tr>\n    <tr>\n      <th>4</th>\n      <td>nyt://article/2c2f4778-3f07-5409-95eb-7577516d...</td>\n      <td>2020-10-29 18:10:13</td>\n      <td>2020-10-29</td>\n      <td>Readers discuss Joe Biden’s debate comment abo...</td>\n      <td>article</td>\n      <td>Transitioning From Fossil Fuels</td>\n      <td>[{'name': 'subject', 'value': 'Alternative and...</td>\n      <td>Letters</td>\n      <td>https://www.nytimes.com/2020/10/29/opinion/let...</td>\n      <td>2020-11-13 00:28:11.332141</td>\n    </tr>\n    <tr>\n      <th>1</th>\n      <td>nyt://article/9dfacd69-13ef-52c3-9117-95632d35...</td>\n      <td>2020-10-30 08:03:10</td>\n      <td>2020-10-30</td>\n      <td>Canada’s oil patch has nearly 100,000 suspende...</td>\n      <td>article</td>\n      <td>These Zombies Threaten the Whole Planet</td>\n      <td>[{'name': 'glocations', 'value': 'ALBERTA (CAN...</td>\n      <td>Climate</td>\n      <td>https://www.nytimes.com/2020/10/30/climate/oil...</td>\n      <td>2020-11-13 00:28:11.332141</td>\n    </tr>\n  </tbody>\n</table>\n</div>"
     },
     "metadata": {},
     "execution_count": 9
    }
   ],
   "source": [
    "# Lates News\n",
    "\n",
    "query = \" SELECT MAX(Date) FROM news LIMIT 1\"\n",
    "last_archive_date = str(conn.execute(query).fetchall()[0][0])\n",
    "\n",
    "end_date = str(dtime.datetime.today().date())\n",
    "\n",
    "query = 'Oil (Petroleum) and Gasoline'\n",
    "\n",
    "recents_call = nytResp(last_archive_date,end_date,query)\n",
    "\n",
    "if recents_call.hits > 0:\n",
    "\n",
    "    df_hits = recents_call.frame\n",
    "\n",
    "    query_lastnews = \" SELECT * FROM news ORDER BY Date DESC LIMIT 50\"\n",
    "    df_lastnews = pd.read_sql(query_lastnews,conn)\n",
    "    df_lastnews = df_lastnews[['Date','abstract''id']]\n",
    "\n",
    "    df_hits = df_hits[~df_hits['id'].isin(df_lastnews['id'])]\n",
    "    \n",
    "    \n",
    "    hits = len(df_hits)   \n",
    "\n",
    "    if hits > 0:               \n",
    "        \n",
    "        records = df_hits[['abstract','Date','url']].to_dict(orient='records')\n",
    "        for record in records:\n",
    "            log_dict['News'].append(record)\n",
    "\n",
    "        df_hits.to_sql('news',conn,if_exists='append')"
   ]
  },
  {
   "cell_type": "code",
   "execution_count": 20,
   "metadata": {},
   "outputs": [
    {
     "output_type": "stream",
     "name": "stdout",
     "text": [
      "                   Date                                           abstract  \\\n0   2020-10-23 14:30:44  Joseph R. Biden Jr.'s debate statement that he...   \n1   2020-10-19 19:40:14  With the price of a barrel stuck around $40 an...   \n2   2020-10-17 09:00:16  There is heartbreak almost everywhere you look...   \n3   2020-10-16 19:00:06  Two new books, David H. Rundell’s “Vision or M...   \n4   2020-10-16 17:12:50  The White House has dismantled major climate a...   \n5   2020-10-15 21:17:50  The assault was an escalation of violence in t...   \n6   2020-10-14 14:12:37  Teams from the neighboring Middle Eastern coun...   \n7   2020-10-09 09:00:24  The oil giant’s takeover of Noble Energy gives...   \n8   2020-10-07 09:00:37  Venezuela’s oil reserves, the world’s largest,...   \n9   2020-10-01 18:02:03  Taxes on gasoline and diesel increased by 9.3 ...   \n10  2020-09-28 09:00:05  In a conversation with Kara Swisher, the billi...   \n11  2020-09-24 11:00:09  This documentary follows individuals pushing b...   \n12  2020-09-23 19:12:59  The proposal would speed up the state’s effort...   \n13  2020-09-21 09:00:25  While BP and other European companies invest b...   \n14  2020-09-17 09:00:34  A giant new vessel, OceanXplorer, seeks to unv...   \n15  2020-09-15 09:00:12  Daniel Yergin’s “The New Map” is a comprehensi...   \n16  2020-09-12 13:14:58  At a meeting last year, industry leaders contr...   \n17  2020-09-08 22:30:30  President Trump traveled to Florida to declare...   \n18  2020-09-03 14:31:38  The liquid levitates, and a boat floats along ...   \n19  2020-08-31 13:50:04  Not that long ago, it was American oil powers ...   \n20  2020-08-30 20:46:30  Hurricane Laura ravaged southwestern Louisiana...   \n21  2020-08-30 15:21:15  It’s time to listen to Germany and take a step...   \n22  2020-08-28 23:29:57  We survived Hurricane Laura, but the Gulf Coas...   \n23  2020-08-27 21:06:16  Hurricane Laura rolled over a coast studded wi...   \n24  2020-08-27 14:56:25  Conflict over drilling rights to massive natur...   \n25  2020-08-27 00:00:21  The United States needs allies. Punishing Berl...   \n26  2020-08-24 18:20:40  A reader calls the former vice president our b...   \n27  2020-08-24 16:33:23  While Louisiana’s governor said the region cau...   \n28  2020-08-22 18:30:07  The next president can undo some of the recent...   \n29  2020-08-21 22:15:24  The candidates were the first ones elected thr...   \n30  2020-08-20 17:04:43  Prime Minister Mustafa al-Kadhimi’s visit to t...   \n31  2020-08-18 16:59:00  The MV Wakashio, which split into two on Satur...   \n32  2020-08-17 13:53:59  The decision sets up a fierce legal battle ove...   \n33  2020-08-17 07:00:10  Under pressure from governments and investors,...   \n34  2020-08-14 22:16:33  The high-seas handover blocked two diplomatic ...   \n35  2020-08-14 12:00:09  Islanders have joined together in an effort to...   \n36  2020-08-13 20:02:25  The weakening of Obama-era efforts to fight cl...   \n37  2020-08-10 20:35:37  The reversal is the latest move in the Trump a...   \n38  2020-08-10 15:16:00  Delta’s foray into oil refining illustrates so...   \n39  2020-08-09 10:03:58  The coronavirus pandemic took a major toll on ...   \n40  2020-08-06 19:08:00  Earth is overheating. This year is poised to b...   \n41  2020-08-04 17:48:40  The European oil giant has plans for a future ...   \n42  2020-08-03 00:04:37  The largest U.S. independent refining company ...   \n43  2020-07-31 09:00:23  A look at how Black communities shoulder a dis...   \n44  2020-07-28 19:25:14  Some energy executives are pleased that the fo...   \n45  2020-07-22 18:33:23  Also this week, a corruption case in Ohio that...   \n46  2020-07-22 16:22:43  Expectant mothers who lived near flaring sites...   \n47  2020-07-21 09:00:18  The messages, made public in a lawsuit, sugges...   \n48  2020-07-21 09:00:08  The state’s $50 billion plan to re-engineer it...   \n49  2020-07-20 20:05:07  With a $5 billion play for Noble Energy, the o...   \n\n    WeeklyStocks  DIA_closing  DailyPrice  ProductSupplied  \\\n0      2030647.0       283.34       39.73          19631.0   \n1      2035184.0       282.03       40.69          18112.0   \n2      2035184.0       285.97       40.70          18112.0   \n3      2035184.0       285.97       40.70          18112.0   \n4      2035184.0       285.97       40.70          18112.0   \n5      2043185.0       285.04       40.84          19475.0   \n6      2043185.0       285.13       40.86          19475.0   \n7      2043185.0       285.93       40.44          19475.0   \n8      2076448.0       282.92       39.82          16979.0   \n9      2076448.0       278.14       38.51          16979.0   \n10     2076448.0       275.90       40.47          16979.0   \n11     2076448.0       268.10       40.11          16979.0   \n12     2076448.0       267.58       39.92          16979.0   \n13     2076448.0       271.44       39.26          16979.0   \n14     2076448.0       279.57       40.99          16979.0   \n15     2076448.0       280.58       38.29          16979.0   \n16     2076448.0       275.42       36.87          16979.0   \n17     2076448.0       275.42       36.87          16979.0   \n18     2076448.0       283.34       41.39          16979.0   \n19     2076448.0       284.28       42.61          16979.0   \n20     2076448.0       286.70       42.96          16979.0   \n21     2076448.0       286.70       42.96          16979.0   \n22     2076448.0       286.70       42.96          16979.0   \n23     2085502.0       285.04       42.88          19619.0   \n24     2085502.0       285.04       42.88          19619.0   \n25     2085502.0       285.04       42.88          19619.0   \n26     2085502.0       283.18       42.44          19619.0   \n27     2085502.0       283.18       42.44          19619.0   \n28     2085502.0       279.29       42.32          19619.0   \n29     2085502.0       279.29       42.32          19619.0   \n30     2095037.0       277.87       42.62          17159.0   \n31     2095037.0       278.20       42.89          17159.0   \n32     2095037.0       278.95       42.89          17159.0   \n33     2095037.0       278.95       42.89          17159.0   \n34     2095037.0       279.80       42.05          17159.0   \n35     2095037.0       279.80       42.05          17159.0   \n36     2108712.0       279.42       42.26          17912.0   \n37     2108712.0       278.14       41.94          17912.0   \n38     2108712.0       278.14       41.94          17912.0   \n39     2108712.0       273.90       41.93          17912.0   \n40     2108712.0       273.90       41.93          17912.0   \n41     2108712.0       268.41       41.67          17912.0   \n42     2108712.0       266.72       40.83          17912.0   \n43     2108712.0       264.35       40.10          17912.0   \n44     2098453.0       263.93       40.89          17290.0   \n45     2098453.0       269.98       41.88          17290.0   \n46     2098453.0       269.98       41.88          17290.0   \n47     2098453.0       268.34       41.76          17290.0   \n48     2098453.0       268.34       41.76          17290.0   \n49     2098453.0       266.82       40.83          17290.0   \n\n                                                   id  \n0   nyt://article/f22505f8-b09a-5ead-b7b0-6cc621db...  \n1   nyt://article/084b5b24-b5ca-5d5e-9bc4-ca87a94b...  \n2   nyt://article/88c80616-7b07-5cfb-a956-87c9ddf9...  \n3   nyt://article/1b91e740-568c-5b4c-b889-07021bce...  \n4   nyt://interactive/537f8409-c6f0-5e44-bce8-a4f5...  \n5   nyt://article/5e724a34-79f5-5a9e-8c22-557b2451...  \n6   nyt://article/0c33bcb9-b9bf-58a7-a829-73206b9a...  \n7   nyt://article/3f63f032-d24d-5de1-a016-bbc4c4be...  \n8   nyt://article/2726d326-c411-5b76-bb1c-a7527d43...  \n9   nyt://article/3a2eac00-ff60-51bb-a05e-96989f12...  \n10  nyt://article/0e5cbd26-7b4b-5e6c-a2e6-638f7404...  \n11  nyt://article/032238d4-4ef0-5bfd-a2a4-77ec4b2b...  \n12  nyt://article/cd0b66d6-2ee6-520f-a0c1-65bcb7bf...  \n13  nyt://article/57898be4-856d-597d-9309-11245a2f...  \n14  nyt://article/2577a57b-460e-5435-8421-e7b0c893...  \n15  nyt://article/6fd71a7b-9800-5f7c-92aa-b37826e7...  \n16  nyt://article/e655abcf-4298-55df-85a4-ce3c29a5...  \n17  nyt://article/ff51240c-83db-557b-8a73-51704e55...  \n18  nyt://article/0d6d37f6-f836-5a7e-abac-9e913dc8...  \n19  nyt://article/69193d74-6bde-5502-be8e-7863e5ad...  \n20  nyt://article/80985441-7e75-57ef-b7f8-c22c2537...  \n21  nyt://article/51abad3e-1494-5f11-8812-eca30d8a...  \n22  nyt://article/ae1ccad0-d30a-5d3e-a24a-22aa9622...  \n23  nyt://article/66781d39-181e-5c7a-ac67-b43584ef...  \n24  nyt://article/5cf9c170-b4d7-5fef-a58c-86b6cf5a...  \n25  nyt://article/9c062ab6-7c63-5bfc-b7d9-6d7b155b...  \n26  nyt://article/1199e401-e2cd-58b8-be46-5306435b...  \n27  nyt://article/1543e203-ab9d-51da-af65-2c5c3940...  \n28  nyt://article/e87b2765-28de-5602-8617-4ed5e4e1...  \n29  nyt://article/209ac196-de8e-5570-938d-6d3c493c...  \n30  nyt://article/9e46431c-f045-5642-8df6-5e390d42...  \n31  nyt://article/75fd04b6-45e4-5711-92ba-a9c33a42...  \n32  nyt://article/401dbb29-3b80-55e0-9fab-3bd721f9...  \n33  nyt://article/e1c05681-8d2d-58f6-9bf6-b413591d...  \n34  nyt://article/40b199a1-5e4d-5c3c-9a0f-cadf37bf...  \n35  nyt://article/e7808df0-c36f-5018-80cd-462391ed...  \n36  nyt://article/be8b2c46-f76a-5433-b39e-98ccce61...  \n37  nyt://article/db86a230-6b2d-5ede-8228-1e9d4dfb...  \n38  nyt://article/3f81479e-7005-5976-9d02-f33b1c48...  \n39  nyt://article/eadae744-828d-5eba-8384-f17b78e1...  \n40  nyt://interactive/dea5c6d3-4d5b-50f1-b4b2-cbc0...  \n41  nyt://article/eeff5171-e071-5134-a92e-21282ba1...  \n42  nyt://article/28c6bdbb-6f95-5152-bd25-3141ccf1...  \n43  nyt://article/f66bcec2-aaa6-50c4-be3a-54a57461...  \n44  nyt://article/33266b46-b282-5ec0-bb30-ba1cdd33...  \n45  nyt://article/5da54344-0933-5121-a275-93e78747...  \n46  nyt://article/5cad2ab2-9e9e-5103-a51b-a6064a5b...  \n47  nyt://article/38ac4eaf-2689-50b3-a48d-ee8b78d1...  \n48  nyt://interactive/b868106c-a61b-5d2f-8df7-c7ef...  \n49  nyt://article/3e5249f6-70aa-59d3-b3d0-c05305d9...  \n"
     ]
    }
   ],
   "source": [
    "query_lastnews = \" SELECT * FROM news WHERE Date < '2020-10-23 17:54:49.445231' ORDER BY Date DESC LIMIT 50\"\n",
    "df_lastnews = pd.read_sql(query_lastnews,conn)\n",
    "df_lastnews = df_lastnews[['Date','abstract','WeeklyStocks','DIA_closing','DailyPrice','ProductSupplied','id']]\n",
    "print(df_lastnews)"
   ]
  },
  {
   "cell_type": "code",
   "execution_count": 21,
   "metadata": {},
   "outputs": [],
   "source": [
    "\n",
    "last_archive_date = \"2020-10-01 17:54:49.445231\"\n",
    "\n",
    "end_date = dt.datetime.today().date()\n",
    "\n",
    "query = 'Oil (Petroleum) and Gasoline'\n",
    "\n",
    "recents_call = nytResp(last_archive_date,end_date,query)"
   ]
  },
  {
   "cell_type": "code",
   "execution_count": 23,
   "metadata": {},
   "outputs": [
    {
     "output_type": "stream",
     "name": "stdout",
     "text": [
      "                                                   id                 Date  \\\n0   nyt://article/9291f3f2-877e-5112-b575-875ccfe4...  2020-11-11 22:06:25   \n1   nyt://article/64313d07-de22-5b8b-9216-8175c206...  2020-11-11 10:00:32   \n2   nyt://article/562aed49-c6c8-5ce4-9962-f4a1bbee...  2020-11-11 19:10:13   \n3   nyt://article/3700d15f-8708-51a9-8c90-a71fe280...  2020-11-05 08:00:11   \n4   nyt://article/542669b0-b3cb-5b5b-8870-53247d68...  2020-11-01 18:53:20   \n5   nyt://article/9dfacd69-13ef-52c3-9117-95632d35...  2020-10-30 08:03:10   \n6   nyt://article/fa382c22-bcf0-5274-bbfc-d9f4eb3d...  2020-10-23 19:02:36   \n7   nyt://article/7480123e-b134-5314-9457-018a822e...  2020-10-23 21:39:34   \n8   nyt://article/f22505f8-b09a-5ead-b7b0-6cc621db...  2020-10-23 14:30:44   \n9   nyt://article/084b5b24-b5ca-5d5e-9bc4-ca87a94b...  2020-10-19 19:40:14   \n10  nyt://article/5e724a34-79f5-5a9e-8c22-557b2451...  2020-10-15 21:17:50   \n11  nyt://article/88c80616-7b07-5cfb-a956-87c9ddf9...  2020-10-17 09:00:16   \n12  nyt://article/1b91e740-568c-5b4c-b889-07021bce...  2020-10-16 19:00:06   \n13  nyt://interactive/537f8409-c6f0-5e44-bce8-a4f5...  2020-10-16 17:12:50   \n14  nyt://article/0c33bcb9-b9bf-58a7-a829-73206b9a...  2020-10-14 14:12:37   \n15  nyt://article/3f63f032-d24d-5de1-a016-bbc4c4be...  2020-10-09 09:00:24   \n16  nyt://article/2726d326-c411-5b76-bb1c-a7527d43...  2020-10-07 09:00:37   \n17  nyt://article/3a2eac00-ff60-51bb-a05e-96989f12...  2020-10-01 18:02:03   \n18  nyt://article/2c2f4778-3f07-5409-95eb-7577516d...  2020-10-29 18:10:13   \n19  nyt://article/18ec780b-c5ed-5f91-9986-f1548fa9...  2020-10-26 22:45:08   \n\n     date_only                                           abstract    doc_type  \\\n0   2020-11-11  FTI, a global consulting firm, helped design, ...     article   \n1   2020-11-11  The fuel could play an important role in fight...     article   \n2   2020-11-11  Amid growing alarm about methane’s role in dri...     article   \n3   2020-11-05  Environmental groups argue that exploratory dr...     article   \n4   2020-11-01  How a yearslong battle over U.S.-Venezuela rel...     article   \n5   2020-10-30  Canada’s oil patch has nearly 100,000 suspende...     article   \n6   2020-10-23  After the candidate called for a “transition” ...     article   \n7   2020-10-23  The penalties were aimed at a Russian research...     article   \n8   2020-10-23  Joseph R. Biden Jr.'s debate statement that he...     article   \n9   2020-10-19  With the price of a barrel stuck around $40 an...     article   \n10  2020-10-15  The assault was an escalation of violence in t...     article   \n11  2020-10-17  There is heartbreak almost everywhere you look...     article   \n12  2020-10-16  Two new books, David H. Rundell’s “Vision or M...     article   \n13  2020-10-16  The White House has dismantled major climate a...  multimedia   \n14  2020-10-14  Teams from the neighboring Middle Eastern coun...     article   \n15  2020-10-09  The oil giant’s takeover of Noble Energy gives...     article   \n16  2020-10-07  Venezuela’s oil reserves, the world’s largest,...     article   \n17  2020-10-01  Taxes on gasoline and diesel increased by 9.3 ...     article   \n18  2020-10-29  Readers discuss Joe Biden’s debate comment abo...     article   \n19  2020-10-26  The Trump administration is trying to fortify ...     article   \n\n                                        main_headline  \\\n0   How One Firm Drove Influence Campaigns Nationw...   \n1   California Is Trying to Jump-Start the Hydroge...   \n2   New Technology Claims to Pinpoint Even Small M...   \n3   Norway’s Supreme Court Hears Rights Challenge ...   \n4   Trump, Venezuela and the Tug-of-War Over a Str...   \n5             These Zombies Threaten the Whole Planet   \n6   Oil Industry Expresses Concern, Not Alarm, Abo...   \n7   U.S. Issues Sanctions on Russian Center Involv...   \n8   A Debate Pledge to ‘Transition’ From Oil Puts ...   \n9   Oil Industry Turns to Mergers and Acquisitions...   \n10  Separatists Kill 14 in Attack on Oil Convoy in...   \n11  For Long-Term Investors, Small Things Like Pre...   \n12       The Mysteries of the American-Saudi Alliance   \n13  The Trump Administration Is Reversing More Tha...   \n14  Israel and Lebanon Begin Talks on Sea Border, ...   \n15  Chevron’s Purchase Could Unlock Israel’s Natur...   \n16  Venezuela, Once an Oil Giant, Reaches the End ...   \n17  Gas Tax Spikes in N.J. Because of Pandemic’s I...   \n18                    Transitioning From Fossil Fuels   \n19        U.S. Imposes Sanctions on Iran’s Oil Sector   \n\n                                             keywords        newsdesk  \\\n0   [{'name': 'organizations', 'value': 'FTI Consu...         Climate   \n1   [{'name': 'glocations', 'value': 'California',...        Business   \n2   [{'name': 'subject', 'value': 'Global Warming'...         Climate   \n3   [{'name': 'glocations', 'value': 'Norway', 'ra...         Foreign   \n4   [{'name': 'subject', 'value': 'Presidential El...   Investigative   \n5   [{'name': 'glocations', 'value': 'ALBERTA (CAN...         Climate   \n6   [{'name': 'subject', 'value': 'Oil (Petroleum)...        Business   \n7   [{'name': 'subject', 'value': 'Embargoes and S...      Washington   \n8   [{'name': 'subject', 'value': 'Global Warming'...         Climate   \n9   [{'name': 'subject', 'value': 'Oil (Petroleum)...        Business   \n10  [{'name': 'glocations', 'value': 'Baluchistan ...         Foreign   \n11  [{'name': 'subject', 'value': 'Presidential El...  SundayBusiness   \n12  [{'name': 'subject', 'value': 'Books and Liter...      BookReview   \n13  [{'name': 'subject', 'value': 'Greenhouse Gas ...         Climate   \n14  [{'name': 'subject', 'value': 'Defense and Mil...         Foreign   \n15  [{'name': 'subject', 'value': 'Oil (Petroleum)...        Business   \n16  [{'name': 'subject', 'value': 'Oil (Petroleum)...         Foreign   \n17  [{'name': 'glocations', 'value': 'New Jersey',...           Metro   \n18  [{'name': 'subject', 'value': 'Alternative and...         Letters   \n19  [{'name': 'subject', 'value': 'Embargoes and S...      Washington   \n\n                                                  url  \\\n0   https://www.nytimes.com/2020/11/11/climate/fti...   \n1   https://www.nytimes.com/2020/11/11/business/hy...   \n2   https://www.nytimes.com/2020/11/11/climate/met...   \n3   https://www.nytimes.com/2020/11/05/world/europ...   \n4   https://www.nytimes.com/2020/11/01/us/trump-ve...   \n5   https://www.nytimes.com/2020/10/30/climate/oil...   \n6   https://www.nytimes.com/2020/10/23/business/en...   \n7   https://www.nytimes.com/2020/10/23/us/politics...   \n8   https://www.nytimes.com/2020/10/23/climate/bid...   \n9   https://www.nytimes.com/2020/10/19/business/en...   \n10  https://www.nytimes.com/2020/10/15/world/asia/...   \n11  https://www.nytimes.com/2020/10/17/business/pr...   \n12  https://www.nytimes.com/2020/10/16/books/revie...   \n13  https://www.nytimes.com/interactive/2020/clima...   \n14  https://www.nytimes.com/2020/10/14/world/middl...   \n15  https://www.nytimes.com/2020/10/09/business/ea...   \n16  https://www.nytimes.com/2020/10/07/world/ameri...   \n17  https://www.nytimes.com/2020/10/01/nyregion/nj...   \n18  https://www.nytimes.com/2020/10/29/opinion/let...   \n19  https://www.nytimes.com/2020/10/26/world/middl...   \n\n                     retrieved  \n0   2020-11-13 13:53:49.932023  \n1   2020-11-13 13:53:49.932023  \n2   2020-11-13 13:53:49.932023  \n3   2020-11-13 13:53:49.932023  \n4   2020-11-13 13:53:49.932023  \n5   2020-11-13 13:53:49.932023  \n6   2020-11-13 13:53:49.932023  \n7   2020-11-13 13:53:49.932023  \n8   2020-11-13 13:53:49.932023  \n9   2020-11-13 13:53:49.932023  \n10  2020-11-13 13:53:49.932023  \n11  2020-11-13 13:53:49.932023  \n12  2020-11-13 13:53:49.932023  \n13  2020-11-13 13:53:49.932023  \n14  2020-11-13 13:53:49.932023  \n15  2020-11-13 13:53:49.932023  \n16  2020-11-13 13:53:49.932023  \n17  2020-11-13 13:53:49.932023  \n18  2020-11-13 13:53:49.932023  \n19  2020-11-13 13:53:49.932023  \n"
     ]
    }
   ],
   "source": [
    "df_recent = recents_call.frame\n",
    "print(df_recent)\n"
   ]
  },
  {
   "cell_type": "code",
   "execution_count": 24,
   "metadata": {},
   "outputs": [],
   "source": [
    "df_new = df_recent[~df_recent['id'].isin(df_lastnews['id'])]"
   ]
  },
  {
   "cell_type": "code",
   "execution_count": 25,
   "metadata": {},
   "outputs": [
    {
     "output_type": "stream",
     "name": "stdout",
     "text": [
      "                                                   id                 Date  \\\n0   nyt://article/9291f3f2-877e-5112-b575-875ccfe4...  2020-11-11 22:06:25   \n1   nyt://article/64313d07-de22-5b8b-9216-8175c206...  2020-11-11 10:00:32   \n2   nyt://article/562aed49-c6c8-5ce4-9962-f4a1bbee...  2020-11-11 19:10:13   \n3   nyt://article/3700d15f-8708-51a9-8c90-a71fe280...  2020-11-05 08:00:11   \n4   nyt://article/542669b0-b3cb-5b5b-8870-53247d68...  2020-11-01 18:53:20   \n5   nyt://article/9dfacd69-13ef-52c3-9117-95632d35...  2020-10-30 08:03:10   \n6   nyt://article/fa382c22-bcf0-5274-bbfc-d9f4eb3d...  2020-10-23 19:02:36   \n7   nyt://article/7480123e-b134-5314-9457-018a822e...  2020-10-23 21:39:34   \n18  nyt://article/2c2f4778-3f07-5409-95eb-7577516d...  2020-10-29 18:10:13   \n19  nyt://article/18ec780b-c5ed-5f91-9986-f1548fa9...  2020-10-26 22:45:08   \n\n     date_only                                           abstract doc_type  \\\n0   2020-11-11  FTI, a global consulting firm, helped design, ...  article   \n1   2020-11-11  The fuel could play an important role in fight...  article   \n2   2020-11-11  Amid growing alarm about methane’s role in dri...  article   \n3   2020-11-05  Environmental groups argue that exploratory dr...  article   \n4   2020-11-01  How a yearslong battle over U.S.-Venezuela rel...  article   \n5   2020-10-30  Canada’s oil patch has nearly 100,000 suspende...  article   \n6   2020-10-23  After the candidate called for a “transition” ...  article   \n7   2020-10-23  The penalties were aimed at a Russian research...  article   \n18  2020-10-29  Readers discuss Joe Biden’s debate comment abo...  article   \n19  2020-10-26  The Trump administration is trying to fortify ...  article   \n\n                                        main_headline  \\\n0   How One Firm Drove Influence Campaigns Nationw...   \n1   California Is Trying to Jump-Start the Hydroge...   \n2   New Technology Claims to Pinpoint Even Small M...   \n3   Norway’s Supreme Court Hears Rights Challenge ...   \n4   Trump, Venezuela and the Tug-of-War Over a Str...   \n5             These Zombies Threaten the Whole Planet   \n6   Oil Industry Expresses Concern, Not Alarm, Abo...   \n7   U.S. Issues Sanctions on Russian Center Involv...   \n18                    Transitioning From Fossil Fuels   \n19        U.S. Imposes Sanctions on Iran’s Oil Sector   \n\n                                             keywords       newsdesk  \\\n0   [{'name': 'organizations', 'value': 'FTI Consu...        Climate   \n1   [{'name': 'glocations', 'value': 'California',...       Business   \n2   [{'name': 'subject', 'value': 'Global Warming'...        Climate   \n3   [{'name': 'glocations', 'value': 'Norway', 'ra...        Foreign   \n4   [{'name': 'subject', 'value': 'Presidential El...  Investigative   \n5   [{'name': 'glocations', 'value': 'ALBERTA (CAN...        Climate   \n6   [{'name': 'subject', 'value': 'Oil (Petroleum)...       Business   \n7   [{'name': 'subject', 'value': 'Embargoes and S...     Washington   \n18  [{'name': 'subject', 'value': 'Alternative and...        Letters   \n19  [{'name': 'subject', 'value': 'Embargoes and S...     Washington   \n\n                                                  url  \\\n0   https://www.nytimes.com/2020/11/11/climate/fti...   \n1   https://www.nytimes.com/2020/11/11/business/hy...   \n2   https://www.nytimes.com/2020/11/11/climate/met...   \n3   https://www.nytimes.com/2020/11/05/world/europ...   \n4   https://www.nytimes.com/2020/11/01/us/trump-ve...   \n5   https://www.nytimes.com/2020/10/30/climate/oil...   \n6   https://www.nytimes.com/2020/10/23/business/en...   \n7   https://www.nytimes.com/2020/10/23/us/politics...   \n18  https://www.nytimes.com/2020/10/29/opinion/let...   \n19  https://www.nytimes.com/2020/10/26/world/middl...   \n\n                     retrieved  \n0   2020-11-13 13:53:49.932023  \n1   2020-11-13 13:53:49.932023  \n2   2020-11-13 13:53:49.932023  \n3   2020-11-13 13:53:49.932023  \n4   2020-11-13 13:53:49.932023  \n5   2020-11-13 13:53:49.932023  \n6   2020-11-13 13:53:49.932023  \n7   2020-11-13 13:53:49.932023  \n18  2020-11-13 13:53:49.932023  \n19  2020-11-13 13:53:49.932023  \n"
     ]
    }
   ],
   "source": [
    "print(df_new)"
   ]
  },
  {
   "cell_type": "code",
   "execution_count": null,
   "metadata": {},
   "outputs": [],
   "source": [
    "\n",
    "\n",
    "query = \" SELECT MAX(Date) FROM news LIMIT 1\"\n",
    "last_archive_date = conn.execute(query).fetchall()[0][0]\n",
    "last_archive_date = \"2020-10-23 17:54:49.445231\"\n",
    "\n",
    "end_date = dt.datetime.today().date()\n",
    "\n",
    "query = 'Oil (Petroleum) and Gasoline'\n",
    "\n",
    "recents_call = nytResp(last_archive_date,end_date,query)\n",
    "\n",
    "query_lastnews = \" SELECT * FROM news WHERE Date < 2020-11-05 17:54:49 ORDER BY Date DESC LIMIT 50\"\n",
    "df_lastnews = pd.read_sql(query_lastnews,conn)\n",
    "df_lastnews = df[['Date','abstract','WeeklyStocks','DIA_closing','DailyPrice','ProductSupplied','id']]\n",
    "\n",
    "display(df)\n",
    "\n",
    "if recents_call.hits > 0:\n",
    "    hits = len(recents_call.frame)                  \n",
    "    df_current = pd.concat([df_current] * hits).reset_index()    \n",
    "    \n",
    "    df_news = pd.concat([\n",
    "        recents_call.frame,\n",
    "        df_current],\n",
    "        axis=1)\n",
    "\n",
    "    records = df_news[['abstract','Date','url']].to_dict(orient='records')\n",
    "    for record in records:\n",
    "        log_dict['News'].append(record)\n",
    "\n",
    "    df_news.to_sql('news',conn,if_exists='append')\n",
    "\n",
    "    #__________  record news updated time\n",
    "\n",
    "cache_dict['news_update'] = end_date"
   ]
  },
  {
   "cell_type": "code",
   "execution_count": null,
   "metadata": {},
   "outputs": [],
   "source": [
    "# CHeck how many tables in db\n",
    "cursor = conn.cursor()\n",
    "\n",
    "cursor.execute(\"SELECT name FROM sqlite_master WHERE type='table';\")\n",
    "print(cursor.fetchall())"
   ]
  },
  {
   "cell_type": "code",
   "execution_count": 2,
   "metadata": {},
   "outputs": [
    {
     "output_type": "display_data",
     "data": {
      "text/plain": "                   Date                                           abstract  \\\n0   2020-11-11 22:06:25  FTI, a global consulting firm, helped design, ...   \n1   2020-11-11 19:10:13  Amid growing alarm about methane’s role in dri...   \n2   2020-11-11 10:00:32  The fuel could play an important role in fight...   \n3   2020-11-05 08:00:11  Environmental groups argue that exploratory dr...   \n4   2020-11-01 18:53:20  How a yearslong battle over U.S.-Venezuela rel...   \n..                  ...                                                ...   \n95  2020-05-01 09:00:28  For over a decade, the Permian Basin has been ...   \n96  2020-04-30 09:00:15  I want us to pursue paths to cleaner, renewabl...   \n97  2020-04-28 13:00:13  Corpus Christi has become the largest energy e...   \n98  2020-04-27 10:00:05       This is the energy crisis nobody saw coming.   \n99  2020-04-27 09:00:16  Houston has been reeling from oil-market chaos...   \n\n    WeeklyStocks  DIA_closing  DailyPrice  ProductSupplied  \\\n0      2003775.0       294.05       41.23          20180.0   \n1      2003775.0       294.05       41.23          20180.0   \n2      2003775.0       294.05       41.23          20180.0   \n3      2003775.0       294.05       41.23          20180.0   \n4      2003775.0       294.05       41.23          20180.0   \n..           ...          ...         ...              ...   \n95     2033262.0       237.28       19.72          15354.0   \n96     2013630.0       243.22       19.23          15763.0   \n97     2013630.0       241.09       12.40          15763.0   \n98     2013630.0       241.32       12.17          15763.0   \n99     2013630.0       241.32       12.17          15763.0   \n\n                                                   id  \n0   nyt://article/9291f3f2-877e-5112-b575-875ccfe4...  \n1   nyt://article/562aed49-c6c8-5ce4-9962-f4a1bbee...  \n2   nyt://article/64313d07-de22-5b8b-9216-8175c206...  \n3   nyt://article/3700d15f-8708-51a9-8c90-a71fe280...  \n4   nyt://article/542669b0-b3cb-5b5b-8870-53247d68...  \n..                                                ...  \n95  nyt://article/55da7777-f837-53dd-ba94-3907b476...  \n96  nyt://article/08815e67-8eb6-5156-9e3d-1d62bf51...  \n97  nyt://article/aebc25dc-b399-5178-be0f-9584c822...  \n98  nyt://article/4a381b6f-5bda-58a8-ba5b-05a46143...  \n99  nyt://article/40a29978-7eb6-5d51-b2bd-1aa90144...  \n\n[100 rows x 7 columns]",
      "text/html": "<div>\n<style scoped>\n    .dataframe tbody tr th:only-of-type {\n        vertical-align: middle;\n    }\n\n    .dataframe tbody tr th {\n        vertical-align: top;\n    }\n\n    .dataframe thead th {\n        text-align: right;\n    }\n</style>\n<table border=\"1\" class=\"dataframe\">\n  <thead>\n    <tr style=\"text-align: right;\">\n      <th></th>\n      <th>Date</th>\n      <th>abstract</th>\n      <th>WeeklyStocks</th>\n      <th>DIA_closing</th>\n      <th>DailyPrice</th>\n      <th>ProductSupplied</th>\n      <th>id</th>\n    </tr>\n  </thead>\n  <tbody>\n    <tr>\n      <th>0</th>\n      <td>2020-11-11 22:06:25</td>\n      <td>FTI, a global consulting firm, helped design, ...</td>\n      <td>2003775.0</td>\n      <td>294.05</td>\n      <td>41.23</td>\n      <td>20180.0</td>\n      <td>nyt://article/9291f3f2-877e-5112-b575-875ccfe4...</td>\n    </tr>\n    <tr>\n      <th>1</th>\n      <td>2020-11-11 19:10:13</td>\n      <td>Amid growing alarm about methane’s role in dri...</td>\n      <td>2003775.0</td>\n      <td>294.05</td>\n      <td>41.23</td>\n      <td>20180.0</td>\n      <td>nyt://article/562aed49-c6c8-5ce4-9962-f4a1bbee...</td>\n    </tr>\n    <tr>\n      <th>2</th>\n      <td>2020-11-11 10:00:32</td>\n      <td>The fuel could play an important role in fight...</td>\n      <td>2003775.0</td>\n      <td>294.05</td>\n      <td>41.23</td>\n      <td>20180.0</td>\n      <td>nyt://article/64313d07-de22-5b8b-9216-8175c206...</td>\n    </tr>\n    <tr>\n      <th>3</th>\n      <td>2020-11-05 08:00:11</td>\n      <td>Environmental groups argue that exploratory dr...</td>\n      <td>2003775.0</td>\n      <td>294.05</td>\n      <td>41.23</td>\n      <td>20180.0</td>\n      <td>nyt://article/3700d15f-8708-51a9-8c90-a71fe280...</td>\n    </tr>\n    <tr>\n      <th>4</th>\n      <td>2020-11-01 18:53:20</td>\n      <td>How a yearslong battle over U.S.-Venezuela rel...</td>\n      <td>2003775.0</td>\n      <td>294.05</td>\n      <td>41.23</td>\n      <td>20180.0</td>\n      <td>nyt://article/542669b0-b3cb-5b5b-8870-53247d68...</td>\n    </tr>\n    <tr>\n      <th>...</th>\n      <td>...</td>\n      <td>...</td>\n      <td>...</td>\n      <td>...</td>\n      <td>...</td>\n      <td>...</td>\n      <td>...</td>\n    </tr>\n    <tr>\n      <th>95</th>\n      <td>2020-05-01 09:00:28</td>\n      <td>For over a decade, the Permian Basin has been ...</td>\n      <td>2033262.0</td>\n      <td>237.28</td>\n      <td>19.72</td>\n      <td>15354.0</td>\n      <td>nyt://article/55da7777-f837-53dd-ba94-3907b476...</td>\n    </tr>\n    <tr>\n      <th>96</th>\n      <td>2020-04-30 09:00:15</td>\n      <td>I want us to pursue paths to cleaner, renewabl...</td>\n      <td>2013630.0</td>\n      <td>243.22</td>\n      <td>19.23</td>\n      <td>15763.0</td>\n      <td>nyt://article/08815e67-8eb6-5156-9e3d-1d62bf51...</td>\n    </tr>\n    <tr>\n      <th>97</th>\n      <td>2020-04-28 13:00:13</td>\n      <td>Corpus Christi has become the largest energy e...</td>\n      <td>2013630.0</td>\n      <td>241.09</td>\n      <td>12.40</td>\n      <td>15763.0</td>\n      <td>nyt://article/aebc25dc-b399-5178-be0f-9584c822...</td>\n    </tr>\n    <tr>\n      <th>98</th>\n      <td>2020-04-27 10:00:05</td>\n      <td>This is the energy crisis nobody saw coming.</td>\n      <td>2013630.0</td>\n      <td>241.32</td>\n      <td>12.17</td>\n      <td>15763.0</td>\n      <td>nyt://article/4a381b6f-5bda-58a8-ba5b-05a46143...</td>\n    </tr>\n    <tr>\n      <th>99</th>\n      <td>2020-04-27 09:00:16</td>\n      <td>Houston has been reeling from oil-market chaos...</td>\n      <td>2013630.0</td>\n      <td>241.32</td>\n      <td>12.17</td>\n      <td>15763.0</td>\n      <td>nyt://article/40a29978-7eb6-5d51-b2bd-1aa90144...</td>\n    </tr>\n  </tbody>\n</table>\n<p>100 rows × 7 columns</p>\n</div>"
     },
     "metadata": {}
    }
   ],
   "source": [
    "# Last items in news\n",
    "query = \" SELECT * FROM news ORDER BY Date DESC LIMIT 50\"\n",
    "df = pd.read_sql(query,conn)\n",
    "df = df[['Date','abstract','WeeklyStocks','DIA_closing','DailyPrice','ProductSupplied','id']]\n",
    "\n",
    "display(df)"
   ]
  },
  {
   "source": [
    "# Intra Day"
   ],
   "cell_type": "markdown",
   "metadata": {}
  },
  {
   "cell_type": "code",
   "execution_count": null,
   "metadata": {},
   "outputs": [],
   "source": []
  }
 ]
}