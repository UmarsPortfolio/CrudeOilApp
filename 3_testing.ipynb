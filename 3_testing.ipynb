{
 "metadata": {
  "language_info": {
   "codemirror_mode": {
    "name": "ipython",
    "version": 3
   },
   "file_extension": ".py",
   "mimetype": "text/x-python",
   "name": "python",
   "nbconvert_exporter": "python",
   "pygments_lexer": "ipython3",
   "version": "3.8.3-final"
  },
  "orig_nbformat": 2,
  "kernelspec": {
   "name": "Python 3.8.3 64-bit (conda)",
   "display_name": "Python 3.8.3 64-bit (conda)",
   "metadata": {
    "interpreter": {
     "hash": "5d42bb3e1c1afa804c296b0713415242ceb93874b5c1d7016309b07083afc30a"
    }
   }
  }
 },
 "nbformat": 4,
 "nbformat_minor": 2,
 "cells": [
  {
   "cell_type": "code",
   "execution_count": null,
   "metadata": {},
   "outputs": [],
   "source": [
    "!git add .\n",
    "!git commit -m \"Merged old news with EIA\"\n",
    "!git push"
   ]
  },
  {
   "cell_type": "code",
   "execution_count": 2,
   "metadata": {},
   "outputs": [],
   "source": [
    "from data.data_functions import *\n",
    "import math\n",
    "import datetime as dt\n",
    "import sqlite3\n",
    "import pandas as pd\n",
    "\n",
    "from datashop import *\n",
    "\n",
    "path = 'c:/prompt_root/CrudeOilApp'\n",
    "relpath = '/data/nyt_api/nyt_jsons/'\n",
    "\n",
    "conn = sqlite3.connect('data/energydash.db')\n",
    "\n",
    "#test_bulk = jsons_to_frame(path,relpath,conn)\n",
    "#test_bulk.to_csv('data/nyt_api/nyt_articles.csv')"
   ]
  },
  {
   "source": [
    "# EIA Data"
   ],
   "cell_type": "markdown",
   "metadata": {}
  },
  {
   "cell_type": "code",
   "execution_count": 3,
   "metadata": {},
   "outputs": [
    {
     "output_type": "stream",
     "name": "stdout",
     "text": [
      "                  Date  WeeklyStocks   date_only\n",
      "0  2020-09-04 00:00:00       2072722  2020-09-04\n",
      "1  2020-08-28 00:00:00       2076448  2020-08-28\n",
      "2  2020-08-21 00:00:00       2085502  2020-08-21\n",
      "3  2020-08-14 00:00:00       2095037  2020-08-14\n",
      "4  2020-08-07 00:00:00       2100319  2020-08-07\n",
      "                  Date  DailyPrice   date_only\n",
      "0  2020-09-10 00:00:00       37.25  2020-09-10\n",
      "1  2020-09-09 00:00:00       38.05  2020-09-09\n",
      "2  2020-09-08 00:00:00       36.87  2020-09-08\n",
      "3  2020-09-04 00:00:00       39.69  2020-09-04\n",
      "4  2020-09-03 00:00:00       41.39  2020-09-03\n",
      "                  Date  ProductSupplied   date_only\n",
      "0  2020-09-04 00:00:00            18678  2020-09-04\n",
      "1  2020-08-28 00:00:00            16979  2020-08-28\n",
      "2  2020-08-21 00:00:00            19619  2020-08-21\n",
      "3  2020-08-14 00:00:00            17159  2020-08-14\n",
      "4  2020-08-07 00:00:00            19369  2020-08-07\n",
      "                  Date  MonthlyRigCount   date_only\n",
      "0  2020-05-01 00:00:00              267  2020-05-01\n",
      "1  2020-04-01 00:00:00              471  2020-04-01\n",
      "2  2020-03-01 00:00:00              663  2020-03-01\n",
      "3  2020-02-01 00:00:00              678  2020-02-01\n",
      "4  2020-01-01 00:00:00              671  2020-01-01\n"
     ]
    }
   ],
   "source": [
    "# EIA_Bulk\n",
    "\n",
    "eia_dict = {\n",
    "    'PET.WTTSTUS1.W':['WeeklyStocks','235081','%Y%m%d'],\n",
    "    'PET.RWTC.D':['DailyPrice','241335','%Y%m%d'],\n",
    "    'PET.WRPUPUS2.W':['ProductSupplied','401676','%Y%m%d'],\n",
    "    'PET.E_ERTRRO_XR0_NUS_C.M':['MonthlyRigCount','296749','%Y%m']\n",
    "}\n",
    "\n",
    "for key,val in eia_dict.items():\n",
    "\n",
    "    e_ser = EIA_Series(key,name = val[0],date_format = val[2], end =            '20200910')\n",
    "\n",
    "    e_ser.frame.to_sql(val[0],conn,if_exists='replace')  \n",
    "\n",
    "    query = \" SELECT * FROM {} ORDER BY Date DESC LIMIT 5\".format(val[0])\n",
    "    df = pd.read_sql(query,conn)\n",
    "    print(df)"
   ]
  },
  {
   "cell_type": "code",
   "execution_count": 4,
   "metadata": {},
   "outputs": [
    {
     "output_type": "stream",
     "name": "stdout",
     "text": [
      "{'WeeklyStocks': ('2020-10-30 00:00:00', 2015817, '2020-10-30'), 'DailyPrice': ('2020-11-03 00:00:00', 37.44, '2020-11-03'), 'ProductSupplied': ('2020-10-30 00:00:00', 18362, '2020-10-30'), 'MonthlyRigCount': ('2020-05-01 00:00:00', 267, '2020-05-01')}\n"
     ]
    }
   ],
   "source": [
    "eia_dict = {\n",
    "    'PET.WTTSTUS1.W':['WeeklyStocks','235081','%Y%m%d'],\n",
    "    'PET.RWTC.D':['DailyPrice','241335','%Y%m%d'],\n",
    "    'PET.WRPUPUS2.W':['ProductSupplied','401676','%Y%m%d'],\n",
    "    'PET.E_ERTRRO_XR0_NUS_C.M':['MonthlyRigCount','296749','%Y%m']\n",
    "}\n",
    "\n",
    "with open ('data/cache.json','r') as cache_file:\n",
    "    cache_dict = json.load(cache_file)\n",
    "\n",
    "#_________ Base URL. Requires category ID to return series in that category\"\n",
    "\n",
    "eia_api_url= 'http://api.eia.gov/updates/?api_key=651b30b69f4f47a13a2912d673f7da93&category_id='\n",
    "\n",
    "\n",
    "\n",
    "# ________ Get last update time for each series. \n",
    "\n",
    "current_eia = {}\n",
    "\n",
    "for key,val in eia_dict.items():\n",
    "\n",
    "    url = eia_api_url + val[1] + '&rows=10000'\n",
    "    request = requests.get(url)\n",
    "    dict = json.loads(request.text)\n",
    "\n",
    "    # Load last updated time from DB\n",
    "    \n",
    "    query = \" SELECT MAX(Date) from {}\".format(val[0])\n",
    "    last_date = conn.execute(query).fetchall()[0][0]\n",
    "    last_date_eia = dt.datetime.strptime(last_date[:10], '%Y-%m-%d').strftime(val[2])\n",
    "\n",
    "    last_update = 'not found'\n",
    "    #Get last updated time from API\n",
    "    for update in dict['updates']:\n",
    "        if update['series_id'] == key:\n",
    "            last_update = update['updated']\n",
    "            last_update = dt.datetime.strptime(last_update[:10], '%Y-%m-%d').strftime(val[2])\n",
    "\n",
    "    #compare both, get updates if needed and add to table\n",
    "\n",
    "    if last_update > last_date:\n",
    "        new_series = EIA_Series(\n",
    "            key, \n",
    "            name=val[0],\n",
    "            start = last_date_eia,\n",
    "            date_format = val[2]).frame\n",
    "\n",
    "        new_series = new_series[new_series.index > pd.Timestamp(last_date)]\n",
    "        \n",
    "        new_series.to_sql(val[0],conn,if_exists='append')   \n",
    "\n",
    "    # get the current last value for later use\n",
    "\n",
    "    query = \" SELECT * FROM  {} WHERE Date = (SELECT MAX(Date) FROM {})\".format(val[0],val[0])\n",
    "    last_date = conn.execute(query).fetchall()[0]\n",
    "\n",
    "    current_eia[val[0]] = last_date\n",
    "\n",
    "print(current_eia)\n"
   ]
  },
  {
   "source": [
    "# News Data "
   ],
   "cell_type": "markdown",
   "metadata": {}
  },
  {
   "cell_type": "code",
   "execution_count": 5,
   "metadata": {},
   "outputs": [
    {
     "output_type": "stream",
     "name": "stdout",
     "text": [
      " 'news' table replaced in energydash.db\n"
     ]
    }
   ],
   "source": [
    "frame = jsons_to_frame(path,relpath,conn)"
   ]
  },
  {
   "cell_type": "code",
   "execution_count": 7,
   "metadata": {},
   "outputs": [
    {
     "output_type": "stream",
     "name": "stdout",
     "text": [
      "0    2020-10-09\n1    2020-10-07\n2    2020-10-01\n3    2020-09-28\n4    2020-09-24\n5    2020-09-23\n6    2020-09-21\n7    2020-09-17\n8    2020-09-15\n9    2020-09-12\nName: date_only, dtype: object\n"
     ]
    }
   ],
   "source": [
    "query = \" SELECT * FROM news ORDER BY Date DESC LIMIT 10\"\n",
    "df = pd.read_sql(query,conn)\n",
    "print(df['date_only'])"
   ]
  },
  {
   "cell_type": "code",
   "execution_count": 10,
   "metadata": {},
   "outputs": [],
   "source": [
    "start_date = '2020-02-23 17:00:07'\t\n",
    "end_date = str(dt.datetime.now())\n",
    "\n",
    "quer = 'Oil (Petroleum) and Gasoline'\n",
    "\n",
    "test_call = nytResp(start_date,end_date,quer)\n",
    "\n",
    "if test_call.hits > 0:\n",
    "    conn = sqlite3.connect('data/energydash.db')\n",
    "    test_call.frame.to_sql('news',conn,if_exists='append')\n",
    "\n"
   ]
  },
  {
   "cell_type": "code",
   "execution_count": null,
   "metadata": {},
   "outputs": [],
   "source": []
  },
  {
   "cell_type": "code",
   "execution_count": 13,
   "metadata": {},
   "outputs": [
    {
     "output_type": "display_data",
     "data": {
      "text/plain": "                                                abstract   date_only  \\\n12632  A giant new vessel, OceanXplorer, seeks to unv...  2020-09-17   \n12633  A giant new vessel, OceanXplorer, seeks to unv...  2020-09-17   \n12634  While BP and other European companies invest b...  2020-09-21   \n12635  While BP and other European companies invest b...  2020-09-21   \n12636  The proposal would speed up the state’s effort...  2020-09-23   \n12637  The proposal would speed up the state’s effort...  2020-09-23   \n12638  This documentary follows individuals pushing b...  2020-09-24   \n12639  This documentary follows individuals pushing b...  2020-09-24   \n12640  In a conversation with Kara Swisher, the billi...  2020-09-28   \n12641  In a conversation with Kara Swisher, the billi...  2020-09-28   \n12642  Taxes on gasoline and diesel increased by 9.3 ...  2020-10-01   \n12643  Taxes on gasoline and diesel increased by 9.3 ...  2020-10-01   \n12644  Venezuela’s oil reserves, the world’s largest,...  2020-10-07   \n12645  Venezuela’s oil reserves, the world’s largest,...  2020-10-07   \n12646  The oil giant’s takeover of Noble Energy gives...  2020-10-09   \n12647  The oil giant’s takeover of Noble Energy gives...  2020-10-09   \n12648  Teams from the neighboring Middle Eastern coun...  2020-10-14   \n12649  The assault was an escalation of violence in t...  2020-10-15   \n12650  The White House has dismantled major climate a...  2020-10-16   \n12651  Two new books, David H. Rundell’s “Vision or M...  2020-10-16   \n12652  There is heartbreak almost everywhere you look...  2020-10-17   \n12653  With the price of a barrel stuck around $40 an...  2020-10-19   \n12654  Joseph R. Biden Jr.'s debate statement that he...  2020-10-23   \n12655  After the candidate called for a “transition” ...  2020-10-23   \n12656  The penalties were aimed at a Russian research...  2020-10-23   \n12657  The Trump administration is trying to fortify ...  2020-10-26   \n12658  Readers discuss Joe Biden’s debate comment abo...  2020-10-29   \n12659  Canada’s oil patch has nearly 100,000 suspende...  2020-10-30   \n12660  How a yearslong battle over U.S.-Venezuela rel...  2020-11-01   \n12661  Environmental groups argue that exploratory dr...  2020-11-05   \n\n        date_only                 Date                 Date  DailyPrice  \n12632  2020-09-17  2020-09-17 09:00:34  2020-09-17 00:00:00       40.99  \n12633  2020-09-17  2020-09-17 09:00:34  2020-09-17 00:00:00       40.99  \n12634  2020-09-21  2020-09-21 09:00:25  2020-09-21 00:00:00       39.26  \n12635  2020-09-21  2020-09-21 09:00:25  2020-09-21 00:00:00       39.26  \n12636  2020-09-23  2020-09-23 19:12:59  2020-09-23 00:00:00       39.92  \n12637  2020-09-23  2020-09-23 19:12:59  2020-09-23 00:00:00       39.92  \n12638  2020-09-24  2020-09-24 11:00:09  2020-09-24 00:00:00       40.11  \n12639  2020-09-24  2020-09-24 11:00:09  2020-09-24 00:00:00       40.11  \n12640  2020-09-28  2020-09-28 09:00:05  2020-09-28 00:00:00       40.47  \n12641  2020-09-28  2020-09-28 09:00:05  2020-09-28 00:00:00       40.47  \n12642  2020-10-01  2020-10-01 18:02:03  2020-10-01 00:00:00       38.51  \n12643  2020-10-01  2020-10-01 18:02:03  2020-10-01 00:00:00       38.51  \n12644  2020-10-07  2020-10-07 09:00:37  2020-10-07 00:00:00       39.82  \n12645  2020-10-07  2020-10-07 09:00:37  2020-10-07 00:00:00       39.82  \n12646  2020-10-09  2020-10-09 09:00:24  2020-10-09 00:00:00       40.44  \n12647  2020-10-09  2020-10-09 09:00:24  2020-10-09 00:00:00       40.44  \n12648  2020-10-14  2020-10-14 14:12:37  2020-10-14 00:00:00       40.86  \n12649  2020-10-15  2020-10-15 21:17:50  2020-10-15 00:00:00       40.84  \n12650  2020-10-16  2020-10-16 17:12:50  2020-10-16 00:00:00       40.70  \n12651  2020-10-16  2020-10-16 19:00:06  2020-10-16 00:00:00       40.70  \n12652        None  2020-10-17 09:00:16                 None         NaN  \n12653  2020-10-19  2020-10-19 19:40:14  2020-10-19 00:00:00       40.69  \n12654  2020-10-23  2020-10-23 14:30:44  2020-10-23 00:00:00       39.73  \n12655  2020-10-23  2020-10-23 19:02:36  2020-10-23 00:00:00       39.73  \n12656  2020-10-23  2020-10-23 21:39:34  2020-10-23 00:00:00       39.73  \n12657  2020-10-26  2020-10-26 22:45:08  2020-10-26 00:00:00       38.39  \n12658  2020-10-29  2020-10-29 18:10:13  2020-10-29 00:00:00       35.94  \n12659  2020-10-30  2020-10-30 08:03:10  2020-10-30 00:00:00       35.64  \n12660        None  2020-11-01 18:53:20                 None         NaN  \n12661        None  2020-11-05 08:00:11                 None         NaN  ",
      "text/html": "<div>\n<style scoped>\n    .dataframe tbody tr th:only-of-type {\n        vertical-align: middle;\n    }\n\n    .dataframe tbody tr th {\n        vertical-align: top;\n    }\n\n    .dataframe thead th {\n        text-align: right;\n    }\n</style>\n<table border=\"1\" class=\"dataframe\">\n  <thead>\n    <tr style=\"text-align: right;\">\n      <th></th>\n      <th>abstract</th>\n      <th>date_only</th>\n      <th>date_only</th>\n      <th>Date</th>\n      <th>Date</th>\n      <th>DailyPrice</th>\n    </tr>\n  </thead>\n  <tbody>\n    <tr>\n      <th>12632</th>\n      <td>A giant new vessel, OceanXplorer, seeks to unv...</td>\n      <td>2020-09-17</td>\n      <td>2020-09-17</td>\n      <td>2020-09-17 09:00:34</td>\n      <td>2020-09-17 00:00:00</td>\n      <td>40.99</td>\n    </tr>\n    <tr>\n      <th>12633</th>\n      <td>A giant new vessel, OceanXplorer, seeks to unv...</td>\n      <td>2020-09-17</td>\n      <td>2020-09-17</td>\n      <td>2020-09-17 09:00:34</td>\n      <td>2020-09-17 00:00:00</td>\n      <td>40.99</td>\n    </tr>\n    <tr>\n      <th>12634</th>\n      <td>While BP and other European companies invest b...</td>\n      <td>2020-09-21</td>\n      <td>2020-09-21</td>\n      <td>2020-09-21 09:00:25</td>\n      <td>2020-09-21 00:00:00</td>\n      <td>39.26</td>\n    </tr>\n    <tr>\n      <th>12635</th>\n      <td>While BP and other European companies invest b...</td>\n      <td>2020-09-21</td>\n      <td>2020-09-21</td>\n      <td>2020-09-21 09:00:25</td>\n      <td>2020-09-21 00:00:00</td>\n      <td>39.26</td>\n    </tr>\n    <tr>\n      <th>12636</th>\n      <td>The proposal would speed up the state’s effort...</td>\n      <td>2020-09-23</td>\n      <td>2020-09-23</td>\n      <td>2020-09-23 19:12:59</td>\n      <td>2020-09-23 00:00:00</td>\n      <td>39.92</td>\n    </tr>\n    <tr>\n      <th>12637</th>\n      <td>The proposal would speed up the state’s effort...</td>\n      <td>2020-09-23</td>\n      <td>2020-09-23</td>\n      <td>2020-09-23 19:12:59</td>\n      <td>2020-09-23 00:00:00</td>\n      <td>39.92</td>\n    </tr>\n    <tr>\n      <th>12638</th>\n      <td>This documentary follows individuals pushing b...</td>\n      <td>2020-09-24</td>\n      <td>2020-09-24</td>\n      <td>2020-09-24 11:00:09</td>\n      <td>2020-09-24 00:00:00</td>\n      <td>40.11</td>\n    </tr>\n    <tr>\n      <th>12639</th>\n      <td>This documentary follows individuals pushing b...</td>\n      <td>2020-09-24</td>\n      <td>2020-09-24</td>\n      <td>2020-09-24 11:00:09</td>\n      <td>2020-09-24 00:00:00</td>\n      <td>40.11</td>\n    </tr>\n    <tr>\n      <th>12640</th>\n      <td>In a conversation with Kara Swisher, the billi...</td>\n      <td>2020-09-28</td>\n      <td>2020-09-28</td>\n      <td>2020-09-28 09:00:05</td>\n      <td>2020-09-28 00:00:00</td>\n      <td>40.47</td>\n    </tr>\n    <tr>\n      <th>12641</th>\n      <td>In a conversation with Kara Swisher, the billi...</td>\n      <td>2020-09-28</td>\n      <td>2020-09-28</td>\n      <td>2020-09-28 09:00:05</td>\n      <td>2020-09-28 00:00:00</td>\n      <td>40.47</td>\n    </tr>\n    <tr>\n      <th>12642</th>\n      <td>Taxes on gasoline and diesel increased by 9.3 ...</td>\n      <td>2020-10-01</td>\n      <td>2020-10-01</td>\n      <td>2020-10-01 18:02:03</td>\n      <td>2020-10-01 00:00:00</td>\n      <td>38.51</td>\n    </tr>\n    <tr>\n      <th>12643</th>\n      <td>Taxes on gasoline and diesel increased by 9.3 ...</td>\n      <td>2020-10-01</td>\n      <td>2020-10-01</td>\n      <td>2020-10-01 18:02:03</td>\n      <td>2020-10-01 00:00:00</td>\n      <td>38.51</td>\n    </tr>\n    <tr>\n      <th>12644</th>\n      <td>Venezuela’s oil reserves, the world’s largest,...</td>\n      <td>2020-10-07</td>\n      <td>2020-10-07</td>\n      <td>2020-10-07 09:00:37</td>\n      <td>2020-10-07 00:00:00</td>\n      <td>39.82</td>\n    </tr>\n    <tr>\n      <th>12645</th>\n      <td>Venezuela’s oil reserves, the world’s largest,...</td>\n      <td>2020-10-07</td>\n      <td>2020-10-07</td>\n      <td>2020-10-07 09:00:37</td>\n      <td>2020-10-07 00:00:00</td>\n      <td>39.82</td>\n    </tr>\n    <tr>\n      <th>12646</th>\n      <td>The oil giant’s takeover of Noble Energy gives...</td>\n      <td>2020-10-09</td>\n      <td>2020-10-09</td>\n      <td>2020-10-09 09:00:24</td>\n      <td>2020-10-09 00:00:00</td>\n      <td>40.44</td>\n    </tr>\n    <tr>\n      <th>12647</th>\n      <td>The oil giant’s takeover of Noble Energy gives...</td>\n      <td>2020-10-09</td>\n      <td>2020-10-09</td>\n      <td>2020-10-09 09:00:24</td>\n      <td>2020-10-09 00:00:00</td>\n      <td>40.44</td>\n    </tr>\n    <tr>\n      <th>12648</th>\n      <td>Teams from the neighboring Middle Eastern coun...</td>\n      <td>2020-10-14</td>\n      <td>2020-10-14</td>\n      <td>2020-10-14 14:12:37</td>\n      <td>2020-10-14 00:00:00</td>\n      <td>40.86</td>\n    </tr>\n    <tr>\n      <th>12649</th>\n      <td>The assault was an escalation of violence in t...</td>\n      <td>2020-10-15</td>\n      <td>2020-10-15</td>\n      <td>2020-10-15 21:17:50</td>\n      <td>2020-10-15 00:00:00</td>\n      <td>40.84</td>\n    </tr>\n    <tr>\n      <th>12650</th>\n      <td>The White House has dismantled major climate a...</td>\n      <td>2020-10-16</td>\n      <td>2020-10-16</td>\n      <td>2020-10-16 17:12:50</td>\n      <td>2020-10-16 00:00:00</td>\n      <td>40.70</td>\n    </tr>\n    <tr>\n      <th>12651</th>\n      <td>Two new books, David H. Rundell’s “Vision or M...</td>\n      <td>2020-10-16</td>\n      <td>2020-10-16</td>\n      <td>2020-10-16 19:00:06</td>\n      <td>2020-10-16 00:00:00</td>\n      <td>40.70</td>\n    </tr>\n    <tr>\n      <th>12652</th>\n      <td>There is heartbreak almost everywhere you look...</td>\n      <td>2020-10-17</td>\n      <td>None</td>\n      <td>2020-10-17 09:00:16</td>\n      <td>None</td>\n      <td>NaN</td>\n    </tr>\n    <tr>\n      <th>12653</th>\n      <td>With the price of a barrel stuck around $40 an...</td>\n      <td>2020-10-19</td>\n      <td>2020-10-19</td>\n      <td>2020-10-19 19:40:14</td>\n      <td>2020-10-19 00:00:00</td>\n      <td>40.69</td>\n    </tr>\n    <tr>\n      <th>12654</th>\n      <td>Joseph R. Biden Jr.'s debate statement that he...</td>\n      <td>2020-10-23</td>\n      <td>2020-10-23</td>\n      <td>2020-10-23 14:30:44</td>\n      <td>2020-10-23 00:00:00</td>\n      <td>39.73</td>\n    </tr>\n    <tr>\n      <th>12655</th>\n      <td>After the candidate called for a “transition” ...</td>\n      <td>2020-10-23</td>\n      <td>2020-10-23</td>\n      <td>2020-10-23 19:02:36</td>\n      <td>2020-10-23 00:00:00</td>\n      <td>39.73</td>\n    </tr>\n    <tr>\n      <th>12656</th>\n      <td>The penalties were aimed at a Russian research...</td>\n      <td>2020-10-23</td>\n      <td>2020-10-23</td>\n      <td>2020-10-23 21:39:34</td>\n      <td>2020-10-23 00:00:00</td>\n      <td>39.73</td>\n    </tr>\n    <tr>\n      <th>12657</th>\n      <td>The Trump administration is trying to fortify ...</td>\n      <td>2020-10-26</td>\n      <td>2020-10-26</td>\n      <td>2020-10-26 22:45:08</td>\n      <td>2020-10-26 00:00:00</td>\n      <td>38.39</td>\n    </tr>\n    <tr>\n      <th>12658</th>\n      <td>Readers discuss Joe Biden’s debate comment abo...</td>\n      <td>2020-10-29</td>\n      <td>2020-10-29</td>\n      <td>2020-10-29 18:10:13</td>\n      <td>2020-10-29 00:00:00</td>\n      <td>35.94</td>\n    </tr>\n    <tr>\n      <th>12659</th>\n      <td>Canada’s oil patch has nearly 100,000 suspende...</td>\n      <td>2020-10-30</td>\n      <td>2020-10-30</td>\n      <td>2020-10-30 08:03:10</td>\n      <td>2020-10-30 00:00:00</td>\n      <td>35.64</td>\n    </tr>\n    <tr>\n      <th>12660</th>\n      <td>How a yearslong battle over U.S.-Venezuela rel...</td>\n      <td>2020-11-01</td>\n      <td>None</td>\n      <td>2020-11-01 18:53:20</td>\n      <td>None</td>\n      <td>NaN</td>\n    </tr>\n    <tr>\n      <th>12661</th>\n      <td>Environmental groups argue that exploratory dr...</td>\n      <td>2020-11-05</td>\n      <td>None</td>\n      <td>2020-11-05 08:00:11</td>\n      <td>None</td>\n      <td>NaN</td>\n    </tr>\n  </tbody>\n</table>\n</div>"
     },
     "metadata": {}
    }
   ],
   "source": [
    "query = ''' \n",
    "    SELECT * \n",
    "    FROM news \n",
    "    LEFT JOIN DailyPrice ON news.date_only = DailyPrice.date_only\n",
    "    ORDER BY Date\n",
    "\n",
    "'''\n",
    "df = pd.read_sql(query,conn)\n",
    "display(df.tail(30)[['abstract','date_only','Date','DailyPrice']])"
   ]
  },
  {
   "cell_type": "code",
   "execution_count": null,
   "metadata": {},
   "outputs": [],
   "source": [
    "query = ''' \n",
    "    SELECT * \n",
    "    FROM DailyPrice \n",
    "\n",
    "'''\n",
    "df = pd.read_sql(query,conn)\n",
    "display(df.tail())"
   ]
  },
  {
   "cell_type": "code",
   "execution_count": null,
   "metadata": {},
   "outputs": [],
   "source": [
    "# Testing News\n",
    "\n",
    "conn = sqlite3.connect('data/energydash.db')\n",
    "\n",
    "query = 'SELECT date,abstract,url,retrieved FROM news ORDER BY date DESC LIMIT 10'\n",
    "df = pd.read_sql_query(query,conn)"
   ]
  }
 ]
}