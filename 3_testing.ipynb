{
 "metadata": {
  "language_info": {
   "codemirror_mode": {
    "name": "ipython",
    "version": 3
   },
   "file_extension": ".py",
   "mimetype": "text/x-python",
   "name": "python",
   "nbconvert_exporter": "python",
   "pygments_lexer": "ipython3",
   "version": "3.8.3-final"
  },
  "orig_nbformat": 2,
  "kernelspec": {
   "name": "Python 3.8.3 64-bit ('base': conda)",
   "display_name": "Python 3.8.3 64-bit ('base': conda)",
   "metadata": {
    "interpreter": {
     "hash": "5d42bb3e1c1afa804c296b0713415242ceb93874b5c1d7016309b07083afc30a"
    }
   }
  }
 },
 "nbformat": 4,
 "nbformat_minor": 2,
 "cells": [
  {
   "cell_type": "code",
   "execution_count": 1,
   "metadata": {},
   "outputs": [],
   "source": [
    "from data.data_functions import *\n",
    "import math\n",
    "import datetime as dt\n",
    "import sqlite3\n",
    "import pandas as pd\n",
    "\n",
    "from datashop import *\n"
   ]
  },
  {
   "cell_type": "code",
   "execution_count": null,
   "metadata": {},
   "outputs": [],
   "source": [
    "path = 'c:/prompt_root/CrudeOilApp'\n",
    "relpath = '/data/nyt_api/nyt_jsons/'\n",
    "\n",
    "conn = sqlite3.connect('data/energydash.db')\n",
    "\n",
    "test_bulk = jsons_to_frame(path,relpath,conn)\n",
    "#test_bulk.to_csv('data/nyt_api/nyt_articles.csv')"
   ]
  },
  {
   "cell_type": "code",
   "execution_count": null,
   "metadata": {},
   "outputs": [],
   "source": [
    "c = conn.cursor()\n",
    "last_date = c.execute('SELECT max(retrieved) from news').fetchone()[0]\n",
    "print(last_date)"
   ]
  },
  {
   "cell_type": "code",
   "execution_count": 6,
   "metadata": {},
   "outputs": [],
   "source": [
    "with open ('data/cache.json','r') as cache_file:\n",
    "    cache_dict = json.load(cache_file)\n",
    "\n",
    "start_date = cache_dict['news_update']\n",
    "end_date = str(dt.datetime.now())\n",
    "\n",
    "quer = 'Oil (Petroleum) and Gasoline'\n",
    "\n",
    "test_call = nytResp(start_date,end_date,quer)\n",
    "\n",
    "if test_call.hits > 0:\n",
    "    conn = sqlite3.connect('data/energydash.db')\n",
    "    test_call.frame.to_sql('news',conn,if_exists='append')\n",
    "\n",
    "with open ('data/cache.json','w') as cache_file:\n",
    "    json.dump(test_call.cache_dict,cache_file)"
   ]
  },
  {
   "cell_type": "code",
   "execution_count": 7,
   "metadata": {},
   "outputs": [],
   "source": [
    "conn = sqlite3.connect('data/energydash.db')\n",
    "\n",
    "query = 'SELECT date,abstract,url,retrieved FROM news ORDER BY date DESC LIMIT 10'\n",
    "df = pd.read_sql_query(query,conn)"
   ]
  },
  {
   "cell_type": "code",
   "execution_count": 5,
   "metadata": {},
   "outputs": [
    {
     "output_type": "display_data",
     "data": {
      "text/plain": "                  date                                           abstract  \\\n0  2020-10-26T22:45:08  The Trump administration is trying to fortify ...   \n1  2020-10-23T21:39:34  The penalties were aimed at a Russian research...   \n2  2020-10-23T19:02:36  After the candidate called for a “transition” ...   \n3  2020-10-23T14:30:44  Joseph R. Biden Jr.'s debate statement that he...   \n4  2020-10-19T19:40:14  With the price of a barrel stuck around $40 an...   \n5  2020-10-17T09:00:16  There is heartbreak almost everywhere you look...   \n6  2020-10-16T19:00:06  Two new books, David H. Rundell’s “Vision or M...   \n7  2020-10-16T17:12:50  The White House has dismantled major climate a...   \n8  2020-10-15T21:17:50  The assault was an escalation of violence in t...   \n9  2020-10-14T14:12:37  Teams from the neighboring Middle Eastern coun...   \n\n                                                 url  \\\n0  https://www.nytimes.com/2020/10/26/world/middl...   \n1  https://www.nytimes.com/2020/10/23/us/politics...   \n2  https://www.nytimes.com/2020/10/23/business/en...   \n3  https://www.nytimes.com/2020/10/23/climate/bid...   \n4  https://www.nytimes.com/2020/10/19/business/en...   \n5  https://www.nytimes.com/2020/10/17/business/pr...   \n6  https://www.nytimes.com/2020/10/16/books/revie...   \n7  https://www.nytimes.com/interactive/2020/clima...   \n8  https://www.nytimes.com/2020/10/15/world/asia/...   \n9  https://www.nytimes.com/2020/10/14/world/middl...   \n\n                    retrieved  \n0  2020-10-27 20:43:46.449274  \n1  2020-10-27 20:43:46.449274  \n2  2020-10-27 20:43:46.449274  \n3  2020-10-27 20:43:46.449274  \n4  2020-10-27 20:43:46.449274  \n5  2020-10-27 20:43:46.449274  \n6  2020-10-27 20:43:46.449274  \n7  2020-10-27 20:43:46.449274  \n8  2020-10-27 20:43:46.449274  \n9  2020-10-27 20:43:46.449274  ",
      "text/html": "<div>\n<style scoped>\n    .dataframe tbody tr th:only-of-type {\n        vertical-align: middle;\n    }\n\n    .dataframe tbody tr th {\n        vertical-align: top;\n    }\n\n    .dataframe thead th {\n        text-align: right;\n    }\n</style>\n<table border=\"1\" class=\"dataframe\">\n  <thead>\n    <tr style=\"text-align: right;\">\n      <th></th>\n      <th>date</th>\n      <th>abstract</th>\n      <th>url</th>\n      <th>retrieved</th>\n    </tr>\n  </thead>\n  <tbody>\n    <tr>\n      <th>0</th>\n      <td>2020-10-26T22:45:08</td>\n      <td>The Trump administration is trying to fortify ...</td>\n      <td>https://www.nytimes.com/2020/10/26/world/middl...</td>\n      <td>2020-10-27 20:43:46.449274</td>\n    </tr>\n    <tr>\n      <th>1</th>\n      <td>2020-10-23T21:39:34</td>\n      <td>The penalties were aimed at a Russian research...</td>\n      <td>https://www.nytimes.com/2020/10/23/us/politics...</td>\n      <td>2020-10-27 20:43:46.449274</td>\n    </tr>\n    <tr>\n      <th>2</th>\n      <td>2020-10-23T19:02:36</td>\n      <td>After the candidate called for a “transition” ...</td>\n      <td>https://www.nytimes.com/2020/10/23/business/en...</td>\n      <td>2020-10-27 20:43:46.449274</td>\n    </tr>\n    <tr>\n      <th>3</th>\n      <td>2020-10-23T14:30:44</td>\n      <td>Joseph R. Biden Jr.'s debate statement that he...</td>\n      <td>https://www.nytimes.com/2020/10/23/climate/bid...</td>\n      <td>2020-10-27 20:43:46.449274</td>\n    </tr>\n    <tr>\n      <th>4</th>\n      <td>2020-10-19T19:40:14</td>\n      <td>With the price of a barrel stuck around $40 an...</td>\n      <td>https://www.nytimes.com/2020/10/19/business/en...</td>\n      <td>2020-10-27 20:43:46.449274</td>\n    </tr>\n    <tr>\n      <th>5</th>\n      <td>2020-10-17T09:00:16</td>\n      <td>There is heartbreak almost everywhere you look...</td>\n      <td>https://www.nytimes.com/2020/10/17/business/pr...</td>\n      <td>2020-10-27 20:43:46.449274</td>\n    </tr>\n    <tr>\n      <th>6</th>\n      <td>2020-10-16T19:00:06</td>\n      <td>Two new books, David H. Rundell’s “Vision or M...</td>\n      <td>https://www.nytimes.com/2020/10/16/books/revie...</td>\n      <td>2020-10-27 20:43:46.449274</td>\n    </tr>\n    <tr>\n      <th>7</th>\n      <td>2020-10-16T17:12:50</td>\n      <td>The White House has dismantled major climate a...</td>\n      <td>https://www.nytimes.com/interactive/2020/clima...</td>\n      <td>2020-10-27 20:43:46.449274</td>\n    </tr>\n    <tr>\n      <th>8</th>\n      <td>2020-10-15T21:17:50</td>\n      <td>The assault was an escalation of violence in t...</td>\n      <td>https://www.nytimes.com/2020/10/15/world/asia/...</td>\n      <td>2020-10-27 20:43:46.449274</td>\n    </tr>\n    <tr>\n      <th>9</th>\n      <td>2020-10-14T14:12:37</td>\n      <td>Teams from the neighboring Middle Eastern coun...</td>\n      <td>https://www.nytimes.com/2020/10/14/world/middl...</td>\n      <td>2020-10-27 20:43:46.449274</td>\n    </tr>\n  </tbody>\n</table>\n</div>"
     },
     "metadata": {}
    }
   ],
   "source": [
    "display(df)"
   ]
  },
  {
   "cell_type": "code",
   "execution_count": null,
   "metadata": {},
   "outputs": [],
   "source": [
    "import dash_html_components as html\n",
    "\n",
    "def makelink(url):\n",
    "    link = html.A(html.P('Full Article'),href=url)\n",
    "    return link\n",
    "    \n",
    "df['hlinks']= df['url'].apply(makelink)"
   ]
  },
  {
   "cell_type": "code",
   "execution_count": null,
   "metadata": {},
   "outputs": [],
   "source": [
    "print(df)"
   ]
  },
  {
   "cell_type": "code",
   "execution_count": null,
   "metadata": {},
   "outputs": [],
   "source": [
    "for item in columns:\n",
    "    item['type'] = 'text',\n",
    "    item['presentation'] = 'markdown'\n",
    "\n",
    "news_table = dash_table.DataTable(\n",
    "    id='newstable',\n",
    "    columns = columns,\n",
    "    data=df_news.to_dict('records')\n",
    ")\n"
   ]
  },
  {
   "cell_type": "code",
   "execution_count": null,
   "metadata": {},
   "outputs": [],
   "source": []
  }
 ]
}