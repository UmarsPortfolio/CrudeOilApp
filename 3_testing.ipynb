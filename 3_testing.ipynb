{
 "metadata": {
  "language_info": {
   "codemirror_mode": {
    "name": "ipython",
    "version": 3
   },
   "file_extension": ".py",
   "mimetype": "text/x-python",
   "name": "python",
   "nbconvert_exporter": "python",
   "pygments_lexer": "ipython3",
   "version": "3.8.3-final"
  },
  "orig_nbformat": 2,
  "kernelspec": {
   "name": "python3",
   "display_name": "Python 3.8.3 64-bit (conda)",
   "metadata": {
    "interpreter": {
     "hash": "5d42bb3e1c1afa804c296b0713415242ceb93874b5c1d7016309b07083afc30a"
    }
   }
  }
 },
 "nbformat": 4,
 "nbformat_minor": 2,
 "cells": [
  {
   "cell_type": "code",
   "execution_count": null,
   "metadata": {},
   "outputs": [],
   "source": [
    "!git pull"
   ]
  },
  {
   "cell_type": "code",
   "execution_count": 7,
   "metadata": {},
   "outputs": [
    {
     "output_type": "stream",
     "name": "stderr",
     "text": [
      "warning: LF will be replaced by CRLF in 3_testing.ipynb.\n",
      "The file will have its original line endings in your working directory\n",
      "[master 3a69ed2f] updated update script to not put redundant entries in db anymore\n",
      " 4 files changed, 19 insertions(+), 15 deletions(-)\n",
      "To https://github.com/thekhan314/CrudeOilApp.git\n",
      "   bbbdedb8..3a69ed2f  master -> master\n"
     ]
    }
   ],
   "source": [
    "!git add .\n",
    "!git commit -m \"updated update script to not put redundant entries in db anymore\"\n",
    "!git push\n"
   ]
  },
  {
   "cell_type": "code",
   "execution_count": 1,
   "metadata": {},
   "outputs": [],
   "source": [
    "from data_functions import *\n",
    "import math\n",
    "import datetime as dt\n",
    "import sqlite3\n",
    "import pandas as pd\n",
    "\n",
    "from datashop import *\n",
    "\n",
    "path = 'c:/prompt_root/CrudeOilApp'\n",
    "relpath = '/data/nyt_api/nyt_jsons/'\n",
    "\n",
    "conn = sqlite3.connect('data/energydash.db')\n",
    "\n",
    "eia_dict = {\n",
    "    'PET.WTTSTUS1.W':['WeeklyStocks','235081','%Y%m%d'],\n",
    "    'PET.RWTC.D':['DailyPrice','241335','%Y%m%d'],\n",
    "    'PET.WRPUPUS2.W':['ProductSupplied','401676','%Y%m%d'],\n",
    "    'PET.E_ERTRRO_XR0_NUS_C.M':['MonthlyRigCount','296749','%Y%m']\n",
    "}\n",
    "\n",
    "#test_bulk = jsons_to_frame(path,relpath,conn)\n",
    "#test_bulk.to_csv('data/nyt_api/nyt_articles.csv')"
   ]
  },
  {
   "cell_type": "code",
   "execution_count": 3,
   "metadata": {},
   "outputs": [],
   "source": [
    "query = \" ALTER TABLE DIA RENAME TO DIA_closing\"\n",
    "last_archive_date = conn.execute(query)\n"
   ]
  },
  {
   "cell_type": "code",
   "execution_count": null,
   "metadata": {},
   "outputs": [],
   "source": [
    "# Lates News\n",
    "\n",
    "query = \" SELECT MAX(Date) FROM news LIMIT 1\"\n",
    "last_archive_date = str(conn.execute(query).fetchall()[0][0])\n",
    "\n",
    "end_date = str(dtime.datetime.today().date())\n",
    "\n",
    "query = 'Oil (Petroleum) and Gasoline'\n",
    "\n",
    "recents_call = nytResp(last_archive_date,end_date,query)\n",
    "\n",
    "if recents_call.hits > 0:\n",
    "\n",
    "    df_hits = recents_call.frame\n",
    "\n",
    "    query_lastnews = \" SELECT * FROM news ORDER BY Date DESC LIMIT 50\"\n",
    "    df_lastnews = pd.read_sql(query_lastnews,conn)\n",
    "    df_lastnews = df_lastnews[['Date','abstract''id']]\n",
    "\n",
    "    df_hits = df_hits[~df_hits['id'].isin(df_lastnews['id'])]\n",
    "    \n",
    "    \n",
    "    hits = len(df_hits)   \n",
    "\n",
    "    if hits > 0:               \n",
    "        \n",
    "        records = df_hits[['abstract','Date','url']].to_dict(orient='records')\n",
    "        for record in records:\n",
    "            log_dict['News'].append(record)\n",
    "\n",
    "        df_hits.to_sql('news',conn,if_exists='append')"
   ]
  },
  {
   "cell_type": "code",
   "execution_count": null,
   "metadata": {},
   "outputs": [],
   "source": [
    "query_lastnews = \" SELECT * FROM news WHERE Date < '2020-10-23 17:54:49.445231' ORDER BY Date DESC LIMIT 50\"\n",
    "df_lastnews = pd.read_sql(query_lastnews,conn)\n",
    "df_lastnews = df_lastnews[['Date','abstract','WeeklyStocks','DIA_closing','DailyPrice','ProductSupplied','id']]\n",
    "print(df_lastnews)"
   ]
  },
  {
   "cell_type": "code",
   "execution_count": null,
   "metadata": {},
   "outputs": [],
   "source": [
    "\n",
    "last_archive_date = \"2020-10-01 17:54:49.445231\"\n",
    "\n",
    "end_date = dt.datetime.today().date()\n",
    "\n",
    "query = 'Oil (Petroleum) and Gasoline'\n",
    "\n",
    "recents_call = nytResp(last_archive_date,end_date,query)"
   ]
  },
  {
   "cell_type": "code",
   "execution_count": null,
   "metadata": {},
   "outputs": [],
   "source": [
    "df_recent = recents_call.frame\n",
    "print(df_recent)\n"
   ]
  },
  {
   "cell_type": "code",
   "execution_count": null,
   "metadata": {},
   "outputs": [],
   "source": [
    "df_new = df_recent[~df_recent['id'].isin(df_lastnews['id'])]"
   ]
  },
  {
   "cell_type": "code",
   "execution_count": null,
   "metadata": {},
   "outputs": [],
   "source": [
    "print(df_new)"
   ]
  },
  {
   "cell_type": "code",
   "execution_count": null,
   "metadata": {},
   "outputs": [],
   "source": [
    "\n",
    "\n",
    "query = \" SELECT MAX(Date) FROM news LIMIT 1\"\n",
    "last_archive_date = conn.execute(query).fetchall()[0][0]\n",
    "last_archive_date = \"2020-10-23 17:54:49.445231\"\n",
    "\n",
    "end_date = dt.datetime.today().date()\n",
    "\n",
    "query = 'Oil (Petroleum) and Gasoline'\n",
    "\n",
    "recents_call = nytResp(last_archive_date,end_date,query)\n",
    "\n",
    "query_lastnews = \" SELECT * FROM news WHERE Date < 2020-11-05 17:54:49 ORDER BY Date DESC LIMIT 50\"\n",
    "df_lastnews = pd.read_sql(query_lastnews,conn)\n",
    "df_lastnews = df[['Date','abstract','WeeklyStocks','DIA_closing','DailyPrice','ProductSupplied','id']]\n",
    "\n",
    "display(df)\n",
    "\n",
    "if recents_call.hits > 0:\n",
    "    hits = len(recents_call.frame)                  \n",
    "    df_current = pd.concat([df_current] * hits).reset_index()    \n",
    "    \n",
    "    df_news = pd.concat([\n",
    "        recents_call.frame,\n",
    "        df_current],\n",
    "        axis=1)\n",
    "\n",
    "    records = df_news[['abstract','Date','url']].to_dict(orient='records')\n",
    "    for record in records:\n",
    "        log_dict['News'].append(record)\n",
    "\n",
    "    df_news.to_sql('news',conn,if_exists='append')\n",
    "\n",
    "    #__________  record news updated time\n",
    "\n",
    "cache_dict['news_update'] = end_date"
   ]
  },
  {
   "cell_type": "code",
   "execution_count": 4,
   "metadata": {},
   "outputs": [
    {
     "output_type": "stream",
     "name": "stdout",
     "text": [
      "[('MonthlyRigCount',), ('WeeklyStocks',), ('DailyPrice',), ('ProductSupplied',), ('DIA_closing',), ('news',)]\n"
     ]
    }
   ],
   "source": [
    "# CHeck how many tables in db\n",
    "cursor = conn.cursor()\n",
    "\n",
    "cursor.execute(\"SELECT name FROM sqlite_master WHERE type='table';\")\n",
    "print(cursor.fetchall())"
   ]
  },
  {
   "cell_type": "code",
   "execution_count": null,
   "metadata": {},
   "outputs": [],
   "source": [
    "# Last items in news\n",
    "query = \" SELECT * FROM news ORDER BY Date DESC LIMIT 50\"\n",
    "df = pd.read_sql(query,conn)\n",
    "df = df[['Date','abstract','WeeklyStocks','DIA_closing','DailyPrice','ProductSupplied','id']]\n",
    "\n",
    "display(df)"
   ]
  },
  {
   "source": [
    "# Intra Day"
   ],
   "cell_type": "markdown",
   "metadata": {}
  },
  {
   "cell_type": "code",
   "execution_count": null,
   "metadata": {},
   "outputs": [],
   "source": []
  }
 ]
}